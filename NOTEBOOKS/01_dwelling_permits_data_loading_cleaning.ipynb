{
 "cells": [
  {
   "cell_type": "markdown",
   "id": "704e95b4-7f46-4f19-abd6-6b2a417d238d",
   "metadata": {
    "jp-MarkdownHeadingCollapsed": true
   },
   "source": [
    "## Preliminaries"
   ]
  },
  {
   "cell_type": "markdown",
   "id": "b5c419bd-47fe-44e8-a0d6-605752abf019",
   "metadata": {},
   "source": [
    "## Testing function: test_sequence()"
   ]
  },
  {
   "cell_type": "code",
   "execution_count": 1,
   "id": "d1e31f90-9e34-4c5d-925f-e7dabdc7da14",
   "metadata": {},
   "outputs": [],
   "source": [
    "# function to streamline testing\n",
    "def test_sequence():\n",
    "\n",
    "    # Instantiate dwelling permits \n",
    "    dwelling_permits = PermitsProcessor(\"issued_building_permits_filter_dwelling_purposes.csv\")\n",
    "    print('Dwelling permits instantiated.\\n')\n",
    "    \n",
    "    # Clean data \n",
    "    dwelling_permits, dwelling_permits_df = dwelling_permits.clean_data()\n",
    "    print('Data has been cleaned.\\n')\n",
    "    display(dwelling_permits_df.info())"
   ]
  },
  {
   "cell_type": "code",
   "execution_count": 2,
   "id": "67c51bff-8991-4841-b225-e8994c38f283",
   "metadata": {},
   "outputs": [],
   "source": [
    "# Standard imports\n",
    "import numpy as np\n",
    "import pandas as pd\n",
    "import matplotlib.pyplot as plt\n",
    "import seaborn as sns\n",
    "from warnings import filterwarnings\n",
    "\n",
    "# Important functionality for this lesson\n",
    "from scipy import stats\n",
    "import statsmodels.api as sm\n",
    "import os"
   ]
  },
  {
   "cell_type": "code",
   "execution_count": 3,
   "id": "7f741b06-0a3f-4696-b70d-316d2632404d",
   "metadata": {},
   "outputs": [],
   "source": [
    "# Set directory\n",
    "os.chdir(\"C:/Users/emshe/Desktop/BRAINSTATION/CAPSTONE/capstonegitrepo/DATA/PERMITS\")"
   ]
  },
  {
   "cell_type": "markdown",
   "id": "3b40168f-ea49-438b-af61-fb8fd6ef4ea0",
   "metadata": {},
   "source": [
    "## Define base data processor class"
   ]
  },
  {
   "cell_type": "code",
   "execution_count": 4,
   "id": "177054e8-b093-4ea8-ba06-b5eba7b95d0e",
   "metadata": {},
   "outputs": [],
   "source": [
    "class BaseDataProcessor:\n",
    "    # Initialize with just a filepath\n",
    "    def __init__(self, data_path):\n",
    "        self.data_path = data_path\n",
    "        self.original_data = pd.read_csv(self.data_path)\n",
    "        self.data = pd.read_csv(self.data_path)\n",
    "        self.cleaned = False\n",
    "    def reset_data(self):\n",
    "        self.data = pd.read_csv(self.data_path)\n",
    "        self.cleaned = False\n",
    "        return self,self.data\n",
    "    def is_clean(self):\n",
    "        print(f'Data is clean: {self.cleaned}')\n",
    "        return self\n",
    "    def clean_data(self):\n",
    "        pass\n",
    "\n",
    "    def preprocess_data(self):\n",
    "        pass\n",
    "\n",
    "    def load_and_process_data(self):\n",
    "        pass\n",
    "\n",
    "    def save_processed_data(self):\n",
    "        pass"
   ]
  },
  {
   "cell_type": "code",
   "execution_count": 5,
   "id": "fa91c412-c9da-482c-abcd-daed2b430130",
   "metadata": {},
   "outputs": [],
   "source": [
    "class PermitsProcessor(BaseDataProcessor):\n",
    "    def clean_data(self):\n",
    "        if self.cleaned is False:\n",
    "            self.data = self.update_data_types()\n",
    "            self.data = self.drop_unnecessary_cols()\n",
    "            self.data = self.remove_ProjectValue_zeros()\n",
    "            self.cleaned = True\n",
    "        return self, self.data\n",
    "    def update_data_types(self):\n",
    "        for date_col in ['IssueDate','PermitNumberCreatedDate']:\n",
    "            self.data[date_col] = pd.to_datetime(self.data[date_col],format='%Y-%m-%d') # Change date columns to datetime format\n",
    "        for date_col in ['YearMonth']:\n",
    "            self.data[date_col] = pd.to_datetime(self.data[date_col],format = '%Y-%m')\n",
    "        return self.data\n",
    "    def drop_unnecessary_cols(self):\n",
    "        if self.cleaned is False:\n",
    "            # Drop IssueYear if there are no conflicts\n",
    "            if (self.data['IssueDate'].dt.year != self.data['IssueYear']).sum() == 0: # Check if IssueDate and IssueYear are consistent\n",
    "                        self.data = self.data.drop(columns = ['IssueYear']) # Drop redundant IssueYear column\n",
    "                        # return self.data\n",
    "            # Drop YearMonth from data set if there are no conflicts\n",
    "            YYConflicts = (self.data['IssueDate'].dt.year != self.data['YearMonth'].dt.year)\n",
    "            MMConflicts = (self.data['IssueDate'].dt.month != self.data['YearMonth'].dt.month)\n",
    "            conflict_sum = YYConflicts.sum() + MMConflicts.sum()\n",
    "            if conflict_sum == 0:\n",
    "                self.data = self.data.drop(columns = ['YearMonth'])\n",
    "            return self.data\n",
    "    def remove_ProjectValue_zeros(self):\n",
    "        self.data = self.data[self.data['ProjectValue'] != 0.0]\n",
    "        return self.data"
   ]
  },
  {
   "cell_type": "code",
   "execution_count": 6,
   "id": "78732a69-68e2-4910-85eb-2c3147aa0a99",
   "metadata": {},
   "outputs": [
    {
     "name": "stdout",
     "output_type": "stream",
     "text": [
      "Dwelling permits instantiated.\n",
      "\n",
      "Data has been cleaned.\n",
      "\n",
      "<class 'pandas.core.frame.DataFrame'>\n",
      "Index: 25824 entries, 0 to 32743\n",
      "Data columns (total 18 columns):\n",
      " #   Column                     Non-Null Count  Dtype         \n",
      "---  ------                     --------------  -----         \n",
      " 0   PermitNumber               25824 non-null  object        \n",
      " 1   PermitNumberCreatedDate    25824 non-null  datetime64[ns]\n",
      " 2   IssueDate                  25824 non-null  datetime64[ns]\n",
      " 3   PermitElapsedDays          25824 non-null  int64         \n",
      " 4   ProjectValue               25824 non-null  float64       \n",
      " 5   TypeOfWork                 25824 non-null  object        \n",
      " 6   Address                    25686 non-null  object        \n",
      " 7   ProjectDescription         25824 non-null  object        \n",
      " 8   PermitCategory             16822 non-null  object        \n",
      " 9   Applicant                  25824 non-null  object        \n",
      " 10  ApplicantAddress           25745 non-null  object        \n",
      " 11  PropertyUse                25824 non-null  object        \n",
      " 12  SpecificUseCategory        25823 non-null  object        \n",
      " 13  BuildingContractor         18335 non-null  object        \n",
      " 14  BuildingContractorAddress  12741 non-null  object        \n",
      " 15  GeoLocalArea               25509 non-null  object        \n",
      " 16  Geom                       25509 non-null  object        \n",
      " 17  geo_point_2d               25509 non-null  object        \n",
      "dtypes: datetime64[ns](2), float64(1), int64(1), object(14)\n",
      "memory usage: 3.7+ MB\n"
     ]
    },
    {
     "data": {
      "text/plain": [
       "None"
      ]
     },
     "metadata": {},
     "output_type": "display_data"
    }
   ],
   "source": [
    "# Run test sequence: initation, cleaning, etc.\n",
    "test_sequence()"
   ]
  },
  {
   "cell_type": "code",
   "execution_count": 7,
   "id": "381b61e4-f7e1-40ce-a50b-e137360bfb31",
   "metadata": {
    "jupyter": {
     "source_hidden": true
    }
   },
   "outputs": [
    {
     "name": "stdout",
     "output_type": "stream",
     "text": [
      "Data is clean: False\n"
     ]
    }
   ],
   "source": [
    "# Initialize dwelling permits instance\n",
    "dwelling_permits = PermitsProcessor(\"issued_building_permits_filter_dwelling_purposes.csv\")\n",
    "\n",
    "# Reset data using .reset_data() method\n",
    "dwelling_permits.reset_data()\n",
    "\n",
    "# Check if data is clean\n",
    "print(f'Data is clean: {dwelling_permits.cleaned}')"
   ]
  },
  {
   "cell_type": "code",
   "execution_count": 8,
   "id": "7cdce196-eb0a-4875-b52f-a40acad5a4a3",
   "metadata": {
    "jupyter": {
     "source_hidden": true
    }
   },
   "outputs": [
    {
     "data": {
      "text/plain": [
       "Index(['PermitNumber', 'PermitNumberCreatedDate', 'IssueDate',\n",
       "       'PermitElapsedDays', 'ProjectValue', 'TypeOfWork', 'Address',\n",
       "       'ProjectDescription', 'PermitCategory', 'Applicant', 'ApplicantAddress',\n",
       "       'PropertyUse', 'SpecificUseCategory', 'BuildingContractor',\n",
       "       'BuildingContractorAddress', 'IssueYear', 'GeoLocalArea', 'Geom',\n",
       "       'YearMonth', 'geo_point_2d'],\n",
       "      dtype='object')"
      ]
     },
     "execution_count": 8,
     "metadata": {},
     "output_type": "execute_result"
    }
   ],
   "source": [
    "# store dwelling_permits_og_df using .original_data method\n",
    "dwelling_permits_og_df = dwelling_permits.original_data\n",
    "dwelling_permits_og_df.columns"
   ]
  },
  {
   "cell_type": "code",
   "execution_count": 9,
   "id": "b9418128-e15a-4743-9f22-3d9d40a04dde",
   "metadata": {},
   "outputs": [],
   "source": [
    "# Uncomment to run .clean_data() method\n",
    "# Set dwelling_permits_df as numpy array returned by .clean_data() method\n",
    "    # dwelling_permits_df = dwelling_permits.clean_data()\n",
    "    # dwelling_permits_df.info()"
   ]
  },
  {
   "cell_type": "code",
   "execution_count": 10,
   "id": "a03ddfd3-eb7a-4f7a-98d9-a8cbffe09359",
   "metadata": {},
   "outputs": [],
   "source": [
    "# Clean data\n",
    "dwelling_permits, dwelling_permits_df = dwelling_permits.clean_data()"
   ]
  },
  {
   "cell_type": "code",
   "execution_count": 11,
   "id": "0e9326b6-f1b5-4ac9-bfbe-beed96c3f204",
   "metadata": {},
   "outputs": [
    {
     "name": "stdout",
     "output_type": "stream",
     "text": [
      "Data is clean: True\n"
     ]
    },
    {
     "data": {
      "text/plain": [
       "<__main__.PermitsProcessor at 0x2af0a92e150>"
      ]
     },
     "execution_count": 11,
     "metadata": {},
     "output_type": "execute_result"
    }
   ],
   "source": [
    "# Check if data is clean\n",
    "dwelling_permits.is_clean()"
   ]
  },
  {
   "cell_type": "markdown",
   "id": "06bd270a-f8c7-44cc-bc7e-59b84e4159ff",
   "metadata": {},
   "source": [
    "## Step 1: update data types"
   ]
  },
  {
   "cell_type": "code",
   "execution_count": 12,
   "id": "97843ecf-b2be-431a-adc2-36c2e5d101c8",
   "metadata": {
    "scrolled": true
   },
   "outputs": [],
   "source": [
    "# Update date columns of dwelling_permits_df to datetime format with .update_data_types method\n",
    "# dwelling_permits_df = dwelling_permits.update_data_types()\n",
    "# dwelling_permits_df.info()"
   ]
  },
  {
   "cell_type": "code",
   "execution_count": 13,
   "id": "67372281-936b-4436-9b2d-195faa29c7ed",
   "metadata": {
    "scrolled": true
   },
   "outputs": [],
   "source": [
    "# Update data types \n",
    "# dwelling_permits_df = dwelling_permits.update_data_types()\n",
    "# dwelling_permits_df.info()"
   ]
  },
  {
   "cell_type": "markdown",
   "id": "ea070955-98c9-46b5-8265-c5b3c5f5db62",
   "metadata": {},
   "source": [
    "## Step 2: Drop unnecessary columns (IssueYear, YearMonth)"
   ]
  },
  {
   "cell_type": "code",
   "execution_count": 14,
   "id": "8214a2fe-ae25-4d4a-8e6e-794801843ca9",
   "metadata": {},
   "outputs": [
    {
     "name": "stdout",
     "output_type": "stream",
     "text": [
      "Issue Year in Columns:  False\n"
     ]
    }
   ],
   "source": [
    "# Check if IssueYear is present as column\n",
    "issue_year_present = ('IssueYear' in dwelling_permits_df.columns)\n",
    "print(f'Issue Year in Columns:  {issue_year_present}' )"
   ]
  },
  {
   "cell_type": "code",
   "execution_count": 15,
   "id": "ed7aecda-1000-48bd-a761-a80226a9f472",
   "metadata": {},
   "outputs": [
    {
     "name": "stdout",
     "output_type": "stream",
     "text": [
      "Data is clean: False\n"
     ]
    }
   ],
   "source": [
    "# Reset data and check if cleaned (should be False)\n",
    "dwelling_permits.reset_data()\n",
    "dwelling_permits_df = dwelling_permits.data\n",
    "print(f'Data is clean: {dwelling_permits.cleaned}')"
   ]
  },
  {
   "cell_type": "code",
   "execution_count": 16,
   "id": "293cf9b2-280e-4b93-b420-78d112506d03",
   "metadata": {},
   "outputs": [
    {
     "name": "stdout",
     "output_type": "stream",
     "text": [
      "<class 'pandas.core.frame.DataFrame'>\n",
      "RangeIndex: 32744 entries, 0 to 32743\n",
      "Data columns (total 20 columns):\n",
      " #   Column                     Non-Null Count  Dtype  \n",
      "---  ------                     --------------  -----  \n",
      " 0   PermitNumber               32744 non-null  object \n",
      " 1   PermitNumberCreatedDate    32744 non-null  object \n",
      " 2   IssueDate                  32744 non-null  object \n",
      " 3   PermitElapsedDays          32744 non-null  int64  \n",
      " 4   ProjectValue               32744 non-null  float64\n",
      " 5   TypeOfWork                 32744 non-null  object \n",
      " 6   Address                    32581 non-null  object \n",
      " 7   ProjectDescription         32744 non-null  object \n",
      " 8   PermitCategory             16931 non-null  object \n",
      " 9   Applicant                  32744 non-null  object \n",
      " 10  ApplicantAddress           32653 non-null  object \n",
      " 11  PropertyUse                32744 non-null  object \n",
      " 12  SpecificUseCategory        32743 non-null  object \n",
      " 13  BuildingContractor         22636 non-null  object \n",
      " 14  BuildingContractorAddress  15391 non-null  object \n",
      " 15  IssueYear                  32744 non-null  int64  \n",
      " 16  GeoLocalArea               32375 non-null  object \n",
      " 17  Geom                       32375 non-null  object \n",
      " 18  YearMonth                  32744 non-null  object \n",
      " 19  geo_point_2d               32375 non-null  object \n",
      "dtypes: float64(1), int64(2), object(17)\n",
      "memory usage: 5.0+ MB\n"
     ]
    },
    {
     "data": {
      "text/plain": [
       "None"
      ]
     },
     "metadata": {},
     "output_type": "display_data"
    }
   ],
   "source": [
    "# Check column info\n",
    "display(dwelling_permits_df.info())"
   ]
  },
  {
   "cell_type": "code",
   "execution_count": 17,
   "id": "5d598552-d1a3-4ea7-a3c3-d7829b069e30",
   "metadata": {},
   "outputs": [],
   "source": [
    "# Drop Issue Year from data set if there are no conflicts\n",
    "# YearConflicts = (dwelling_permits_df['IssueDate'].dt.year != dwelling_permits_df['IssueYear'])\n",
    "# conflict_sum = YearConflicts.sum()\n",
    "# if conflict_sum == 0:\n",
    "#     print('There are no conflicts between issue date and issue year. Issue year will be dropped.')\n",
    "#     dwelling_permits_df.drop(['IssueYear'], axis = 1,inplace = True)\n",
    "#     print(f'''Column IssueYear Present: {'IssueYear' in dwelling_permits_df.columns}''')\n",
    "#     # display(dwelling_permits_df.head())\n",
    "# else: Print(f'''There is a conflict between issue data and issue year. Issue year will not be dropped and should be investigated.''')\n",
    "                "
   ]
  },
  {
   "cell_type": "code",
   "execution_count": 18,
   "id": "ec08c995-5391-4644-9828-1ab8cb859639",
   "metadata": {},
   "outputs": [],
   "source": [
    "# Drop YearMonth from data set if there are no conflicts\n",
    "# YYConflicts = (dwelling_permits_df['IssueDate'].dt.year != dwelling_permits_df['YearMonth'].dt.year)\n",
    "# MMConflicts = (dwelling_permits_df['IssueDate'].dt.month != dwelling_permits_df['YearMonth'].dt.month)\n",
    "# conflict_sum = YYConflicts.sum() + MMConflicts.sum()\n",
    "# if conflict_sum == 0:\n",
    "#     print('There are no conflicts between issue date and issue month/year. Issue monthyear will be dropped.')\n",
    "#     dwelling_permits_df.drop(['YearMonth'], axis = 1,inplace = True)\n",
    "#     print(f'''Column IssueYear Present: {'YearMonth' in dwelling_permits_df.columns}''')\n",
    "#     # display(dwelling_permits_df.head())\n",
    "# else: Print(f'''There is a conflict between issue data and issue month/year. Issue year will not be dropped and should be investigated.''')\n",
    "                "
   ]
  },
  {
   "cell_type": "markdown",
   "id": "50876847-3854-45b2-b25f-f8e08129b3b3",
   "metadata": {},
   "source": [
    "## Step 3: Deal with projects with zero project value"
   ]
  },
  {
   "cell_type": "code",
   "execution_count": 19,
   "id": "3bf789f7-fe1a-4216-a0be-ab2e09a22330",
   "metadata": {},
   "outputs": [
    {
     "name": "stdout",
     "output_type": "stream",
     "text": [
      "The zero_value_df is length 6920.\n"
     ]
    },
    {
     "data": {
      "text/html": [
       "<div>\n",
       "<style scoped>\n",
       "    .dataframe tbody tr th:only-of-type {\n",
       "        vertical-align: middle;\n",
       "    }\n",
       "\n",
       "    .dataframe tbody tr th {\n",
       "        vertical-align: top;\n",
       "    }\n",
       "\n",
       "    .dataframe thead th {\n",
       "        text-align: right;\n",
       "    }\n",
       "</style>\n",
       "<table border=\"1\" class=\"dataframe\">\n",
       "  <thead>\n",
       "    <tr style=\"text-align: right;\">\n",
       "      <th></th>\n",
       "      <th>PermitNumber</th>\n",
       "      <th>PermitNumberCreatedDate</th>\n",
       "      <th>IssueDate</th>\n",
       "      <th>PermitElapsedDays</th>\n",
       "      <th>ProjectValue</th>\n",
       "      <th>TypeOfWork</th>\n",
       "      <th>Address</th>\n",
       "      <th>ProjectDescription</th>\n",
       "      <th>PermitCategory</th>\n",
       "      <th>Applicant</th>\n",
       "      <th>ApplicantAddress</th>\n",
       "      <th>PropertyUse</th>\n",
       "      <th>SpecificUseCategory</th>\n",
       "      <th>BuildingContractor</th>\n",
       "      <th>BuildingContractorAddress</th>\n",
       "      <th>IssueYear</th>\n",
       "      <th>GeoLocalArea</th>\n",
       "      <th>Geom</th>\n",
       "      <th>YearMonth</th>\n",
       "      <th>geo_point_2d</th>\n",
       "    </tr>\n",
       "  </thead>\n",
       "  <tbody>\n",
       "    <tr>\n",
       "      <th>11405</th>\n",
       "      <td>BP-2017-02182</td>\n",
       "      <td>2017-04-26</td>\n",
       "      <td>2017-06-16</td>\n",
       "      <td>51</td>\n",
       "      <td>0.0</td>\n",
       "      <td>Salvage and Abatement</td>\n",
       "      <td>250 E 53RD AVENUE, Vancouver, BC V5X 1H9</td>\n",
       "      <td>Low Density Housing - Salvage and Abatement - ...</td>\n",
       "      <td>NaN</td>\n",
       "      <td>SHARON TATEISHI</td>\n",
       "      <td>7600 Decourcy Crescent \\nRICHMOND, BC  V7C4E9</td>\n",
       "      <td>Dwelling Uses</td>\n",
       "      <td>Single Detached House</td>\n",
       "      <td>East West Excavating Ltd</td>\n",
       "      <td>4918 VICTORIA DRIVE  \\nVancouver, BC  V5P 3T6</td>\n",
       "      <td>2017</td>\n",
       "      <td>Sunset</td>\n",
       "      <td>{\"coordinates\":[-123.1006047,49.2216766],\"type...</td>\n",
       "      <td>2017-06</td>\n",
       "      <td>49.2216766, -123.1006047</td>\n",
       "    </tr>\n",
       "    <tr>\n",
       "      <th>29042</th>\n",
       "      <td>BP-2024-01879</td>\n",
       "      <td>2024-05-24</td>\n",
       "      <td>2024-05-31</td>\n",
       "      <td>7</td>\n",
       "      <td>0.0</td>\n",
       "      <td>Salvage and Abatement</td>\n",
       "      <td>1410 W 38TH AVENUE, Vancouver, BC V6M 1R5</td>\n",
       "      <td>Low Density Housing - Salvage and Abatement - ...</td>\n",
       "      <td>NaN</td>\n",
       "      <td>VictorEric Design Group Ltd.</td>\n",
       "      <td>#-220-3410 LOUGHEED HIGHWAY\\nVANCOUVER, BC  V5...</td>\n",
       "      <td>Dwelling Uses</td>\n",
       "      <td>Single Detached House</td>\n",
       "      <td>WEST DEMOLITION SERVICE LTD</td>\n",
       "      <td>NaN</td>\n",
       "      <td>2024</td>\n",
       "      <td>Shaughnessy</td>\n",
       "      <td>{\"coordinates\":[-123.1373622,49.2368011],\"type...</td>\n",
       "      <td>2024-05</td>\n",
       "      <td>49.2368011, -123.1373622</td>\n",
       "    </tr>\n",
       "    <tr>\n",
       "      <th>27339</th>\n",
       "      <td>BP-2025-01874</td>\n",
       "      <td>2025-04-22</td>\n",
       "      <td>2025-04-24</td>\n",
       "      <td>2</td>\n",
       "      <td>0.0</td>\n",
       "      <td>Salvage and Abatement</td>\n",
       "      <td>1242 KELOWNA STREET, Vancouver, BC V5K 4E2</td>\n",
       "      <td>Low Density Housing - Salvage and Abatement - ...</td>\n",
       "      <td>NaN</td>\n",
       "      <td>Satnam Lalli DBA: Lalli Homes</td>\n",
       "      <td>6868 Killarney St\\nVancouver, BC  V5S 2Y3</td>\n",
       "      <td>Dwelling Uses</td>\n",
       "      <td>Single Detached House</td>\n",
       "      <td>Lalli Homes Ltd</td>\n",
       "      <td>6868 KILLARNEY ST  \\nVancouver, BC  V5S 2Y3</td>\n",
       "      <td>2025</td>\n",
       "      <td>Hastings-Sunrise</td>\n",
       "      <td>{\"coordinates\":[-123.0423562,49.2739802],\"type...</td>\n",
       "      <td>2025-04</td>\n",
       "      <td>49.2739802, -123.0423562</td>\n",
       "    </tr>\n",
       "    <tr>\n",
       "      <th>11986</th>\n",
       "      <td>BP-2022-03832</td>\n",
       "      <td>2022-08-03</td>\n",
       "      <td>2022-12-22</td>\n",
       "      <td>141</td>\n",
       "      <td>0.0</td>\n",
       "      <td>Salvage and Abatement</td>\n",
       "      <td>2959 ROSEMONT DRIVE, Vancouver, BC V5S 2C7</td>\n",
       "      <td>Low Density Housing - Salvage and Abatement - ...</td>\n",
       "      <td>NaN</td>\n",
       "      <td>NAMTEZ SOHAL DBA: Athoula Management Ltd.</td>\n",
       "      <td>1358 E 60TH AV\\nVANCOUVER, BC  V5X 2A9</td>\n",
       "      <td>Dwelling Uses</td>\n",
       "      <td>Single Detached House</td>\n",
       "      <td>AKAL DEMOLITION &amp; EXCAVATING LTD</td>\n",
       "      <td>NaN</td>\n",
       "      <td>2022</td>\n",
       "      <td>Killarney</td>\n",
       "      <td>{\"coordinates\":[-123.0457071,49.2170602],\"type...</td>\n",
       "      <td>2022-12</td>\n",
       "      <td>49.2170602, -123.0457071</td>\n",
       "    </tr>\n",
       "    <tr>\n",
       "      <th>11629</th>\n",
       "      <td>BP-2016-02907</td>\n",
       "      <td>2016-10-07</td>\n",
       "      <td>2017-02-14</td>\n",
       "      <td>130</td>\n",
       "      <td>0.0</td>\n",
       "      <td>Salvage and Abatement</td>\n",
       "      <td>4453 W 14TH AVENUE, Vancouver, BC V6R 2Y2</td>\n",
       "      <td>Low Density Housing - Salvage and Abatement - ...</td>\n",
       "      <td>NaN</td>\n",
       "      <td>Mike Chu DBA: Westpoint Design &amp; Development Ltd.</td>\n",
       "      <td>2268 West 34th Avenue \\nVancouver, BC  V6M1G6</td>\n",
       "      <td>Dwelling Uses</td>\n",
       "      <td>Single Detached House</td>\n",
       "      <td>All Star Excavating &amp; Demolition Ltd</td>\n",
       "      <td>11764 Kerr Bay\\nDelta, BC  V4C 1K1</td>\n",
       "      <td>2017</td>\n",
       "      <td>West Point Grey</td>\n",
       "      <td>{\"coordinates\":[-123.2079107,49.2604298],\"type...</td>\n",
       "      <td>2017-02</td>\n",
       "      <td>49.2604298, -123.2079107</td>\n",
       "    </tr>\n",
       "    <tr>\n",
       "      <th>8103</th>\n",
       "      <td>BP-2017-03475</td>\n",
       "      <td>2017-06-30</td>\n",
       "      <td>2017-07-21</td>\n",
       "      <td>21</td>\n",
       "      <td>0.0</td>\n",
       "      <td>Salvage and Abatement</td>\n",
       "      <td>4985 MOSS STREET, Vancouver, BC V5R 3T5</td>\n",
       "      <td>Enquiry Centre - Salvage and Abatement - Inter...</td>\n",
       "      <td>NaN</td>\n",
       "      <td>Joginder Khaira</td>\n",
       "      <td>7591 117th St\\nDelta, BC  V4C 6A6</td>\n",
       "      <td>Dwelling Uses</td>\n",
       "      <td>Single Detached House</td>\n",
       "      <td>NaN</td>\n",
       "      <td>NaN</td>\n",
       "      <td>2017</td>\n",
       "      <td>Renfrew-Collingwood</td>\n",
       "      <td>{\"coordinates\":[-123.0458062,49.2396646],\"type...</td>\n",
       "      <td>2017-07</td>\n",
       "      <td>49.2396646, -123.0458062</td>\n",
       "    </tr>\n",
       "    <tr>\n",
       "      <th>31768</th>\n",
       "      <td>BP-2020-02916</td>\n",
       "      <td>2020-09-21</td>\n",
       "      <td>2021-02-10</td>\n",
       "      <td>142</td>\n",
       "      <td>0.0</td>\n",
       "      <td>New Building</td>\n",
       "      <td>2472 DUNDAS STREET, Vancouver, BC V5K 1P6</td>\n",
       "      <td>High Density Housing / Commercial - New Buildi...</td>\n",
       "      <td>NaN</td>\n",
       "      <td>Natalia Rybakov</td>\n",
       "      <td>27620 Railcar Cr\\nAbbotsford, BC  V4X0B8</td>\n",
       "      <td>Dwelling Uses</td>\n",
       "      <td>Infill Single Detached House</td>\n",
       "      <td>NaN</td>\n",
       "      <td>NaN</td>\n",
       "      <td>2021</td>\n",
       "      <td>Hastings-Sunrise</td>\n",
       "      <td>{\"coordinates\":[-123.0550296,49.2847424],\"type...</td>\n",
       "      <td>2021-02</td>\n",
       "      <td>49.2847424, -123.0550296</td>\n",
       "    </tr>\n",
       "    <tr>\n",
       "      <th>23112</th>\n",
       "      <td>BP-2022-03174</td>\n",
       "      <td>2022-06-17</td>\n",
       "      <td>2022-07-27</td>\n",
       "      <td>40</td>\n",
       "      <td>0.0</td>\n",
       "      <td>Salvage and Abatement</td>\n",
       "      <td>737 W 68TH AVENUE, Vancouver, BC V6P 2T8</td>\n",
       "      <td>Low Density Housing - Salvage and Abatement - ...</td>\n",
       "      <td>NaN</td>\n",
       "      <td>QI LI DBA: LQ Design GROUP Ltd</td>\n",
       "      <td>2171 WEST 15TH AVENUE\\nVANCOUVER, BC  V6K 2Y4</td>\n",
       "      <td>Dwelling Uses</td>\n",
       "      <td>Single Detached House</td>\n",
       "      <td>Van-City Excavating Ltd</td>\n",
       "      <td>NaN</td>\n",
       "      <td>2022</td>\n",
       "      <td>Marpole</td>\n",
       "      <td>{\"coordinates\":[-123.1222418,49.2105099],\"type...</td>\n",
       "      <td>2022-07</td>\n",
       "      <td>49.2105099, -123.1222418</td>\n",
       "    </tr>\n",
       "    <tr>\n",
       "      <th>27789</th>\n",
       "      <td>BP-2018-01905</td>\n",
       "      <td>2018-04-10</td>\n",
       "      <td>2018-06-12</td>\n",
       "      <td>63</td>\n",
       "      <td>0.0</td>\n",
       "      <td>Salvage and Abatement</td>\n",
       "      <td>2838 NANAIMO STREET, Vancouver, BC V5N 5G1</td>\n",
       "      <td>Enquiry Centre - Salvage and Abatement - Inter...</td>\n",
       "      <td>NaN</td>\n",
       "      <td>Ngoc-Hoang-Tuan Nguyen DBA: Nanaimo 2838 Prope...</td>\n",
       "      <td>592 W 28th Avenue\\nVancouver, BC  V5Z 2H1</td>\n",
       "      <td>Dwelling Uses</td>\n",
       "      <td>Single Detached House</td>\n",
       "      <td>All Star Excavating &amp; Demolition Ltd</td>\n",
       "      <td>11764 Kerr Bay\\nDelta, BC  V4C 1K1</td>\n",
       "      <td>2018</td>\n",
       "      <td>Renfrew-Collingwood</td>\n",
       "      <td>{\"coordinates\":[-123.0561696,49.2587745],\"type...</td>\n",
       "      <td>2018-06</td>\n",
       "      <td>49.2587745, -123.0561696</td>\n",
       "    </tr>\n",
       "    <tr>\n",
       "      <th>2281</th>\n",
       "      <td>BP-2017-00170</td>\n",
       "      <td>2017-01-11</td>\n",
       "      <td>2017-04-07</td>\n",
       "      <td>86</td>\n",
       "      <td>0.0</td>\n",
       "      <td>Salvage and Abatement</td>\n",
       "      <td>296 E 63RD AVENUE, Vancouver, BC V5X 2J7</td>\n",
       "      <td>Low Density Housing - Salvage and Abatement - ...</td>\n",
       "      <td>NaN</td>\n",
       "      <td>RAJEEV KAPUR DBA: RAJEEV KAPUR</td>\n",
       "      <td>662 W71ST AVENUE\\nVANCOUVER, BC  V6P3A1</td>\n",
       "      <td>Dwelling Uses</td>\n",
       "      <td>Single Detached House</td>\n",
       "      <td>Canadian Excavating Ltd</td>\n",
       "      <td>6898 130 St\\nSurrey, BC  V3W 4J5</td>\n",
       "      <td>2017</td>\n",
       "      <td>Sunset</td>\n",
       "      <td>{\"coordinates\":[-123.100387,49.2132932],\"type\"...</td>\n",
       "      <td>2017-04</td>\n",
       "      <td>49.2132932, -123.100387</td>\n",
       "    </tr>\n",
       "  </tbody>\n",
       "</table>\n",
       "</div>"
      ],
      "text/plain": [
       "        PermitNumber PermitNumberCreatedDate   IssueDate  PermitElapsedDays  \\\n",
       "11405  BP-2017-02182              2017-04-26  2017-06-16                 51   \n",
       "29042  BP-2024-01879              2024-05-24  2024-05-31                  7   \n",
       "27339  BP-2025-01874              2025-04-22  2025-04-24                  2   \n",
       "11986  BP-2022-03832              2022-08-03  2022-12-22                141   \n",
       "11629  BP-2016-02907              2016-10-07  2017-02-14                130   \n",
       "8103   BP-2017-03475              2017-06-30  2017-07-21                 21   \n",
       "31768  BP-2020-02916              2020-09-21  2021-02-10                142   \n",
       "23112  BP-2022-03174              2022-06-17  2022-07-27                 40   \n",
       "27789  BP-2018-01905              2018-04-10  2018-06-12                 63   \n",
       "2281   BP-2017-00170              2017-01-11  2017-04-07                 86   \n",
       "\n",
       "       ProjectValue             TypeOfWork  \\\n",
       "11405           0.0  Salvage and Abatement   \n",
       "29042           0.0  Salvage and Abatement   \n",
       "27339           0.0  Salvage and Abatement   \n",
       "11986           0.0  Salvage and Abatement   \n",
       "11629           0.0  Salvage and Abatement   \n",
       "8103            0.0  Salvage and Abatement   \n",
       "31768           0.0           New Building   \n",
       "23112           0.0  Salvage and Abatement   \n",
       "27789           0.0  Salvage and Abatement   \n",
       "2281            0.0  Salvage and Abatement   \n",
       "\n",
       "                                          Address  \\\n",
       "11405    250 E 53RD AVENUE, Vancouver, BC V5X 1H9   \n",
       "29042   1410 W 38TH AVENUE, Vancouver, BC V6M 1R5   \n",
       "27339  1242 KELOWNA STREET, Vancouver, BC V5K 4E2   \n",
       "11986  2959 ROSEMONT DRIVE, Vancouver, BC V5S 2C7   \n",
       "11629   4453 W 14TH AVENUE, Vancouver, BC V6R 2Y2   \n",
       "8103      4985 MOSS STREET, Vancouver, BC V5R 3T5   \n",
       "31768   2472 DUNDAS STREET, Vancouver, BC V5K 1P6   \n",
       "23112    737 W 68TH AVENUE, Vancouver, BC V6P 2T8   \n",
       "27789  2838 NANAIMO STREET, Vancouver, BC V5N 5G1   \n",
       "2281     296 E 63RD AVENUE, Vancouver, BC V5X 2J7   \n",
       "\n",
       "                                      ProjectDescription PermitCategory  \\\n",
       "11405  Low Density Housing - Salvage and Abatement - ...            NaN   \n",
       "29042  Low Density Housing - Salvage and Abatement - ...            NaN   \n",
       "27339  Low Density Housing - Salvage and Abatement - ...            NaN   \n",
       "11986  Low Density Housing - Salvage and Abatement - ...            NaN   \n",
       "11629  Low Density Housing - Salvage and Abatement - ...            NaN   \n",
       "8103   Enquiry Centre - Salvage and Abatement - Inter...            NaN   \n",
       "31768  High Density Housing / Commercial - New Buildi...            NaN   \n",
       "23112  Low Density Housing - Salvage and Abatement - ...            NaN   \n",
       "27789  Enquiry Centre - Salvage and Abatement - Inter...            NaN   \n",
       "2281   Low Density Housing - Salvage and Abatement - ...            NaN   \n",
       "\n",
       "                                               Applicant  \\\n",
       "11405                                    SHARON TATEISHI   \n",
       "29042                       VictorEric Design Group Ltd.   \n",
       "27339                      Satnam Lalli DBA: Lalli Homes   \n",
       "11986          NAMTEZ SOHAL DBA: Athoula Management Ltd.   \n",
       "11629  Mike Chu DBA: Westpoint Design & Development Ltd.   \n",
       "8103                                     Joginder Khaira   \n",
       "31768                                    Natalia Rybakov   \n",
       "23112                     QI LI DBA: LQ Design GROUP Ltd   \n",
       "27789  Ngoc-Hoang-Tuan Nguyen DBA: Nanaimo 2838 Prope...   \n",
       "2281                      RAJEEV KAPUR DBA: RAJEEV KAPUR   \n",
       "\n",
       "                                        ApplicantAddress    PropertyUse  \\\n",
       "11405      7600 Decourcy Crescent \\nRICHMOND, BC  V7C4E9  Dwelling Uses   \n",
       "29042  #-220-3410 LOUGHEED HIGHWAY\\nVANCOUVER, BC  V5...  Dwelling Uses   \n",
       "27339          6868 Killarney St\\nVancouver, BC  V5S 2Y3  Dwelling Uses   \n",
       "11986             1358 E 60TH AV\\nVANCOUVER, BC  V5X 2A9  Dwelling Uses   \n",
       "11629      2268 West 34th Avenue \\nVancouver, BC  V6M1G6  Dwelling Uses   \n",
       "8103                   7591 117th St\\nDelta, BC  V4C 6A6  Dwelling Uses   \n",
       "31768           27620 Railcar Cr\\nAbbotsford, BC  V4X0B8  Dwelling Uses   \n",
       "23112      2171 WEST 15TH AVENUE\\nVANCOUVER, BC  V6K 2Y4  Dwelling Uses   \n",
       "27789          592 W 28th Avenue\\nVancouver, BC  V5Z 2H1  Dwelling Uses   \n",
       "2281             662 W71ST AVENUE\\nVANCOUVER, BC  V6P3A1  Dwelling Uses   \n",
       "\n",
       "                SpecificUseCategory                    BuildingContractor  \\\n",
       "11405         Single Detached House              East West Excavating Ltd   \n",
       "29042         Single Detached House           WEST DEMOLITION SERVICE LTD   \n",
       "27339         Single Detached House                       Lalli Homes Ltd   \n",
       "11986         Single Detached House      AKAL DEMOLITION & EXCAVATING LTD   \n",
       "11629         Single Detached House  All Star Excavating & Demolition Ltd   \n",
       "8103          Single Detached House                                   NaN   \n",
       "31768  Infill Single Detached House                                   NaN   \n",
       "23112         Single Detached House               Van-City Excavating Ltd   \n",
       "27789         Single Detached House  All Star Excavating & Demolition Ltd   \n",
       "2281          Single Detached House               Canadian Excavating Ltd   \n",
       "\n",
       "                           BuildingContractorAddress  IssueYear  \\\n",
       "11405  4918 VICTORIA DRIVE  \\nVancouver, BC  V5P 3T6       2017   \n",
       "29042                                            NaN       2024   \n",
       "27339    6868 KILLARNEY ST  \\nVancouver, BC  V5S 2Y3       2025   \n",
       "11986                                            NaN       2022   \n",
       "11629             11764 Kerr Bay\\nDelta, BC  V4C 1K1       2017   \n",
       "8103                                             NaN       2017   \n",
       "31768                                            NaN       2021   \n",
       "23112                                            NaN       2022   \n",
       "27789             11764 Kerr Bay\\nDelta, BC  V4C 1K1       2018   \n",
       "2281                6898 130 St\\nSurrey, BC  V3W 4J5       2017   \n",
       "\n",
       "              GeoLocalArea                                               Geom  \\\n",
       "11405               Sunset  {\"coordinates\":[-123.1006047,49.2216766],\"type...   \n",
       "29042          Shaughnessy  {\"coordinates\":[-123.1373622,49.2368011],\"type...   \n",
       "27339     Hastings-Sunrise  {\"coordinates\":[-123.0423562,49.2739802],\"type...   \n",
       "11986            Killarney  {\"coordinates\":[-123.0457071,49.2170602],\"type...   \n",
       "11629      West Point Grey  {\"coordinates\":[-123.2079107,49.2604298],\"type...   \n",
       "8103   Renfrew-Collingwood  {\"coordinates\":[-123.0458062,49.2396646],\"type...   \n",
       "31768     Hastings-Sunrise  {\"coordinates\":[-123.0550296,49.2847424],\"type...   \n",
       "23112              Marpole  {\"coordinates\":[-123.1222418,49.2105099],\"type...   \n",
       "27789  Renfrew-Collingwood  {\"coordinates\":[-123.0561696,49.2587745],\"type...   \n",
       "2281                Sunset  {\"coordinates\":[-123.100387,49.2132932],\"type\"...   \n",
       "\n",
       "      YearMonth              geo_point_2d  \n",
       "11405   2017-06  49.2216766, -123.1006047  \n",
       "29042   2024-05  49.2368011, -123.1373622  \n",
       "27339   2025-04  49.2739802, -123.0423562  \n",
       "11986   2022-12  49.2170602, -123.0457071  \n",
       "11629   2017-02  49.2604298, -123.2079107  \n",
       "8103    2017-07  49.2396646, -123.0458062  \n",
       "31768   2021-02  49.2847424, -123.0550296  \n",
       "23112   2022-07  49.2105099, -123.1222418  \n",
       "27789   2018-06  49.2587745, -123.0561696  \n",
       "2281    2017-04   49.2132932, -123.100387  "
      ]
     },
     "metadata": {},
     "output_type": "display_data"
    }
   ],
   "source": [
    "# restrict to permits with 0.0 dollar value\n",
    "zero_value_df = dwelling_permits_df[dwelling_permits_df['ProjectValue'] == 0.0]\n",
    "print(f'The zero_value_df is length {len(zero_value_df)}.')\n",
    "display(zero_value_df.sample(10))"
   ]
  },
  {
   "cell_type": "code",
   "execution_count": 20,
   "id": "cd7ca393-464f-473d-ba99-7323efd9d6ab",
   "metadata": {},
   "outputs": [],
   "source": [
    "# drop all rows with value = zero\n",
    "dwelling_permits_df = dwelling_permits_df[dwelling_permits_df['ProjectValue'] != 0.0]"
   ]
  },
  {
   "cell_type": "markdown",
   "id": "155743c3-2650-4305-a0d3-3a6192c9a287",
   "metadata": {},
   "source": [
    "## Step 4: Deal with columns with null values one by one"
   ]
  },
  {
   "cell_type": "code",
   "execution_count": 21,
   "id": "6c397732-fb8c-4313-b67a-898fa3b08c1c",
   "metadata": {},
   "outputs": [
    {
     "data": {
      "text/html": [
       "<div>\n",
       "<style scoped>\n",
       "    .dataframe tbody tr th:only-of-type {\n",
       "        vertical-align: middle;\n",
       "    }\n",
       "\n",
       "    .dataframe tbody tr th {\n",
       "        vertical-align: top;\n",
       "    }\n",
       "\n",
       "    .dataframe thead th {\n",
       "        text-align: right;\n",
       "    }\n",
       "</style>\n",
       "<table border=\"1\" class=\"dataframe\">\n",
       "  <thead>\n",
       "    <tr style=\"text-align: right;\">\n",
       "      <th></th>\n",
       "      <th>Column</th>\n",
       "      <th>Null Count</th>\n",
       "      <th>Percent Null</th>\n",
       "    </tr>\n",
       "  </thead>\n",
       "  <tbody>\n",
       "    <tr>\n",
       "      <th>5</th>\n",
       "      <td>BuildingContractorAddress</td>\n",
       "      <td>13083</td>\n",
       "      <td>50.66</td>\n",
       "    </tr>\n",
       "    <tr>\n",
       "      <th>1</th>\n",
       "      <td>PermitCategory</td>\n",
       "      <td>9002</td>\n",
       "      <td>34.86</td>\n",
       "    </tr>\n",
       "    <tr>\n",
       "      <th>4</th>\n",
       "      <td>BuildingContractor</td>\n",
       "      <td>7489</td>\n",
       "      <td>29.00</td>\n",
       "    </tr>\n",
       "    <tr>\n",
       "      <th>6</th>\n",
       "      <td>GeoLocalArea</td>\n",
       "      <td>315</td>\n",
       "      <td>1.22</td>\n",
       "    </tr>\n",
       "    <tr>\n",
       "      <th>7</th>\n",
       "      <td>Geom</td>\n",
       "      <td>315</td>\n",
       "      <td>1.22</td>\n",
       "    </tr>\n",
       "    <tr>\n",
       "      <th>8</th>\n",
       "      <td>geo_point_2d</td>\n",
       "      <td>315</td>\n",
       "      <td>1.22</td>\n",
       "    </tr>\n",
       "    <tr>\n",
       "      <th>0</th>\n",
       "      <td>Address</td>\n",
       "      <td>138</td>\n",
       "      <td>0.53</td>\n",
       "    </tr>\n",
       "    <tr>\n",
       "      <th>2</th>\n",
       "      <td>ApplicantAddress</td>\n",
       "      <td>79</td>\n",
       "      <td>0.31</td>\n",
       "    </tr>\n",
       "    <tr>\n",
       "      <th>3</th>\n",
       "      <td>SpecificUseCategory</td>\n",
       "      <td>1</td>\n",
       "      <td>0.00</td>\n",
       "    </tr>\n",
       "  </tbody>\n",
       "</table>\n",
       "</div>"
      ],
      "text/plain": [
       "                      Column  Null Count  Percent Null\n",
       "5  BuildingContractorAddress       13083         50.66\n",
       "1             PermitCategory        9002         34.86\n",
       "4         BuildingContractor        7489         29.00\n",
       "6               GeoLocalArea         315          1.22\n",
       "7                       Geom         315          1.22\n",
       "8               geo_point_2d         315          1.22\n",
       "0                    Address         138          0.53\n",
       "2           ApplicantAddress          79          0.31\n",
       "3        SpecificUseCategory           1          0.00"
      ]
     },
     "metadata": {},
     "output_type": "display_data"
    }
   ],
   "source": [
    "# Find columns with nulls\n",
    "\n",
    "# Find total rows for percentage calculation\n",
    "total_rows = len(dwelling_permits_df)\n",
    "\n",
    "# List of dictionaries to hold null info\n",
    "null_info = []\n",
    "\n",
    "for col in dwelling_permits_df.columns:\n",
    "    null_count = dwelling_permits_df[col].isna().sum()\n",
    "    if null_count > 0:\n",
    "        null_info.append({\n",
    "            'Column': col,\n",
    "            'Null Count': null_count,\n",
    "            'Percent Null': round((null_count / total_rows) * 100, 2)\n",
    "        })\n",
    "\n",
    "# Create and display DataFrame sorted by % null\n",
    "null_summary_df = pd.DataFrame(null_info).sort_values(by='Percent Null', ascending=False)\n",
    "display(null_summary_df)"
   ]
  },
  {
   "cell_type": "code",
   "execution_count": 22,
   "id": "f67b89f6-b01a-4457-b4b5-ef7dd40fa8f8",
   "metadata": {},
   "outputs": [
    {
     "data": {
      "text/plain": [
       "Index(['PermitNumber', 'PermitNumberCreatedDate', 'IssueDate',\n",
       "       'PermitElapsedDays', 'ProjectValue', 'TypeOfWork', 'Address',\n",
       "       'ProjectDescription', 'PermitCategory', 'Applicant', 'ApplicantAddress',\n",
       "       'PropertyUse', 'SpecificUseCategory', 'BuildingContractor',\n",
       "       'BuildingContractorAddress', 'IssueYear', 'GeoLocalArea', 'Geom',\n",
       "       'YearMonth', 'geo_point_2d'],\n",
       "      dtype='object')"
      ]
     },
     "metadata": {},
     "output_type": "display_data"
    }
   ],
   "source": [
    "# List all columns\n",
    "display(dwelling_permits_df.columns)"
   ]
  },
  {
   "cell_type": "code",
   "execution_count": 23,
   "id": "366598be-18fb-4d14-8a6e-fd9682cd6bda",
   "metadata": {},
   "outputs": [],
   "source": [
    "# Define function to analyze null values for particular columns\n",
    "def examine_col_nulls(df,col,output = True):\n",
    "    null_df = dwelling_permits_df.isna()\n",
    "    null_count = null_df[col].sum()\n",
    "    null_perc = 100 * null_count / len(null_df)\n",
    "    col_null_df = df[df[col].isnull()]\n",
    "    if output == True:\n",
    "        print(f'\\nPermitCategory has the following value counts.\\n')\n",
    "        display(dwelling_permits_df['PermitCategory'].value_counts())\n",
    "        print(f'\\nPermitCategory has {null_count} null values.\\n')\n",
    "        print(f'\\nPermitCategory nulls make up has {null_perc} % of the dataset.\\n') \n",
    "        print(f'\\nWe present an example of the subdataset where {col} is null\\n')\n",
    "        display(col_null_df.sample(5))\n",
    "        col_null_df_restricted = col_null_df[['PermitNumberCreatedDate',\n",
    "        'ProjectValue', 'TypeOfWork', 'Address', 'Applicant','PropertyUse', \n",
    "        'SpecificUseCategory', 'BuildingContractor','BuildingContractorAddress',\n",
    "                                            'GeoLocalArea']]\n",
    "        for feature in col_null_df_restricted:\n",
    "            print(f'\\nIn the col_null_df, the feature {feature} has the following value counts.\\n') \n",
    "            display(col_null_df[feature].value_counts())\n",
    "    return null_count, null_perc, col_null_df"
   ]
  },
  {
   "cell_type": "markdown",
   "id": "97fe3eb4-fa2c-4a20-96a4-2570cc5720c0",
   "metadata": {},
   "source": [
    "### Step 2.1: imputing 'unknown' into categorical columns"
   ]
  },
  {
   "cell_type": "code",
   "execution_count": 24,
   "id": "87b57bde-f83d-4caf-9347-035d6273f1d2",
   "metadata": {},
   "outputs": [
    {
     "name": "stdout",
     "output_type": "stream",
     "text": [
      "\n",
      "PermitCategory has the following value counts.\n",
      "\n"
     ]
    },
    {
     "data": {
      "text/plain": [
       "PermitCategory\n",
       "Renovation - Residential - Lower Complexity              7995\n",
       "New Build - Low Density Housing                          6680\n",
       "New Build - Standalone Laneway                           2037\n",
       "Renovation - Commercial/ Mixed Use - Lower Complexity     110\n",
       "Name: count, dtype: int64"
      ]
     },
     "metadata": {},
     "output_type": "display_data"
    },
    {
     "name": "stdout",
     "output_type": "stream",
     "text": [
      "\n",
      "PermitCategory has 9002 null values.\n",
      "\n",
      "\n",
      "PermitCategory nulls make up has 34.8590458488228 % of the dataset.\n",
      "\n",
      "\n",
      "We present an example of the subdataset where PermitCategory is null\n",
      "\n"
     ]
    },
    {
     "data": {
      "text/html": [
       "<div>\n",
       "<style scoped>\n",
       "    .dataframe tbody tr th:only-of-type {\n",
       "        vertical-align: middle;\n",
       "    }\n",
       "\n",
       "    .dataframe tbody tr th {\n",
       "        vertical-align: top;\n",
       "    }\n",
       "\n",
       "    .dataframe thead th {\n",
       "        text-align: right;\n",
       "    }\n",
       "</style>\n",
       "<table border=\"1\" class=\"dataframe\">\n",
       "  <thead>\n",
       "    <tr style=\"text-align: right;\">\n",
       "      <th></th>\n",
       "      <th>PermitNumber</th>\n",
       "      <th>PermitNumberCreatedDate</th>\n",
       "      <th>IssueDate</th>\n",
       "      <th>PermitElapsedDays</th>\n",
       "      <th>ProjectValue</th>\n",
       "      <th>TypeOfWork</th>\n",
       "      <th>Address</th>\n",
       "      <th>ProjectDescription</th>\n",
       "      <th>PermitCategory</th>\n",
       "      <th>Applicant</th>\n",
       "      <th>ApplicantAddress</th>\n",
       "      <th>PropertyUse</th>\n",
       "      <th>SpecificUseCategory</th>\n",
       "      <th>BuildingContractor</th>\n",
       "      <th>BuildingContractorAddress</th>\n",
       "      <th>IssueYear</th>\n",
       "      <th>GeoLocalArea</th>\n",
       "      <th>Geom</th>\n",
       "      <th>YearMonth</th>\n",
       "      <th>geo_point_2d</th>\n",
       "    </tr>\n",
       "  </thead>\n",
       "  <tbody>\n",
       "    <tr>\n",
       "      <th>19960</th>\n",
       "      <td>BP-2019-04279</td>\n",
       "      <td>2019-09-24</td>\n",
       "      <td>2020-09-19</td>\n",
       "      <td>361</td>\n",
       "      <td>300000.0</td>\n",
       "      <td>New Building</td>\n",
       "      <td>1346 E 11TH AVENUE, Vancouver, BC V5N 1Y5</td>\n",
       "      <td>High Density Housing / Commercial - New Buildi...</td>\n",
       "      <td>NaN</td>\n",
       "      <td>Carman Kwan DBA: Architectural Collective Inc.</td>\n",
       "      <td>677 East 27th Avenue\\nVancouver, BC  V5V 2K7</td>\n",
       "      <td>Dwelling Uses</td>\n",
       "      <td>Infill Single Detached House</td>\n",
       "      <td>NaN</td>\n",
       "      <td>NaN</td>\n",
       "      <td>2020</td>\n",
       "      <td>Kensington-Cedar Cottage</td>\n",
       "      <td>{\"coordinates\":[-123.0765023,49.2602642],\"type...</td>\n",
       "      <td>2020-09</td>\n",
       "      <td>49.2602642, -123.0765023</td>\n",
       "    </tr>\n",
       "    <tr>\n",
       "      <th>30636</th>\n",
       "      <td>BP-2018-06476</td>\n",
       "      <td>2018-12-13</td>\n",
       "      <td>2019-08-21</td>\n",
       "      <td>251</td>\n",
       "      <td>15000.0</td>\n",
       "      <td>Demolition / Deconstruction</td>\n",
       "      <td>1519 W 37TH AVENUE, Vancouver, BC V6M 1M5</td>\n",
       "      <td>Low Density Housing - Demolition / Deconstruct...</td>\n",
       "      <td>NaN</td>\n",
       "      <td>QI LI DBA: LQ Design GROUP Ltd</td>\n",
       "      <td>2171 WEST 15TH AVENUE\\nVANCOUVER, BC  V6K 2Y4</td>\n",
       "      <td>Dwelling Uses</td>\n",
       "      <td>Single Detached House</td>\n",
       "      <td>East West Excavating Ltd</td>\n",
       "      <td>968 E 53RD AV  \\nVancouver, BC  V5X 1J6</td>\n",
       "      <td>2019</td>\n",
       "      <td>Shaughnessy</td>\n",
       "      <td>{\"coordinates\":[-123.1402184,49.2383541],\"type...</td>\n",
       "      <td>2019-08</td>\n",
       "      <td>49.2383541, -123.1402184</td>\n",
       "    </tr>\n",
       "    <tr>\n",
       "      <th>7229</th>\n",
       "      <td>DB-2016-01293</td>\n",
       "      <td>2016-07-21</td>\n",
       "      <td>2017-02-22</td>\n",
       "      <td>216</td>\n",
       "      <td>15000.0</td>\n",
       "      <td>Demolition / Deconstruction</td>\n",
       "      <td>1628 E 61ST AVENUE, Vancouver, BC V5P 2J6</td>\n",
       "      <td>Low Density Housing - Demolition / Deconstruct...</td>\n",
       "      <td>NaN</td>\n",
       "      <td>Tamanna Design Group Ltd. DBA: Tamanna Design ...</td>\n",
       "      <td>809 - 6622 Pearson Way\\nRichmond, BC  V7C 0E4</td>\n",
       "      <td>Dwelling Uses</td>\n",
       "      <td>Single Detached House</td>\n",
       "      <td>Hans Demolition and Excavating Ltd.</td>\n",
       "      <td>12498 55 Ave\\nSurrey, BC  V3X 3V5</td>\n",
       "      <td>2017</td>\n",
       "      <td>Victoria-Fraserview</td>\n",
       "      <td>{\"coordinates\":[-123.0735738,49.2143522],\"type...</td>\n",
       "      <td>2017-02</td>\n",
       "      <td>49.2143522, -123.0735738</td>\n",
       "    </tr>\n",
       "    <tr>\n",
       "      <th>17320</th>\n",
       "      <td>BP-2018-01181</td>\n",
       "      <td>2018-03-05</td>\n",
       "      <td>2018-07-24</td>\n",
       "      <td>141</td>\n",
       "      <td>15000.0</td>\n",
       "      <td>Demolition / Deconstruction</td>\n",
       "      <td>2093 E 5TH AVENUE, Vancouver, BC V5N 1M3</td>\n",
       "      <td>Low Density Housing - Demolition / Deconstruct...</td>\n",
       "      <td>NaN</td>\n",
       "      <td>Khang Nguyen DBA: Architrix Design Studio</td>\n",
       "      <td>289 Alexander Street\\n# 216\\nVancouver, BC  V6...</td>\n",
       "      <td>Dwelling Uses</td>\n",
       "      <td>Duplex</td>\n",
       "      <td>Canadian Excavating Ltd</td>\n",
       "      <td>6898 130 St\\nSurrey, BC  V3W 4J5</td>\n",
       "      <td>2018</td>\n",
       "      <td>Grandview-Woodland</td>\n",
       "      <td>{\"coordinates\":[-123.062157,49.2661799],\"type\"...</td>\n",
       "      <td>2018-07</td>\n",
       "      <td>49.2661799, -123.062157</td>\n",
       "    </tr>\n",
       "    <tr>\n",
       "      <th>5487</th>\n",
       "      <td>BP-2019-00240</td>\n",
       "      <td>2019-01-18</td>\n",
       "      <td>2019-06-26</td>\n",
       "      <td>159</td>\n",
       "      <td>15000.0</td>\n",
       "      <td>Demolition / Deconstruction</td>\n",
       "      <td>1319 W 46TH AVENUE, Vancouver, BC V6M 2K4</td>\n",
       "      <td>Low Density Housing - Demolition / Deconstruct...</td>\n",
       "      <td>NaN</td>\n",
       "      <td>Ken Tsang</td>\n",
       "      <td>N210 - 5811 Cooney Rd\\nRichmond, BC  V6X 3M1</td>\n",
       "      <td>Dwelling Uses</td>\n",
       "      <td>Single Detached House</td>\n",
       "      <td>GRG Demolition &amp; Excavating Ltd</td>\n",
       "      <td>NaN</td>\n",
       "      <td>2019</td>\n",
       "      <td>Oakridge</td>\n",
       "      <td>{\"coordinates\":[-123.1355141,49.2298161],\"type...</td>\n",
       "      <td>2019-06</td>\n",
       "      <td>49.2298161, -123.1355141</td>\n",
       "    </tr>\n",
       "  </tbody>\n",
       "</table>\n",
       "</div>"
      ],
      "text/plain": [
       "        PermitNumber PermitNumberCreatedDate   IssueDate  PermitElapsedDays  \\\n",
       "19960  BP-2019-04279              2019-09-24  2020-09-19                361   \n",
       "30636  BP-2018-06476              2018-12-13  2019-08-21                251   \n",
       "7229   DB-2016-01293              2016-07-21  2017-02-22                216   \n",
       "17320  BP-2018-01181              2018-03-05  2018-07-24                141   \n",
       "5487   BP-2019-00240              2019-01-18  2019-06-26                159   \n",
       "\n",
       "       ProjectValue                   TypeOfWork  \\\n",
       "19960      300000.0                 New Building   \n",
       "30636       15000.0  Demolition / Deconstruction   \n",
       "7229        15000.0  Demolition / Deconstruction   \n",
       "17320       15000.0  Demolition / Deconstruction   \n",
       "5487        15000.0  Demolition / Deconstruction   \n",
       "\n",
       "                                         Address  \\\n",
       "19960  1346 E 11TH AVENUE, Vancouver, BC V5N 1Y5   \n",
       "30636  1519 W 37TH AVENUE, Vancouver, BC V6M 1M5   \n",
       "7229   1628 E 61ST AVENUE, Vancouver, BC V5P 2J6   \n",
       "17320   2093 E 5TH AVENUE, Vancouver, BC V5N 1M3   \n",
       "5487   1319 W 46TH AVENUE, Vancouver, BC V6M 2K4   \n",
       "\n",
       "                                      ProjectDescription PermitCategory  \\\n",
       "19960  High Density Housing / Commercial - New Buildi...            NaN   \n",
       "30636  Low Density Housing - Demolition / Deconstruct...            NaN   \n",
       "7229   Low Density Housing - Demolition / Deconstruct...            NaN   \n",
       "17320  Low Density Housing - Demolition / Deconstruct...            NaN   \n",
       "5487   Low Density Housing - Demolition / Deconstruct...            NaN   \n",
       "\n",
       "                                               Applicant  \\\n",
       "19960     Carman Kwan DBA: Architectural Collective Inc.   \n",
       "30636                     QI LI DBA: LQ Design GROUP Ltd   \n",
       "7229   Tamanna Design Group Ltd. DBA: Tamanna Design ...   \n",
       "17320          Khang Nguyen DBA: Architrix Design Studio   \n",
       "5487                                           Ken Tsang   \n",
       "\n",
       "                                        ApplicantAddress    PropertyUse  \\\n",
       "19960       677 East 27th Avenue\\nVancouver, BC  V5V 2K7  Dwelling Uses   \n",
       "30636      2171 WEST 15TH AVENUE\\nVANCOUVER, BC  V6K 2Y4  Dwelling Uses   \n",
       "7229       809 - 6622 Pearson Way\\nRichmond, BC  V7C 0E4  Dwelling Uses   \n",
       "17320  289 Alexander Street\\n# 216\\nVancouver, BC  V6...  Dwelling Uses   \n",
       "5487        N210 - 5811 Cooney Rd\\nRichmond, BC  V6X 3M1  Dwelling Uses   \n",
       "\n",
       "                SpecificUseCategory                   BuildingContractor  \\\n",
       "19960  Infill Single Detached House                                  NaN   \n",
       "30636         Single Detached House             East West Excavating Ltd   \n",
       "7229          Single Detached House  Hans Demolition and Excavating Ltd.   \n",
       "17320                        Duplex              Canadian Excavating Ltd   \n",
       "5487          Single Detached House      GRG Demolition & Excavating Ltd   \n",
       "\n",
       "                     BuildingContractorAddress  IssueYear  \\\n",
       "19960                                      NaN       2020   \n",
       "30636  968 E 53RD AV  \\nVancouver, BC  V5X 1J6       2019   \n",
       "7229         12498 55 Ave\\nSurrey, BC  V3X 3V5       2017   \n",
       "17320         6898 130 St\\nSurrey, BC  V3W 4J5       2018   \n",
       "5487                                       NaN       2019   \n",
       "\n",
       "                   GeoLocalArea  \\\n",
       "19960  Kensington-Cedar Cottage   \n",
       "30636               Shaughnessy   \n",
       "7229        Victoria-Fraserview   \n",
       "17320        Grandview-Woodland   \n",
       "5487                   Oakridge   \n",
       "\n",
       "                                                    Geom YearMonth  \\\n",
       "19960  {\"coordinates\":[-123.0765023,49.2602642],\"type...   2020-09   \n",
       "30636  {\"coordinates\":[-123.1402184,49.2383541],\"type...   2019-08   \n",
       "7229   {\"coordinates\":[-123.0735738,49.2143522],\"type...   2017-02   \n",
       "17320  {\"coordinates\":[-123.062157,49.2661799],\"type\"...   2018-07   \n",
       "5487   {\"coordinates\":[-123.1355141,49.2298161],\"type...   2019-06   \n",
       "\n",
       "                   geo_point_2d  \n",
       "19960  49.2602642, -123.0765023  \n",
       "30636  49.2383541, -123.1402184  \n",
       "7229   49.2143522, -123.0735738  \n",
       "17320   49.2661799, -123.062157  \n",
       "5487   49.2298161, -123.1355141  "
      ]
     },
     "metadata": {},
     "output_type": "display_data"
    },
    {
     "name": "stdout",
     "output_type": "stream",
     "text": [
      "\n",
      "In the col_null_df, the feature PermitNumberCreatedDate has the following value counts.\n",
      "\n"
     ]
    },
    {
     "data": {
      "text/plain": [
       "PermitNumberCreatedDate\n",
       "2021-05-27    22\n",
       "2022-05-05    22\n",
       "2016-12-22    21\n",
       "2021-04-13    19\n",
       "2024-05-31    16\n",
       "              ..\n",
       "2024-07-04     1\n",
       "2023-04-04     1\n",
       "2024-03-14     1\n",
       "2020-09-22     1\n",
       "2019-01-03     1\n",
       "Name: count, Length: 2182, dtype: int64"
      ]
     },
     "metadata": {},
     "output_type": "display_data"
    },
    {
     "name": "stdout",
     "output_type": "stream",
     "text": [
      "\n",
      "In the col_null_df, the feature ProjectValue has the following value counts.\n",
      "\n"
     ]
    },
    {
     "data": {
      "text/plain": [
       "ProjectValue\n",
       "15000.0      4719\n",
       "40000.0       253\n",
       "20000.0       186\n",
       "30000.0       123\n",
       "50000.0       116\n",
       "             ... \n",
       "420050.0        1\n",
       "122400.0        1\n",
       "1515000.0       1\n",
       "362000.0        1\n",
       "121050.0        1\n",
       "Name: count, Length: 1342, dtype: int64"
      ]
     },
     "metadata": {},
     "output_type": "display_data"
    },
    {
     "name": "stdout",
     "output_type": "stream",
     "text": [
      "\n",
      "In the col_null_df, the feature TypeOfWork has the following value counts.\n",
      "\n"
     ]
    },
    {
     "data": {
      "text/plain": [
       "TypeOfWork\n",
       "Demolition / Deconstruction             5727\n",
       "Addition / Alteration                   2278\n",
       "New Building                             934\n",
       "Salvage and Abatement                     30\n",
       "Outdoor Uses (No Buildings Proposed)      22\n",
       "Temporary Building / Structure            11\n",
       "Name: count, dtype: int64"
      ]
     },
     "metadata": {},
     "output_type": "display_data"
    },
    {
     "name": "stdout",
     "output_type": "stream",
     "text": [
      "\n",
      "In the col_null_df, the feature Address has the following value counts.\n",
      "\n"
     ]
    },
    {
     "data": {
      "text/plain": [
       "Address\n",
       "8460 ASH STREET, Vancouver, BC V6P 3M2           8\n",
       "1501 HARO STREET, Vancouver, BC V6G 1G4          4\n",
       "2901 E HASTINGS STREET, Vancouver, BC V5K 5J1    4\n",
       "3620 W 20TH AVENUE, Vancouver, BC V6S 1E8        3\n",
       "124 DUNLEVY AVENUE, Vancouver, BC V6A 3T6        3\n",
       "                                                ..\n",
       "2083 W 48TH AVENUE, Vancouver, BC V6M 2P4        1\n",
       "2209 E 2ND AVENUE, Vancouver, BC V5N 1G1         1\n",
       "1604 SALSBURY DRIVE, Vancouver, BC V5L 4B8       1\n",
       "3934 LILLOOET STREET, Vancouver, BC V5R 2E8      1\n",
       "6272 BUTLER STREET, Vancouver, BC V5S 3K4        1\n",
       "Name: count, Length: 8597, dtype: int64"
      ]
     },
     "metadata": {},
     "output_type": "display_data"
    },
    {
     "name": "stdout",
     "output_type": "stream",
     "text": [
      "\n",
      "In the col_null_df, the feature Applicant has the following value counts.\n",
      "\n"
     ]
    },
    {
     "data": {
      "text/plain": [
       "Applicant\n",
       "QI LI DBA: LQ Design GROUP Ltd                    212\n",
       "Vincent Wan DBA: D.V. Design Ltd.                 198\n",
       "Carman Kwan DBA: Architectural Collective Inc.    174\n",
       "Michael Lu DBA: DWG Design Work Group Ltd.        101\n",
       "Khang Nguyen DBA: Architrix Design Studio          98\n",
       "                                                 ... \n",
       "Winga LAM                                           1\n",
       "HUEN KEE LIEW                                       1\n",
       "RAJWINDER MANN                                      1\n",
       "Matt Stogryn DBA: iFortune Homes Inc.               1\n",
       "Garinder Deo                                        1\n",
       "Name: count, Length: 2875, dtype: int64"
      ]
     },
     "metadata": {},
     "output_type": "display_data"
    },
    {
     "name": "stdout",
     "output_type": "stream",
     "text": [
      "\n",
      "In the col_null_df, the feature PropertyUse has the following value counts.\n",
      "\n"
     ]
    },
    {
     "data": {
      "text/plain": [
       "PropertyUse\n",
       "Dwelling Uses                                                                        8647\n",
       "Dwelling Uses, Retail Uses                                                             87\n",
       "Dwelling Uses, Parking Uses                                                            53\n",
       "Dwelling Uses, Parking Uses, Retail Uses                                               38\n",
       "Dwelling Uses, Office Uses                                                             21\n",
       "Dwelling Uses, Office Uses, Retail Uses                                                19\n",
       "Dwelling Uses, Retail Uses, Service Uses                                               18\n",
       "Dwelling Uses, Parking Uses, Retail Uses, Service Uses                                 17\n",
       "Dwelling Uses, Service Uses                                                            17\n",
       "Dwelling Uses, Institutional Uses                                                      11\n",
       "Dwelling Uses, Institutional Uses, Parking Uses                                         9\n",
       "Dwelling Uses, Office Uses, Parking Uses, Retail Uses                                   8\n",
       "Cultural/Recreational Uses, Dwelling Uses                                               7\n",
       "Dwelling Uses, Institutional Uses, Parking Uses, Retail Uses                            6\n",
       "Dwelling Uses, Manufacturing Uses                                                       6\n",
       "Dwelling Uses, Office Uses, Parking Uses, Retail Uses, Service Uses                     6\n",
       "Dwelling Uses, Parking Uses, Service Uses                                               4\n",
       "Dwelling Uses, Office Uses, Service Uses                                                4\n",
       "Agricultural Uses, Dwelling Uses                                                        2\n",
       "Agricultural Uses, Dwelling Uses, Parking Uses                                          2\n",
       "Cultural/Recreational Uses, Dwelling Uses, Parking Uses, Retail Uses                    1\n",
       "Dwelling Uses, Office Uses, Parking Uses, Service Uses                                  1\n",
       "Dwelling Uses, Institutional Uses, Office Uses, Retail Uses                             1\n",
       "Dwelling Uses, Live-Work Uses                                                           1\n",
       "Dwelling Uses, Manufacturing Uses, Office Uses, Parking Uses                            1\n",
       "Dwelling Uses, Institutional Uses, Service Uses                                         1\n",
       "Dwelling Uses, Office Uses, Retail Uses, Service Uses                                   1\n",
       "Dwelling Uses, Institutional Uses, Office Uses, Parking Uses, Service Uses              1\n",
       "Cultural/Recreational Uses, Dwelling Uses, Office Uses                                  1\n",
       "Dwelling Uses, Institutional Uses, Parking Uses, Retail Uses, Service Uses              1\n",
       "Cultural/Recreational Uses, Dwelling Uses, Office Uses, Parking Uses, Retail Uses       1\n",
       "Dwelling Uses, Institutional Uses, Office Uses                                          1\n",
       "Dwelling Uses, Institutional Uses, Retail Uses                                          1\n",
       "Cultural/Recreational Uses, Dwelling Uses, Parking Uses                                 1\n",
       "Dwelling Uses, Manufacturing Uses, Office Uses                                          1\n",
       "Dwelling Uses, Institutional Uses, Office Uses, Parking Uses, Retail Uses               1\n",
       "Dwelling Uses, Manufacturing Uses, Office Uses, Retail Uses, Service Uses               1\n",
       "Dwelling Uses, Office Uses, Parking Uses                                                1\n",
       "Dwelling Uses, Manufacturing Uses, Office Uses, Parking Uses, Service Uses              1\n",
       "Dwelling Uses, Live-Work Uses, Parking Uses, Retail Uses, Service Uses                  1\n",
       "Name: count, dtype: int64"
      ]
     },
     "metadata": {},
     "output_type": "display_data"
    },
    {
     "name": "stdout",
     "output_type": "stream",
     "text": [
      "\n",
      "In the col_null_df, the feature SpecificUseCategory has the following value counts.\n",
      "\n"
     ]
    },
    {
     "data": {
      "text/plain": [
       "SpecificUseCategory\n",
       "Single Detached House                                                                                        4922\n",
       "Single Detached House w/Sec Suite                                                                            1459\n",
       "Multiple Dwelling                                                                                            1081\n",
       "Duplex                                                                                                        413\n",
       "Multiple Conversion Dwelling                                                                                  191\n",
       "                                                                                                             ... \n",
       "Printing or Publishing, Dwelling Unit                                                                           1\n",
       "Dwelling Unit w/ Other Use, Restaurant - Class 1                                                                1\n",
       "Miscellaneous Products Mfg-Class A, General Office, Restaurant - Class 1, Multiple Dwelling, Retail Store       1\n",
       "Single Detached House, Barber Shop or Beauty Salon                                                              1\n",
       "Apartment, Social Service Centre                                                                                1\n",
       "Name: count, Length: 215, dtype: int64"
      ]
     },
     "metadata": {},
     "output_type": "display_data"
    },
    {
     "name": "stdout",
     "output_type": "stream",
     "text": [
      "\n",
      "In the col_null_df, the feature BuildingContractor has the following value counts.\n",
      "\n"
     ]
    },
    {
     "data": {
      "text/plain": [
       "BuildingContractor\n",
       "Canadian Excavating Ltd              412\n",
       "Bhullar Excavating and Demolition    260\n",
       "East West Excavating Ltd             236\n",
       "JVT EXCAVATING & DEMOLITION LTD      231\n",
       "Kingsman Excavating Ltd.             177\n",
       "                                    ... \n",
       "A-1 Window Mfg Ltd                     1\n",
       "Thi M T Tran                           1\n",
       "PROFORM CONSTRUCTION GROUP LTD         1\n",
       "Cornat Construction Ltd                1\n",
       "JPC Services Inc                       1\n",
       "Name: count, Length: 1022, dtype: int64"
      ]
     },
     "metadata": {},
     "output_type": "display_data"
    },
    {
     "name": "stdout",
     "output_type": "stream",
     "text": [
      "\n",
      "In the col_null_df, the feature BuildingContractorAddress has the following value counts.\n",
      "\n"
     ]
    },
    {
     "data": {
      "text/plain": [
       "BuildingContractorAddress\n",
       "6898 130 St\\nSurrey, BC  V3W 4J5                            412\n",
       "968 E 53RD AV  \\nVancouver, BC  V5X 1J6                     204\n",
       "Unit 1104, 7360 137 ST\\n15559 59 Ave\\nSurrey, BC  V3S4N8    177\n",
       "12498 55 Ave\\nSurrey, BC  V3X 3V5                           172\n",
       "5649 ASH ST  \\nVancouver, BC  V5Z 3G8                       144\n",
       "                                                           ... \n",
       "2115 W 34TH AV  \\nVancouver, BC  V6M 1G3                      1\n",
       "4830 INVERNESS ST  \\nVancouver, BC  V5V 4X6                   1\n",
       "6498 DUMFRIES ST  \\nVancouver, BC  V5P 3B4                    1\n",
       "4418 JAMES ST  \\nVancouver, BC  V5V 3J1                       1\n",
       "12306 McTavish Rd  \\nPitt Meadows, BC  V3Y 1Z1                1\n",
       "Name: count, Length: 686, dtype: int64"
      ]
     },
     "metadata": {},
     "output_type": "display_data"
    },
    {
     "name": "stdout",
     "output_type": "stream",
     "text": [
      "\n",
      "In the col_null_df, the feature GeoLocalArea has the following value counts.\n",
      "\n"
     ]
    },
    {
     "data": {
      "text/plain": [
       "GeoLocalArea\n",
       "Kensington-Cedar Cottage    966\n",
       "Renfrew-Collingwood         749\n",
       "Hastings-Sunrise            730\n",
       "Riley Park                  634\n",
       "Dunbar-Southlands           614\n",
       "Sunset                      537\n",
       "Kitsilano                   533\n",
       "Grandview-Woodland          448\n",
       "Victoria-Fraserview         418\n",
       "Marpole                     405\n",
       "West Point Grey             331\n",
       "Killarney                   307\n",
       "Kerrisdale                  301\n",
       "Mount Pleasant              297\n",
       "Oakridge                    275\n",
       "Arbutus Ridge               270\n",
       "Shaughnessy                 255\n",
       "South Cambie                240\n",
       "West End                    220\n",
       "Downtown                    165\n",
       "Fairview                    135\n",
       "Strathcona                  106\n",
       "Name: count, dtype: int64"
      ]
     },
     "metadata": {},
     "output_type": "display_data"
    },
    {
     "data": {
      "text/plain": [
       "(9002,\n",
       " 34.8590458488228,\n",
       "         PermitNumber PermitNumberCreatedDate   IssueDate  PermitElapsedDays  \\\n",
       " 2      BP-2022-02723              2022-05-25  2022-11-14                173   \n",
       " 4      DB-2017-02311              2017-05-02  2017-08-23                113   \n",
       " 10     BP-2017-05079              2017-09-27  2018-08-03                310   \n",
       " 12     DB-2019-02085              2019-05-13  2019-06-24                 42   \n",
       " 15     BP-2017-00509              2017-01-30  2017-06-12                133   \n",
       " ...              ...                     ...         ...                ...   \n",
       " 32713  BP-2022-03253              2022-06-22  2022-06-28                  6   \n",
       " 32730  BP-2022-04148              2022-08-25  2023-06-22                301   \n",
       " 32736  BP-2022-05542              2022-12-16  2023-08-22                249   \n",
       " 32740  DB-2019-02157              2019-05-16  2020-06-22                403   \n",
       " 32742  BP-2022-01383              2022-03-16  2022-10-14                212   \n",
       " \n",
       "        ProjectValue                   TypeOfWork  \\\n",
       " 2           15000.0  Demolition / Deconstruction   \n",
       " 4           63306.0  Demolition / Deconstruction   \n",
       " 10          15000.0  Demolition / Deconstruction   \n",
       " 12        4000000.0        Addition / Alteration   \n",
       " 15         160000.0        Addition / Alteration   \n",
       " ...             ...                          ...   \n",
       " 32713     1000000.0        Addition / Alteration   \n",
       " 32730       15000.0  Demolition / Deconstruction   \n",
       " 32736      500000.0        Addition / Alteration   \n",
       " 32740      121050.0        Addition / Alteration   \n",
       " 32742       15000.0  Demolition / Deconstruction   \n",
       " \n",
       "                                                 Address  \\\n",
       " 2             1876 E 49TH AVENUE, Vancouver, BC V5P 1T3   \n",
       " 4              733 W 14TH AVENUE, Vancouver, BC V5Z 1P8   \n",
       " 10           4995 CHESTER STREET, Vancouver, BC V5W 3A7   \n",
       " 12                  2775 COOPERATIVE WAY, Vancouver, BC   \n",
       " 15              939 W 7TH AVENUE, Vancouver, BC V5Z 1C4   \n",
       " ...                                                 ...   \n",
       " 32713     6150 GLENDALOUGH PLACE, Vancouver, BC V6N 1S6   \n",
       " 32730  5807 PRINCE EDWARD STREET, Vancouver, BC V5W 2X8   \n",
       " 32736      245 E HASTINGS STREET, Vancouver, BC V6A 1P2   \n",
       " 32740       5890 CULLODEN STREET, Vancouver, BC V5W 3S2   \n",
       " 32742         6272 BUTLER STREET, Vancouver, BC V5S 3K4   \n",
       " \n",
       "                                       ProjectDescription PermitCategory  \\\n",
       " 2      Low Density Housing - Demolition / Deconstruct...            NaN   \n",
       " 4      Field Review - Demolition / Deconstruction - T...            NaN   \n",
       " 10     Low Density Housing - Demolition / Deconstruct...            NaN   \n",
       " 12     High Density Housing / Commercial - Addition /...            NaN   \n",
       " 15     High Density Housing / Commercial - Addition /...            NaN   \n",
       " ...                                                  ...            ...   \n",
       " 32713  Low Density Housing - Addition / Alteration - ...            NaN   \n",
       " 32730  Low Density Housing - Demolition / Deconstruct...            NaN   \n",
       " 32736  High Density Housing / Commercial - Addition /...            NaN   \n",
       " 32740  Low Density Housing - Addition / Alteration - ...            NaN   \n",
       " 32742  Low Density Housing - Demolition / Deconstruct...            NaN   \n",
       " \n",
       "                                                Applicant  \\\n",
       " 2                                          Ghulam Jelani   \n",
       " 4             Stephen Wish DBA: D. Litchfield & Co. Ltd.   \n",
       " 10                        Crown Pacific Development Ltd.   \n",
       " 12                     Doru Cornescu DBA: Mcintosh Perry   \n",
       " 15                     Doru Cornescu DBA: Mcintosh Perry   \n",
       " ...                                                  ...   \n",
       " 32713           Silveria Roselli DBA: Tavan Developments   \n",
       " 32730  Theorem Developments Ltd DBA: Theorem Developm...   \n",
       " 32736      Roveen Kandola DBA: Guru Nanak's Free Kitchen   \n",
       " 32740                                       Michael Jung   \n",
       " 32742                                       Garinder Deo   \n",
       " \n",
       "                                         ApplicantAddress  \\\n",
       " 2           307 - 6330 Fraser St\\nvancouver, BC  V5W 3A4   \n",
       " 4      3040 Westwood Street\\nPort Coquitlam, BC  V3C 3L7   \n",
       " 10            180 - 15100 Knox Way\\nRichmond, BC  V6V3A8   \n",
       " 12          1003 Brunette Avenue\\nCoquitlam, BC  V3K 6Z5   \n",
       " 15          1003 Brunette Avenue\\nCoquitlam, BC  V3K 6Z5   \n",
       " ...                                                  ...   \n",
       " 32713       150-628 East Kent Ave\\nVancouver, BC  V5X0B2   \n",
       " 32730  Suite 318 938 Howe Street\\nVancouver, BC  V6Z 1N9   \n",
       " 32736        212 Eight Ave\\nNew Westminster, BC  V3L 1Y2   \n",
       " 32740          5890 culloden st\\nVancouver , BC  V5W 3S2   \n",
       " 32742         6255 Butler Street\\nVancouver, BC  V5S 3K5   \n",
       " \n",
       "                              PropertyUse                SpecificUseCategory  \\\n",
       " 2                          Dwelling Uses              Single Detached House   \n",
       " 4                          Dwelling Uses                  Multiple Dwelling   \n",
       " 10                         Dwelling Uses  Single Detached House w/Sec Suite   \n",
       " 12                         Dwelling Uses       Multiple Conversion Dwelling   \n",
       " 15                         Dwelling Uses                  Multiple Dwelling   \n",
       " ...                                  ...                                ...   \n",
       " 32713                      Dwelling Uses              Single Detached House   \n",
       " 32730                      Dwelling Uses              Single Detached House   \n",
       " 32736  Dwelling Uses, Institutional Uses   Apartment, Social Service Centre   \n",
       " 32740                      Dwelling Uses              Single Detached House   \n",
       " 32742                      Dwelling Uses              Single Detached House   \n",
       " \n",
       "                             BuildingContractor  \\\n",
       " 2            Bhullar Excavating and Demolition   \n",
       " 4                      D Litchfield And Co Ltd   \n",
       " 10                      BigCity Excavation Ltd   \n",
       " 12     Columbus Construction & Restoration Ltd   \n",
       " 15                   Silvania Construction Ltd   \n",
       " ...                                        ...   \n",
       " 32713                                      NaN   \n",
       " 32730      Hans Demolition and Excavating Ltd.   \n",
       " 32736                                      NaN   \n",
       " 32740                                      NaN   \n",
       " 32742                   Seymour Excavating Ltd   \n",
       " \n",
       "                              BuildingContractorAddress  IssueYear  \\\n",
       " 2                                                  NaN       2022   \n",
       " 4      3040 Westwood St  \\nPort Coquitlam, BC  V3C 3L7       2017   \n",
       " 10            2295 E 48TH AV  \\nVancouver, BC  V5P 1R9       2018   \n",
       " 12                                                 NaN       2019   \n",
       " 15              3156 Pier Dr  \\nCoquitlam, BC  V3C 5S5       2017   \n",
       " ...                                                ...        ...   \n",
       " 32713                                              NaN       2022   \n",
       " 32730                12498 55 Ave\\nSurrey, BC  V3X 3V5       2023   \n",
       " 32736                                              NaN       2023   \n",
       " 32740                                              NaN       2020   \n",
       " 32742                                              NaN       2022   \n",
       " \n",
       "                    GeoLocalArea  \\\n",
       " 2           Victoria-Fraserview   \n",
       " 4                      Fairview   \n",
       " 10     Kensington-Cedar Cottage   \n",
       " 12          Renfrew-Collingwood   \n",
       " 15                     Fairview   \n",
       " ...                         ...   \n",
       " 32713         Dunbar-Southlands   \n",
       " 32730                    Sunset   \n",
       " 32736                Strathcona   \n",
       " 32740                    Sunset   \n",
       " 32742                 Killarney   \n",
       " \n",
       "                                                     Geom YearMonth  \\\n",
       " 2      {\"coordinates\":[-123.0677731,49.2249324],\"type...   2022-11   \n",
       " 4      {\"coordinates\":[-123.1211653,49.2588709],\"type...   2017-08   \n",
       " 10     {\"coordinates\":[-123.0894871,49.239411],\"type\"...   2018-08   \n",
       " 12     {\"coordinates\":[-123.0477545,49.2573916],\"type...   2019-06   \n",
       " 15     {\"coordinates\":[-123.1254878,49.2653723],\"type...   2017-06   \n",
       " ...                                                  ...       ...   \n",
       " 32713  {\"coordinates\":[-123.1797353,49.2306395],\"type...   2022-06   \n",
       " 32730  {\"coordinates\":[-123.0976557,49.2319655],\"type...   2023-06   \n",
       " 32736  {\"coordinates\":[-123.0984785,49.2816194],\"type...   2023-08   \n",
       " 32740  {\"coordinates\":[-123.0780836,49.2310135],\"type...   2020-06   \n",
       " 32742  {\"coordinates\":[-123.0332274,49.2267889],\"type...   2022-10   \n",
       " \n",
       "                    geo_point_2d  \n",
       " 2      49.2249324, -123.0677731  \n",
       " 4      49.2588709, -123.1211653  \n",
       " 10      49.239411, -123.0894871  \n",
       " 12     49.2573916, -123.0477545  \n",
       " 15     49.2653723, -123.1254878  \n",
       " ...                         ...  \n",
       " 32713  49.2306395, -123.1797353  \n",
       " 32730  49.2319655, -123.0976557  \n",
       " 32736  49.2816194, -123.0984785  \n",
       " 32740  49.2310135, -123.0780836  \n",
       " 32742  49.2267889, -123.0332274  \n",
       " \n",
       " [9002 rows x 20 columns])"
      ]
     },
     "execution_count": 24,
     "metadata": {},
     "output_type": "execute_result"
    }
   ],
   "source": [
    "# Examine PermitCategory nulls\n",
    "examine_col_nulls(dwelling_permits_df,\"PermitCategory\")"
   ]
  },
  {
   "cell_type": "code",
   "execution_count": null,
   "id": "14d5fc91-5bf0-4b37-8715-df984a6d2a9b",
   "metadata": {},
   "outputs": [],
   "source": []
  },
  {
   "cell_type": "code",
   "execution_count": 25,
   "id": "0b0e9456-b6ad-4b63-b192-88f40cf7d648",
   "metadata": {},
   "outputs": [
    {
     "data": {
      "text/plain": [
       "TypeOfWork\n",
       "Addition / Alteration                   10383\n",
       "New Building                             9651\n",
       "Demolition / Deconstruction              5727\n",
       "Salvage and Abatement                      30\n",
       "Outdoor Uses (No Buildings Proposed)       22\n",
       "Temporary Building / Structure             11\n",
       "Name: count, dtype: int64"
      ]
     },
     "execution_count": 25,
     "metadata": {},
     "output_type": "execute_result"
    }
   ],
   "source": [
    "# Value counts for the TypeOfWork column\n",
    "dwelling_permits_df['TypeOfWork'].value_counts()"
   ]
  },
  {
   "cell_type": "markdown",
   "id": "ea207972-a71b-4664-a753-df0e9763de27",
   "metadata": {},
   "source": [
    "### MISCELLANEOUS EDA"
   ]
  },
  {
   "cell_type": "code",
   "execution_count": 26,
   "id": "fe51cba6-d584-4b6b-a812-1f9035532240",
   "metadata": {},
   "outputs": [
    {
     "name": "stdout",
     "output_type": "stream",
     "text": [
      "<class 'pandas.core.frame.DataFrame'>\n",
      "Index: 25824 entries, 0 to 32743\n",
      "Data columns (total 20 columns):\n",
      " #   Column                     Non-Null Count  Dtype  \n",
      "---  ------                     --------------  -----  \n",
      " 0   PermitNumber               25824 non-null  object \n",
      " 1   PermitNumberCreatedDate    25824 non-null  object \n",
      " 2   IssueDate                  25824 non-null  object \n",
      " 3   PermitElapsedDays          25824 non-null  int64  \n",
      " 4   ProjectValue               25824 non-null  float64\n",
      " 5   TypeOfWork                 25824 non-null  object \n",
      " 6   Address                    25686 non-null  object \n",
      " 7   ProjectDescription         25824 non-null  object \n",
      " 8   PermitCategory             16822 non-null  object \n",
      " 9   Applicant                  25824 non-null  object \n",
      " 10  ApplicantAddress           25745 non-null  object \n",
      " 11  PropertyUse                25824 non-null  object \n",
      " 12  SpecificUseCategory        25823 non-null  object \n",
      " 13  BuildingContractor         18335 non-null  object \n",
      " 14  BuildingContractorAddress  12741 non-null  object \n",
      " 15  IssueYear                  25824 non-null  int64  \n",
      " 16  GeoLocalArea               25509 non-null  object \n",
      " 17  Geom                       25509 non-null  object \n",
      " 18  YearMonth                  25824 non-null  object \n",
      " 19  geo_point_2d               25509 non-null  object \n",
      "dtypes: float64(1), int64(2), object(17)\n",
      "memory usage: 4.1+ MB\n"
     ]
    },
    {
     "data": {
      "text/plain": [
       "None"
      ]
     },
     "metadata": {},
     "output_type": "display_data"
    }
   ],
   "source": [
    "# Display dwelling permits info\n",
    "display(dwelling_permits_df.info())"
   ]
  }
 ],
 "metadata": {
  "kernelspec": {
   "display_name": "Python (capstone_env)",
   "language": "python",
   "name": "capstone_env"
  },
  "language_info": {
   "codemirror_mode": {
    "name": "ipython",
    "version": 3
   },
   "file_extension": ".py",
   "mimetype": "text/x-python",
   "name": "python",
   "nbconvert_exporter": "python",
   "pygments_lexer": "ipython3",
   "version": "3.11.5"
  }
 },
 "nbformat": 4,
 "nbformat_minor": 5
}
