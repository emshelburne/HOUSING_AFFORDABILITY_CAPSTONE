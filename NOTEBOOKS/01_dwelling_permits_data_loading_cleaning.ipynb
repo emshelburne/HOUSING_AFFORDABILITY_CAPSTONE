{
 "cells": [
  {
   "cell_type": "markdown",
   "id": "1eb516ff-b18d-4f44-9b71-ed4675613d6e",
   "metadata": {},
   "source": [
    "# Cleaning and Preprocessing: Dwelling Permits Data"
   ]
  },
  {
   "cell_type": "markdown",
   "id": "704e95b4-7f46-4f19-abd6-6b2a417d238d",
   "metadata": {},
   "source": [
    "## Preliminaries"
   ]
  },
  {
   "cell_type": "code",
   "execution_count": 6,
   "id": "67c51bff-8991-4841-b225-e8994c38f283",
   "metadata": {},
   "outputs": [],
   "source": [
    "# Standard imports\n",
    "import numpy as np\n",
    "import pandas as pd\n",
    "import matplotlib.pyplot as plt\n",
    "import seaborn as sns\n",
    "from warnings import filterwarnings\n",
    "\n",
    "# Important functionality for this lesson\n",
    "from scipy import stats\n",
    "import statsmodels.api as sm\n",
    "import os"
   ]
  },
  {
   "cell_type": "code",
   "execution_count": 7,
   "id": "7f741b06-0a3f-4696-b70d-316d2632404d",
   "metadata": {},
   "outputs": [],
   "source": [
    "# Set directory\n",
    "os.chdir(\"C:/Users/emshe/Desktop/BRAINSTATION/CAPSTONE/GIT_REPO/DATA/PERMITS\")"
   ]
  },
  {
   "cell_type": "markdown",
   "id": "3b40168f-ea49-438b-af61-fb8fd6ef4ea0",
   "metadata": {},
   "source": [
    "## Define base data processor class"
   ]
  },
  {
   "cell_type": "code",
   "execution_count": 12,
   "id": "177054e8-b093-4ea8-ba06-b5eba7b95d0e",
   "metadata": {},
   "outputs": [],
   "source": [
    "# Define base data processor class\n",
    "\n",
    "\n",
    "class BaseDataProcessor:\n",
    "        \n",
    "    def __init__(self, data_path):\n",
    "         \n",
    "        \"\"\"\n",
    "        Initialize with just a file path\n",
    "        \"\"\"\n",
    "        \n",
    "        self.data_path = data_path\n",
    "        self.original_data = pd.read_csv(self.data_path)\n",
    "        self.data = pd.read_csv(self.data_path)\n",
    "        self.cleaned = False\n",
    "        \n",
    "    def reset_data(self):\n",
    "        \n",
    "        \"\"\"\n",
    "        Reset data to original read of the csv\n",
    "        \"\"\"\n",
    "        \n",
    "        self.data = pd.read_csv(self.data_path)\n",
    "        self.cleaned = False\n",
    "        return self,self.data\n",
    "        \n",
    "    def is_clean(self):\n",
    "                \n",
    "        \"\"\"\n",
    "        Check if data is clean\n",
    "        \"\"\"\n",
    "        \n",
    "        print(f'Data is clean: {self.cleaned}')\n",
    "        return self\n",
    "        \n",
    "    def preprocess_data(self):\n",
    "        pass\n",
    "\n",
    "    def load_and_process_data(self):\n",
    "        pass\n",
    "\n",
    "    def save_processed_data(self,file_path):\n",
    "\n",
    "        \"\"\"\n",
    "        Save processed file if data is cleaned\n",
    "        \"\"\"\n",
    "        \n",
    "        if not self.cleaned:\n",
    "            raise ValueError(\"Data has not been cleaned. Run self.clean_data() before saving.\")\n",
    "        self.data.to_csv(file_path, index=False)\n",
    "        print(f\"Processed data saved to {file_path}.\")"
   ]
  },
  {
   "cell_type": "code",
   "execution_count": 13,
   "id": "fa91c412-c9da-482c-abcd-daed2b430130",
   "metadata": {},
   "outputs": [],
   "source": [
    "# Define permits processor child class\n",
    "\n",
    "class PermitsProcessor(BaseDataProcessor):\n",
    "    \n",
    "    def clean_data(self):\n",
    "\n",
    "        \"\"\"\n",
    "        Clean data\n",
    "        \"\"\"\n",
    "        \n",
    "        if self.cleaned is False:\n",
    "            self.data = self.update_data_types()\n",
    "            self.data = self.drop_unnecessary_cols()\n",
    "            self.data = self.remove_ProjectValue_zeros()\n",
    "            self.data = self.impute_unknowns()\n",
    "            self.data = self.drop_rows_with_key_nulls()\n",
    "            self.cleaned = True\n",
    "        else: print(\"Data is already clean.\")\n",
    "        \n",
    "        return self, self.data\n",
    "        \n",
    "    def update_data_types(self):\n",
    "\n",
    "        \"\"\"\n",
    "        Update data types as necessary\n",
    "        \"\"\"\n",
    "        \n",
    "        for date_col in ['IssueDate','PermitNumberCreatedDate']:\n",
    "            self.data[date_col] = pd.to_datetime(self.data[date_col],format='%Y-%m-%d') # Change date columns to datetime format\n",
    "        for date_col in ['YearMonth']:\n",
    "            self.data[date_col] = pd.to_datetime(self.data[date_col],format = '%Y-%m')\n",
    "        return self.data\n",
    "    \n",
    "    def drop_unnecessary_cols(self):\n",
    "        \n",
    "        \"\"\"\n",
    "        Drop all unnecessary or redundant columns\n",
    "        \"\"\"\n",
    "        \n",
    "        if self.cleaned is False:\n",
    "            \n",
    "            \n",
    "            irrelevant_cols = ['ApplicantAddress', 'BuildingContractorAddress']\n",
    "            self.data = self.data.drop(columns = irrelevant_cols) # Drop irrelevant columns\n",
    "            \n",
    "            # Drop IssueYear if there are no conflicts\n",
    "            if (self.data['IssueDate'].dt.year != self.data['IssueYear']).sum() == 0: # Check if IssueDate and IssueYear are consistent\n",
    "                        self.data = self.data.drop(columns = ['IssueYear']) # Drop redundant IssueYear column\n",
    "                        # return self.data\n",
    "            # Drop YearMonth from data set if there are no conflicts\n",
    "            YYConflicts = (self.data['IssueDate'].dt.year != self.data['YearMonth'].dt.year)\n",
    "            MMConflicts = (self.data['IssueDate'].dt.month != self.data['YearMonth'].dt.month)\n",
    "            conflict_sum = YYConflicts.sum() + MMConflicts.sum()\n",
    "            if conflict_sum == 0:\n",
    "                self.data = self.data.drop(columns = ['YearMonth'])\n",
    "            return self.data\n",
    "            \n",
    "    def drop_rows_with_key_nulls(self):\n",
    "\n",
    "        \"\"\"\n",
    "        Drop rows with important nulls as necessary\n",
    "        \"\"\"\n",
    "        \n",
    "        # Columns with essential values\n",
    "        # SpecificUseCategory is included as it only has one null value to drop\n",
    "        columns_to_check = ['GeoLocalArea', 'Geom', 'geo_point_2d', 'Address','SpecificUseCategory']\n",
    "        # Drop rows where any of these columns have nulls\n",
    "        self.data = self.data.dropna(subset=columns_to_check)\n",
    "        return self.data\n",
    "        \n",
    "    def impute_unknowns(self):\n",
    "\n",
    "        \"\"\"\n",
    "        Impute 'unknown' strings into data as necessary\n",
    "        \"\"\"\n",
    "        \n",
    "        # List of categorical columns with nulls to replace with 'unknown'\n",
    "        categorical_cols = ['PermitCategory', 'BuildingContractor']\n",
    "        # Fill NaN values in these columns with 'Unknown'\n",
    "        self.data[categorical_cols] = self.data[categorical_cols].fillna('unknown')\n",
    "        return self.data\n",
    "\n",
    "    def remove_ProjectValue_zeros(self):\n",
    "\n",
    "        \"\"\"\n",
    "        Remove projects with value equal to zero\n",
    "        \"\"\"\n",
    "        \n",
    "        self.data = self.data[self.data['ProjectValue'] != 0.0]\n",
    "        return self.data"
   ]
  },
  {
   "cell_type": "code",
   "execution_count": 8,
   "id": "381b61e4-f7e1-40ce-a50b-e137360bfb31",
   "metadata": {},
   "outputs": [
    {
     "name": "stdout",
     "output_type": "stream",
     "text": [
      "Data is clean: False\n"
     ]
    }
   ],
   "source": [
    "# Initialize dwelling permits instance\n",
    "dwelling_permits = PermitsProcessor(\"issued_building_permits_filter_dwelling_purposes.csv\")\n",
    "\n",
    "# Reset data using .reset_data() method\n",
    "dwelling_permits.reset_data()\n",
    "\n",
    "# Check if data is clean\n",
    "print(f'Data is clean: {dwelling_permits.cleaned}')"
   ]
  },
  {
   "cell_type": "code",
   "execution_count": 90,
   "id": "7cdce196-eb0a-4875-b52f-a40acad5a4a3",
   "metadata": {
    "collapsed": true,
    "jupyter": {
     "outputs_hidden": true,
     "source_hidden": true
    }
   },
   "outputs": [
    {
     "data": {
      "text/plain": [
       "Index(['PermitNumber', 'PermitNumberCreatedDate', 'IssueDate',\n",
       "       'PermitElapsedDays', 'ProjectValue', 'TypeOfWork', 'Address',\n",
       "       'ProjectDescription', 'PermitCategory', 'Applicant', 'ApplicantAddress',\n",
       "       'PropertyUse', 'SpecificUseCategory', 'BuildingContractor',\n",
       "       'BuildingContractorAddress', 'IssueYear', 'GeoLocalArea', 'Geom',\n",
       "       'YearMonth', 'geo_point_2d'],\n",
       "      dtype='object')"
      ]
     },
     "execution_count": 90,
     "metadata": {},
     "output_type": "execute_result"
    }
   ],
   "source": [
    "# store dwelling_permits_og_df using .original_data method\n",
    "dwelling_permits_og_df = dwelling_permits.original_data\n",
    "dwelling_permits_og_df.columns"
   ]
  },
  {
   "cell_type": "code",
   "execution_count": 91,
   "id": "b9418128-e15a-4743-9f22-3d9d40a04dde",
   "metadata": {
    "collapsed": true,
    "jupyter": {
     "outputs_hidden": true,
     "source_hidden": true
    }
   },
   "outputs": [],
   "source": [
    "# Uncomment to run .clean_data() method\n",
    "# Set dwelling_permits_df as numpy array returned by .clean_data() method\n",
    "    # dwelling_permits_df = dwelling_permits.clean_data()\n",
    "    # dwelling_permits_df.info()"
   ]
  },
  {
   "cell_type": "code",
   "execution_count": 92,
   "id": "a03ddfd3-eb7a-4f7a-98d9-a8cbffe09359",
   "metadata": {
    "collapsed": true,
    "jupyter": {
     "outputs_hidden": true,
     "source_hidden": true
    }
   },
   "outputs": [],
   "source": [
    "# Clean data\n",
    "dwelling_permits, dwelling_permits_df = dwelling_permits.clean_data()"
   ]
  },
  {
   "cell_type": "code",
   "execution_count": 93,
   "id": "0e9326b6-f1b5-4ac9-bfbe-beed96c3f204",
   "metadata": {
    "collapsed": true,
    "jupyter": {
     "outputs_hidden": true,
     "source_hidden": true
    }
   },
   "outputs": [
    {
     "name": "stdout",
     "output_type": "stream",
     "text": [
      "Data is clean: True\n"
     ]
    },
    {
     "data": {
      "text/plain": [
       "<__main__.PermitsProcessor at 0x2a3c3c144d0>"
      ]
     },
     "execution_count": 93,
     "metadata": {},
     "output_type": "execute_result"
    }
   ],
   "source": [
    "# Check if data is clean\n",
    "dwelling_permits.is_clean()"
   ]
  },
  {
   "cell_type": "markdown",
   "id": "06bd270a-f8c7-44cc-bc7e-59b84e4159ff",
   "metadata": {},
   "source": [
    "## Step 1: update data types"
   ]
  },
  {
   "cell_type": "code",
   "execution_count": 94,
   "id": "97843ecf-b2be-431a-adc2-36c2e5d101c8",
   "metadata": {
    "collapsed": true,
    "jupyter": {
     "outputs_hidden": true,
     "source_hidden": true
    },
    "scrolled": true
   },
   "outputs": [],
   "source": [
    "# Update date columns of dwelling_permits_df to datetime format with .update_data_types method\n",
    "# dwelling_permits_df = dwelling_permits.update_data_types()\n",
    "# dwelling_permits_df.info()"
   ]
  },
  {
   "cell_type": "code",
   "execution_count": 95,
   "id": "67372281-936b-4436-9b2d-195faa29c7ed",
   "metadata": {
    "collapsed": true,
    "jupyter": {
     "outputs_hidden": true,
     "source_hidden": true
    },
    "scrolled": true
   },
   "outputs": [],
   "source": [
    "# Update data types \n",
    "# dwelling_permits_df = dwelling_permits.update_data_types()\n",
    "# dwelling_permits_df.info()"
   ]
  },
  {
   "cell_type": "markdown",
   "id": "ea070955-98c9-46b5-8265-c5b3c5f5db62",
   "metadata": {},
   "source": [
    "## Step 2: Drop unnecessary columns (IssueYear, YearMonth)"
   ]
  },
  {
   "cell_type": "code",
   "execution_count": 96,
   "id": "ceb6f72c-c04e-4a02-9968-e1011d96dfea",
   "metadata": {
    "collapsed": true,
    "jupyter": {
     "outputs_hidden": true,
     "source_hidden": true
    }
   },
   "outputs": [],
   "source": [
    "# Drop irrelevant columns\n",
    "\n",
    "# 'ApplicantAddress' and 'BuildingContractorAddress' are not relevant as these columns just contain contact info\n",
    "# irrelevant_cols = ['ApplicantAddress', 'BuildingContractorAddress']\n",
    "# dwelling_permits_df.drop(columns = irrelevant_cols, axis = 1,inplace = True)"
   ]
  },
  {
   "cell_type": "code",
   "execution_count": 97,
   "id": "8214a2fe-ae25-4d4a-8e6e-794801843ca9",
   "metadata": {
    "collapsed": true,
    "jupyter": {
     "outputs_hidden": true,
     "source_hidden": true
    }
   },
   "outputs": [
    {
     "name": "stdout",
     "output_type": "stream",
     "text": [
      "Issue Year in Columns:  False\n"
     ]
    }
   ],
   "source": [
    "# Check if IssueYear is present as column\n",
    "issue_year_present = ('IssueYear' in dwelling_permits_df.columns)\n",
    "print(f'Issue Year in Columns:  {issue_year_present}' )"
   ]
  },
  {
   "cell_type": "code",
   "execution_count": 98,
   "id": "ed7aecda-1000-48bd-a761-a80226a9f472",
   "metadata": {
    "collapsed": true,
    "jupyter": {
     "outputs_hidden": true,
     "source_hidden": true
    }
   },
   "outputs": [
    {
     "name": "stdout",
     "output_type": "stream",
     "text": [
      "Data is clean: False\n"
     ]
    }
   ],
   "source": [
    "# Reset data and check if cleaned (should be False)\n",
    "dwelling_permits.reset_data()\n",
    "dwelling_permits_df = dwelling_permits.data\n",
    "print(f'Data is clean: {dwelling_permits.cleaned}')"
   ]
  },
  {
   "cell_type": "code",
   "execution_count": 99,
   "id": "293cf9b2-280e-4b93-b420-78d112506d03",
   "metadata": {
    "collapsed": true,
    "jupyter": {
     "outputs_hidden": true,
     "source_hidden": true
    }
   },
   "outputs": [
    {
     "name": "stdout",
     "output_type": "stream",
     "text": [
      "<class 'pandas.core.frame.DataFrame'>\n",
      "RangeIndex: 32744 entries, 0 to 32743\n",
      "Data columns (total 20 columns):\n",
      " #   Column                     Non-Null Count  Dtype  \n",
      "---  ------                     --------------  -----  \n",
      " 0   PermitNumber               32744 non-null  object \n",
      " 1   PermitNumberCreatedDate    32744 non-null  object \n",
      " 2   IssueDate                  32744 non-null  object \n",
      " 3   PermitElapsedDays          32744 non-null  int64  \n",
      " 4   ProjectValue               32744 non-null  float64\n",
      " 5   TypeOfWork                 32744 non-null  object \n",
      " 6   Address                    32581 non-null  object \n",
      " 7   ProjectDescription         32744 non-null  object \n",
      " 8   PermitCategory             16931 non-null  object \n",
      " 9   Applicant                  32744 non-null  object \n",
      " 10  ApplicantAddress           32653 non-null  object \n",
      " 11  PropertyUse                32744 non-null  object \n",
      " 12  SpecificUseCategory        32743 non-null  object \n",
      " 13  BuildingContractor         22636 non-null  object \n",
      " 14  BuildingContractorAddress  15391 non-null  object \n",
      " 15  IssueYear                  32744 non-null  int64  \n",
      " 16  GeoLocalArea               32375 non-null  object \n",
      " 17  Geom                       32375 non-null  object \n",
      " 18  YearMonth                  32744 non-null  object \n",
      " 19  geo_point_2d               32375 non-null  object \n",
      "dtypes: float64(1), int64(2), object(17)\n",
      "memory usage: 5.0+ MB\n"
     ]
    },
    {
     "data": {
      "text/plain": [
       "None"
      ]
     },
     "metadata": {},
     "output_type": "display_data"
    }
   ],
   "source": [
    "# Check column info\n",
    "display(dwelling_permits_df.info())"
   ]
  },
  {
   "cell_type": "code",
   "execution_count": 100,
   "id": "5d598552-d1a3-4ea7-a3c3-d7829b069e30",
   "metadata": {
    "collapsed": true,
    "jupyter": {
     "outputs_hidden": true,
     "source_hidden": true
    }
   },
   "outputs": [],
   "source": [
    "# Drop Issue Year from data set if there are no conflicts\n",
    "# YearConflicts = (dwelling_permits_df['IssueDate'].dt.year != dwelling_permits_df['IssueYear'])\n",
    "# conflict_sum = YearConflicts.sum()\n",
    "# if conflict_sum == 0:\n",
    "#     print('There are no conflicts between issue date and issue year. Issue year will be dropped.')\n",
    "#     dwelling_permits_df.drop(['IssueYear'], axis = 1,inplace = True)\n",
    "#     print(f'''Column IssueYear Present: {'IssueYear' in dwelling_permits_df.columns}''')\n",
    "#     # display(dwelling_permits_df.head())\n",
    "# else: Print(f'''There is a conflict between issue data and issue year. Issue year will not be dropped and should be investigated.''')\n",
    "                "
   ]
  },
  {
   "cell_type": "code",
   "execution_count": 101,
   "id": "ec08c995-5391-4644-9828-1ab8cb859639",
   "metadata": {
    "collapsed": true,
    "jupyter": {
     "outputs_hidden": true,
     "source_hidden": true
    }
   },
   "outputs": [],
   "source": [
    "# Drop YearMonth from data set if there are no conflicts\n",
    "# YYConflicts = (dwelling_permits_df['IssueDate'].dt.year != dwelling_permits_df['YearMonth'].dt.year)\n",
    "# MMConflicts = (dwelling_permits_df['IssueDate'].dt.month != dwelling_permits_df['YearMonth'].dt.month)\n",
    "# conflict_sum = YYConflicts.sum() + MMConflicts.sum()\n",
    "# if conflict_sum == 0:\n",
    "#     print('There are no conflicts between issue date and issue month/year. Issue monthyear will be dropped.')\n",
    "#     dwelling_permits_df.drop(['YearMonth'], axis = 1,inplace = True)\n",
    "#     print(f'''Column IssueYear Present: {'YearMonth' in dwelling_permits_df.columns}''')\n",
    "#     # display(dwelling_permits_df.head())\n",
    "# else: Print(f'''There is a conflict between issue data and issue month/year. Issue year will not be dropped and should be investigated.''')\n",
    "                "
   ]
  },
  {
   "cell_type": "markdown",
   "id": "50876847-3854-45b2-b25f-f8e08129b3b3",
   "metadata": {},
   "source": [
    "## Step 3: Deal with projects with zero project value"
   ]
  },
  {
   "cell_type": "code",
   "execution_count": 102,
   "id": "3bf789f7-fe1a-4216-a0be-ab2e09a22330",
   "metadata": {
    "collapsed": true,
    "jupyter": {
     "outputs_hidden": true,
     "source_hidden": true
    }
   },
   "outputs": [
    {
     "name": "stdout",
     "output_type": "stream",
     "text": [
      "The zero_value_df is length 6920.\n"
     ]
    },
    {
     "data": {
      "text/html": [
       "<div>\n",
       "<style scoped>\n",
       "    .dataframe tbody tr th:only-of-type {\n",
       "        vertical-align: middle;\n",
       "    }\n",
       "\n",
       "    .dataframe tbody tr th {\n",
       "        vertical-align: top;\n",
       "    }\n",
       "\n",
       "    .dataframe thead th {\n",
       "        text-align: right;\n",
       "    }\n",
       "</style>\n",
       "<table border=\"1\" class=\"dataframe\">\n",
       "  <thead>\n",
       "    <tr style=\"text-align: right;\">\n",
       "      <th></th>\n",
       "      <th>PermitNumber</th>\n",
       "      <th>PermitNumberCreatedDate</th>\n",
       "      <th>IssueDate</th>\n",
       "      <th>PermitElapsedDays</th>\n",
       "      <th>ProjectValue</th>\n",
       "      <th>TypeOfWork</th>\n",
       "      <th>Address</th>\n",
       "      <th>ProjectDescription</th>\n",
       "      <th>PermitCategory</th>\n",
       "      <th>Applicant</th>\n",
       "      <th>ApplicantAddress</th>\n",
       "      <th>PropertyUse</th>\n",
       "      <th>SpecificUseCategory</th>\n",
       "      <th>BuildingContractor</th>\n",
       "      <th>BuildingContractorAddress</th>\n",
       "      <th>IssueYear</th>\n",
       "      <th>GeoLocalArea</th>\n",
       "      <th>Geom</th>\n",
       "      <th>YearMonth</th>\n",
       "      <th>geo_point_2d</th>\n",
       "    </tr>\n",
       "  </thead>\n",
       "  <tbody>\n",
       "    <tr>\n",
       "      <th>12458</th>\n",
       "      <td>BP-2019-00265</td>\n",
       "      <td>2019-01-21</td>\n",
       "      <td>2019-07-03</td>\n",
       "      <td>163</td>\n",
       "      <td>0.0</td>\n",
       "      <td>New Building</td>\n",
       "      <td>258 E 17TH AVENUE, Vancouver, BC V5V 1A7</td>\n",
       "      <td>High Density Housing / Commercial - New Buildi...</td>\n",
       "      <td>NaN</td>\n",
       "      <td>Richard Hazell</td>\n",
       "      <td>419 W 19th Av\\nVANCOUVER, BC  V5Y 2B8</td>\n",
       "      <td>Dwelling Uses</td>\n",
       "      <td>Infill</td>\n",
       "      <td>Novell Construction Ltd</td>\n",
       "      <td>1177 W BROADWAY  \\nUnit 303\\nVancouver, BC  V6...</td>\n",
       "      <td>2019</td>\n",
       "      <td>Riley Park</td>\n",
       "      <td>{\"coordinates\":[-123.099376,49.2556252],\"type\"...</td>\n",
       "      <td>2019-07</td>\n",
       "      <td>49.2556252, -123.099376</td>\n",
       "    </tr>\n",
       "    <tr>\n",
       "      <th>19077</th>\n",
       "      <td>BP-2025-00618</td>\n",
       "      <td>2025-02-07</td>\n",
       "      <td>2025-02-11</td>\n",
       "      <td>4</td>\n",
       "      <td>0.0</td>\n",
       "      <td>Salvage and Abatement</td>\n",
       "      <td>3141 E 19TH AVENUE, Vancouver, BC V5M 2T2</td>\n",
       "      <td>Low Density Housing - Salvage and Abatement - ...</td>\n",
       "      <td>NaN</td>\n",
       "      <td>Payam G Taghavi DBA: High Cliff Homes Ltd.</td>\n",
       "      <td>312 27th Street E\\nNorth Vancouver, BC  V7N 1B8</td>\n",
       "      <td>Dwelling Uses</td>\n",
       "      <td>Single Detached House</td>\n",
       "      <td>Bhullar Excavating and Demolition</td>\n",
       "      <td>NaN</td>\n",
       "      <td>2025</td>\n",
       "      <td>Renfrew-Collingwood</td>\n",
       "      <td>{\"coordinates\":[-123.0379814,49.2534035],\"type...</td>\n",
       "      <td>2025-02</td>\n",
       "      <td>49.2534035, -123.0379814</td>\n",
       "    </tr>\n",
       "    <tr>\n",
       "      <th>29480</th>\n",
       "      <td>BP-2018-05682</td>\n",
       "      <td>2018-10-30</td>\n",
       "      <td>2019-02-20</td>\n",
       "      <td>113</td>\n",
       "      <td>0.0</td>\n",
       "      <td>Salvage and Abatement</td>\n",
       "      <td>605 W 31ST AVENUE, Vancouver, BC V5Z 2J9</td>\n",
       "      <td>Enquiry Centre - Salvage and Abatement - Salva...</td>\n",
       "      <td>NaN</td>\n",
       "      <td>Steffie Lintag DBA: Cressey Developments</td>\n",
       "      <td>555 W 8th Avenue\\nSuite 200\\nVancouver, BC  V5...</td>\n",
       "      <td>Dwelling Uses</td>\n",
       "      <td>Single Detached House</td>\n",
       "      <td>Fleck Contracting Ltd</td>\n",
       "      <td>9013 SHAUGHNESSY ST  \\nVancouver, BC  V6P 6R9</td>\n",
       "      <td>2019</td>\n",
       "      <td>South Cambie</td>\n",
       "      <td>{\"coordinates\":[-123.1183578,49.2432777],\"type...</td>\n",
       "      <td>2019-02</td>\n",
       "      <td>49.2432777, -123.1183578</td>\n",
       "    </tr>\n",
       "    <tr>\n",
       "      <th>2985</th>\n",
       "      <td>BP-2017-02262</td>\n",
       "      <td>2017-04-28</td>\n",
       "      <td>2017-06-12</td>\n",
       "      <td>45</td>\n",
       "      <td>0.0</td>\n",
       "      <td>Salvage and Abatement</td>\n",
       "      <td>5120 DUNBAR STREET, Vancouver, BC V6N 1V7</td>\n",
       "      <td>Low Density Housing - Salvage and Abatement - ...</td>\n",
       "      <td>NaN</td>\n",
       "      <td>LUCIO PICCIANO DBA: DLP Architecture Inc</td>\n",
       "      <td>202-460 Nanaimo St\\nvancouver, BC  V5L4W3</td>\n",
       "      <td>Dwelling Uses</td>\n",
       "      <td>Single Detached House</td>\n",
       "      <td>Gator Excavating Ltd</td>\n",
       "      <td>9423 163 Street  \\nSurrey, BC  V4N 3C5</td>\n",
       "      <td>2017</td>\n",
       "      <td>Dunbar-Southlands</td>\n",
       "      <td>{\"coordinates\":[-123.1848912,49.240241],\"type\"...</td>\n",
       "      <td>2017-06</td>\n",
       "      <td>49.240241, -123.1848912</td>\n",
       "    </tr>\n",
       "    <tr>\n",
       "      <th>32737</th>\n",
       "      <td>BP-2021-06004</td>\n",
       "      <td>2021-11-17</td>\n",
       "      <td>2021-12-14</td>\n",
       "      <td>27</td>\n",
       "      <td>0.0</td>\n",
       "      <td>Salvage and Abatement</td>\n",
       "      <td>825 COMMERCIAL DRIVE, Vancouver, BC</td>\n",
       "      <td>Enquiry Centre - Salvage and Abatement - To pr...</td>\n",
       "      <td>NaN</td>\n",
       "      <td>Jerry Rakhra DBA: Vandwell Living Inc</td>\n",
       "      <td>303 E 40th Ave\\nVancouver, BC  V5M 1M1</td>\n",
       "      <td>Dwelling Uses</td>\n",
       "      <td>Infill Single Detached House</td>\n",
       "      <td>R B Excavating 2000 Ltd</td>\n",
       "      <td>8047 Prince Albert St  \\nVancouver, BC  V5X 3Z9</td>\n",
       "      <td>2021</td>\n",
       "      <td>Grandview-Woodland</td>\n",
       "      <td>{\"coordinates\":[-123.0707004,49.2773113],\"type...</td>\n",
       "      <td>2021-12</td>\n",
       "      <td>49.2773113, -123.0707004</td>\n",
       "    </tr>\n",
       "    <tr>\n",
       "      <th>5106</th>\n",
       "      <td>BP-2021-05705</td>\n",
       "      <td>2021-11-02</td>\n",
       "      <td>2022-04-20</td>\n",
       "      <td>169</td>\n",
       "      <td>0.0</td>\n",
       "      <td>Salvage and Abatement</td>\n",
       "      <td>3603 PRICE STREET, Vancouver, BC V5R 5R4</td>\n",
       "      <td>Low Density Housing - Salvage and Abatement - ...</td>\n",
       "      <td>NaN</td>\n",
       "      <td>Harjeet  Dhaliwal DBA: Owner</td>\n",
       "      <td>13032\\n61ave\\nSurrey, BC  V3X2H5</td>\n",
       "      <td>Dwelling Uses</td>\n",
       "      <td>Single Detached House</td>\n",
       "      <td>WEST DEMOLITION SERVICE LTD</td>\n",
       "      <td>NaN</td>\n",
       "      <td>2022</td>\n",
       "      <td>Renfrew-Collingwood</td>\n",
       "      <td>{\"coordinates\":[-123.0257189,49.2409232],\"type...</td>\n",
       "      <td>2022-04</td>\n",
       "      <td>49.2409232, -123.0257189</td>\n",
       "    </tr>\n",
       "    <tr>\n",
       "      <th>20511</th>\n",
       "      <td>BP-2021-02060</td>\n",
       "      <td>2021-05-05</td>\n",
       "      <td>2021-06-29</td>\n",
       "      <td>55</td>\n",
       "      <td>0.0</td>\n",
       "      <td>Salvage and Abatement</td>\n",
       "      <td>788 E 30TH AVENUE, Vancouver, BC V5V 2V9</td>\n",
       "      <td>Low Density Housing - Salvage and Abatement - ...</td>\n",
       "      <td>NaN</td>\n",
       "      <td>Don Piner DBA: Intarsia Design Ltd.</td>\n",
       "      <td>7561 Barrymore Drive\\nDelta, BC  V4C6X5</td>\n",
       "      <td>Dwelling Uses</td>\n",
       "      <td>Duplex</td>\n",
       "      <td>NaN</td>\n",
       "      <td>NaN</td>\n",
       "      <td>2021</td>\n",
       "      <td>Kensington-Cedar Cottage</td>\n",
       "      <td>{\"coordinates\":[-123.0882296,49.2432595],\"type...</td>\n",
       "      <td>2021-06</td>\n",
       "      <td>49.2432595, -123.0882296</td>\n",
       "    </tr>\n",
       "    <tr>\n",
       "      <th>29055</th>\n",
       "      <td>BP-2018-01900</td>\n",
       "      <td>2018-04-10</td>\n",
       "      <td>2018-05-01</td>\n",
       "      <td>21</td>\n",
       "      <td>0.0</td>\n",
       "      <td>Salvage and Abatement</td>\n",
       "      <td>944 E 8TH AVENUE, Vancouver, BC V5T 1T8</td>\n",
       "      <td>Enquiry Centre - Salvage and Abatement - Inter...</td>\n",
       "      <td>NaN</td>\n",
       "      <td>Dinesh Chand</td>\n",
       "      <td>302-2818 MAIN ST\\nVANCOUVER, BC  V5T0C1</td>\n",
       "      <td>Dwelling Uses</td>\n",
       "      <td>Multiple Dwelling</td>\n",
       "      <td>Kingsman Excavating Ltd.</td>\n",
       "      <td>Unit 1104, 7360 137 ST\\n15559 59 Ave\\nSurrey, ...</td>\n",
       "      <td>2018</td>\n",
       "      <td>Mount Pleasant</td>\n",
       "      <td>{\"coordinates\":[-123.084221,49.2631303],\"type\"...</td>\n",
       "      <td>2018-05</td>\n",
       "      <td>49.2631303, -123.084221</td>\n",
       "    </tr>\n",
       "    <tr>\n",
       "      <th>15417</th>\n",
       "      <td>BP-2018-06465</td>\n",
       "      <td>2018-12-13</td>\n",
       "      <td>2018-12-14</td>\n",
       "      <td>1</td>\n",
       "      <td>0.0</td>\n",
       "      <td>Salvage and Abatement</td>\n",
       "      <td>1619 E BROADWAY, Vancouver, BC V5N 1V9</td>\n",
       "      <td>Enquiry Centre - Salvage and Abatement - Inter...</td>\n",
       "      <td>NaN</td>\n",
       "      <td>Ken Cheung DBA: K E Concepts 2001 Ltd</td>\n",
       "      <td>628 E 56th Ave.\\nVancouver, BC  V5X 1R7</td>\n",
       "      <td>Dwelling Uses</td>\n",
       "      <td>Multiple Dwelling</td>\n",
       "      <td>KE Concepts 2001 Ltd</td>\n",
       "      <td>NaN</td>\n",
       "      <td>2018</td>\n",
       "      <td>Grandview-Woodland</td>\n",
       "      <td>{\"coordinates\":[-123.0713385,49.2626373],\"type...</td>\n",
       "      <td>2018-12</td>\n",
       "      <td>49.2626373, -123.0713385</td>\n",
       "    </tr>\n",
       "    <tr>\n",
       "      <th>26624</th>\n",
       "      <td>BP-2020-03578</td>\n",
       "      <td>2020-11-13</td>\n",
       "      <td>2020-11-19</td>\n",
       "      <td>6</td>\n",
       "      <td>0.0</td>\n",
       "      <td>Salvage and Abatement</td>\n",
       "      <td>414 E 5TH AVENUE, Vancouver, BC V5T 1H7</td>\n",
       "      <td>Enquiry Centre - Salvage and Abatement - Salva...</td>\n",
       "      <td>NaN</td>\n",
       "      <td>Jeremy Anderson</td>\n",
       "      <td>3455 Porter St\\nVancouver, BC  V5N 4H2</td>\n",
       "      <td>Dwelling Uses</td>\n",
       "      <td>Single Detached House</td>\n",
       "      <td>NaN</td>\n",
       "      <td>NaN</td>\n",
       "      <td>2020</td>\n",
       "      <td>Mount Pleasant</td>\n",
       "      <td>{\"coordinates\":[-123.0951421,49.2659919],\"type...</td>\n",
       "      <td>2020-11</td>\n",
       "      <td>49.2659919, -123.0951421</td>\n",
       "    </tr>\n",
       "  </tbody>\n",
       "</table>\n",
       "</div>"
      ],
      "text/plain": [
       "        PermitNumber PermitNumberCreatedDate   IssueDate  PermitElapsedDays  \\\n",
       "12458  BP-2019-00265              2019-01-21  2019-07-03                163   \n",
       "19077  BP-2025-00618              2025-02-07  2025-02-11                  4   \n",
       "29480  BP-2018-05682              2018-10-30  2019-02-20                113   \n",
       "2985   BP-2017-02262              2017-04-28  2017-06-12                 45   \n",
       "32737  BP-2021-06004              2021-11-17  2021-12-14                 27   \n",
       "5106   BP-2021-05705              2021-11-02  2022-04-20                169   \n",
       "20511  BP-2021-02060              2021-05-05  2021-06-29                 55   \n",
       "29055  BP-2018-01900              2018-04-10  2018-05-01                 21   \n",
       "15417  BP-2018-06465              2018-12-13  2018-12-14                  1   \n",
       "26624  BP-2020-03578              2020-11-13  2020-11-19                  6   \n",
       "\n",
       "       ProjectValue             TypeOfWork  \\\n",
       "12458           0.0           New Building   \n",
       "19077           0.0  Salvage and Abatement   \n",
       "29480           0.0  Salvage and Abatement   \n",
       "2985            0.0  Salvage and Abatement   \n",
       "32737           0.0  Salvage and Abatement   \n",
       "5106            0.0  Salvage and Abatement   \n",
       "20511           0.0  Salvage and Abatement   \n",
       "29055           0.0  Salvage and Abatement   \n",
       "15417           0.0  Salvage and Abatement   \n",
       "26624           0.0  Salvage and Abatement   \n",
       "\n",
       "                                         Address  \\\n",
       "12458   258 E 17TH AVENUE, Vancouver, BC V5V 1A7   \n",
       "19077  3141 E 19TH AVENUE, Vancouver, BC V5M 2T2   \n",
       "29480   605 W 31ST AVENUE, Vancouver, BC V5Z 2J9   \n",
       "2985   5120 DUNBAR STREET, Vancouver, BC V6N 1V7   \n",
       "32737        825 COMMERCIAL DRIVE, Vancouver, BC   \n",
       "5106    3603 PRICE STREET, Vancouver, BC V5R 5R4   \n",
       "20511   788 E 30TH AVENUE, Vancouver, BC V5V 2V9   \n",
       "29055    944 E 8TH AVENUE, Vancouver, BC V5T 1T8   \n",
       "15417     1619 E BROADWAY, Vancouver, BC V5N 1V9   \n",
       "26624    414 E 5TH AVENUE, Vancouver, BC V5T 1H7   \n",
       "\n",
       "                                      ProjectDescription PermitCategory  \\\n",
       "12458  High Density Housing / Commercial - New Buildi...            NaN   \n",
       "19077  Low Density Housing - Salvage and Abatement - ...            NaN   \n",
       "29480  Enquiry Centre - Salvage and Abatement - Salva...            NaN   \n",
       "2985   Low Density Housing - Salvage and Abatement - ...            NaN   \n",
       "32737  Enquiry Centre - Salvage and Abatement - To pr...            NaN   \n",
       "5106   Low Density Housing - Salvage and Abatement - ...            NaN   \n",
       "20511  Low Density Housing - Salvage and Abatement - ...            NaN   \n",
       "29055  Enquiry Centre - Salvage and Abatement - Inter...            NaN   \n",
       "15417  Enquiry Centre - Salvage and Abatement - Inter...            NaN   \n",
       "26624  Enquiry Centre - Salvage and Abatement - Salva...            NaN   \n",
       "\n",
       "                                        Applicant  \\\n",
       "12458                              Richard Hazell   \n",
       "19077  Payam G Taghavi DBA: High Cliff Homes Ltd.   \n",
       "29480    Steffie Lintag DBA: Cressey Developments   \n",
       "2985     LUCIO PICCIANO DBA: DLP Architecture Inc   \n",
       "32737       Jerry Rakhra DBA: Vandwell Living Inc   \n",
       "5106                 Harjeet  Dhaliwal DBA: Owner   \n",
       "20511         Don Piner DBA: Intarsia Design Ltd.   \n",
       "29055                                Dinesh Chand   \n",
       "15417       Ken Cheung DBA: K E Concepts 2001 Ltd   \n",
       "26624                             Jeremy Anderson   \n",
       "\n",
       "                                        ApplicantAddress    PropertyUse  \\\n",
       "12458              419 W 19th Av\\nVANCOUVER, BC  V5Y 2B8  Dwelling Uses   \n",
       "19077    312 27th Street E\\nNorth Vancouver, BC  V7N 1B8  Dwelling Uses   \n",
       "29480  555 W 8th Avenue\\nSuite 200\\nVancouver, BC  V5...  Dwelling Uses   \n",
       "2985           202-460 Nanaimo St\\nvancouver, BC  V5L4W3  Dwelling Uses   \n",
       "32737             303 E 40th Ave\\nVancouver, BC  V5M 1M1  Dwelling Uses   \n",
       "5106                    13032\\n61ave\\nSurrey, BC  V3X2H5  Dwelling Uses   \n",
       "20511            7561 Barrymore Drive\\nDelta, BC  V4C6X5  Dwelling Uses   \n",
       "29055            302-2818 MAIN ST\\nVANCOUVER, BC  V5T0C1  Dwelling Uses   \n",
       "15417            628 E 56th Ave.\\nVancouver, BC  V5X 1R7  Dwelling Uses   \n",
       "26624             3455 Porter St\\nVancouver, BC  V5N 4H2  Dwelling Uses   \n",
       "\n",
       "                SpecificUseCategory                 BuildingContractor  \\\n",
       "12458                        Infill            Novell Construction Ltd   \n",
       "19077         Single Detached House  Bhullar Excavating and Demolition   \n",
       "29480         Single Detached House              Fleck Contracting Ltd   \n",
       "2985          Single Detached House               Gator Excavating Ltd   \n",
       "32737  Infill Single Detached House            R B Excavating 2000 Ltd   \n",
       "5106          Single Detached House        WEST DEMOLITION SERVICE LTD   \n",
       "20511                        Duplex                                NaN   \n",
       "29055             Multiple Dwelling           Kingsman Excavating Ltd.   \n",
       "15417             Multiple Dwelling               KE Concepts 2001 Ltd   \n",
       "26624         Single Detached House                                NaN   \n",
       "\n",
       "                               BuildingContractorAddress  IssueYear  \\\n",
       "12458  1177 W BROADWAY  \\nUnit 303\\nVancouver, BC  V6...       2019   \n",
       "19077                                                NaN       2025   \n",
       "29480      9013 SHAUGHNESSY ST  \\nVancouver, BC  V6P 6R9       2019   \n",
       "2985              9423 163 Street  \\nSurrey, BC  V4N 3C5       2017   \n",
       "32737    8047 Prince Albert St  \\nVancouver, BC  V5X 3Z9       2021   \n",
       "5106                                                 NaN       2022   \n",
       "20511                                                NaN       2021   \n",
       "29055  Unit 1104, 7360 137 ST\\n15559 59 Ave\\nSurrey, ...       2018   \n",
       "15417                                                NaN       2018   \n",
       "26624                                                NaN       2020   \n",
       "\n",
       "                   GeoLocalArea  \\\n",
       "12458                Riley Park   \n",
       "19077       Renfrew-Collingwood   \n",
       "29480              South Cambie   \n",
       "2985          Dunbar-Southlands   \n",
       "32737        Grandview-Woodland   \n",
       "5106        Renfrew-Collingwood   \n",
       "20511  Kensington-Cedar Cottage   \n",
       "29055            Mount Pleasant   \n",
       "15417        Grandview-Woodland   \n",
       "26624            Mount Pleasant   \n",
       "\n",
       "                                                    Geom YearMonth  \\\n",
       "12458  {\"coordinates\":[-123.099376,49.2556252],\"type\"...   2019-07   \n",
       "19077  {\"coordinates\":[-123.0379814,49.2534035],\"type...   2025-02   \n",
       "29480  {\"coordinates\":[-123.1183578,49.2432777],\"type...   2019-02   \n",
       "2985   {\"coordinates\":[-123.1848912,49.240241],\"type\"...   2017-06   \n",
       "32737  {\"coordinates\":[-123.0707004,49.2773113],\"type...   2021-12   \n",
       "5106   {\"coordinates\":[-123.0257189,49.2409232],\"type...   2022-04   \n",
       "20511  {\"coordinates\":[-123.0882296,49.2432595],\"type...   2021-06   \n",
       "29055  {\"coordinates\":[-123.084221,49.2631303],\"type\"...   2018-05   \n",
       "15417  {\"coordinates\":[-123.0713385,49.2626373],\"type...   2018-12   \n",
       "26624  {\"coordinates\":[-123.0951421,49.2659919],\"type...   2020-11   \n",
       "\n",
       "                   geo_point_2d  \n",
       "12458   49.2556252, -123.099376  \n",
       "19077  49.2534035, -123.0379814  \n",
       "29480  49.2432777, -123.1183578  \n",
       "2985    49.240241, -123.1848912  \n",
       "32737  49.2773113, -123.0707004  \n",
       "5106   49.2409232, -123.0257189  \n",
       "20511  49.2432595, -123.0882296  \n",
       "29055   49.2631303, -123.084221  \n",
       "15417  49.2626373, -123.0713385  \n",
       "26624  49.2659919, -123.0951421  "
      ]
     },
     "metadata": {},
     "output_type": "display_data"
    }
   ],
   "source": [
    "# Restrict to permits with 0.0 dollar value\n",
    "zero_value_df = dwelling_permits_df[dwelling_permits_df['ProjectValue'] == 0.0]\n",
    "print(f'The zero_value_df is length {len(zero_value_df)}.')\n",
    "display(zero_value_df.sample(10))"
   ]
  },
  {
   "cell_type": "code",
   "execution_count": 103,
   "id": "cd7ca393-464f-473d-ba99-7323efd9d6ab",
   "metadata": {
    "collapsed": true,
    "jupyter": {
     "outputs_hidden": true,
     "source_hidden": true
    }
   },
   "outputs": [],
   "source": [
    "# drop all rows with value = zero\n",
    "dwelling_permits_df = dwelling_permits_df[dwelling_permits_df['ProjectValue'] != 0.0]"
   ]
  },
  {
   "cell_type": "markdown",
   "id": "155743c3-2650-4305-a0d3-3a6192c9a287",
   "metadata": {},
   "source": [
    "## Step 4: Deal with columns with null values one by one"
   ]
  },
  {
   "cell_type": "code",
   "execution_count": 122,
   "id": "6c397732-fb8c-4313-b67a-898fa3b08c1c",
   "metadata": {
    "collapsed": true,
    "jupyter": {
     "outputs_hidden": true,
     "source_hidden": true
    }
   },
   "outputs": [
    {
     "name": "stdout",
     "output_type": "stream",
     "text": [
      "Your data set has no null values.\n"
     ]
    }
   ],
   "source": [
    "# Find columns with nulls\n",
    "\n",
    "# Find total rows for percentage calculation\n",
    "total_rows = len(dwelling_permits_df)\n",
    "\n",
    "# List of dictionaries to hold null info\n",
    "null_info = []\n",
    "\n",
    "for col in dwelling_permits_df.columns:\n",
    "    null_count = dwelling_permits_df[col].isna().sum()\n",
    "    if null_count > 0:\n",
    "        null_info.append({\n",
    "            'Column': col,\n",
    "            'Null Count': null_count,\n",
    "            'Percent Null': round((null_count / total_rows) * 100, 2)\n",
    "        })\n",
    "\n",
    "# Create and display DataFrame sorted by % null\n",
    "if len(null_info) > 0:\n",
    "    null_summary_df = pd.DataFrame(null_info).sort_values(by='Percent Null', ascending=False)\n",
    "    display(null_summary_df)\n",
    "else:\n",
    "    print('Your data set has no null values.')"
   ]
  },
  {
   "cell_type": "code",
   "execution_count": 105,
   "id": "f67b89f6-b01a-4457-b4b5-ef7dd40fa8f8",
   "metadata": {
    "collapsed": true,
    "jupyter": {
     "outputs_hidden": true,
     "source_hidden": true
    }
   },
   "outputs": [
    {
     "data": {
      "text/plain": [
       "Index(['PermitNumber', 'PermitNumberCreatedDate', 'IssueDate',\n",
       "       'PermitElapsedDays', 'ProjectValue', 'TypeOfWork', 'Address',\n",
       "       'ProjectDescription', 'PermitCategory', 'Applicant', 'ApplicantAddress',\n",
       "       'PropertyUse', 'SpecificUseCategory', 'BuildingContractor',\n",
       "       'BuildingContractorAddress', 'IssueYear', 'GeoLocalArea', 'Geom',\n",
       "       'YearMonth', 'geo_point_2d'],\n",
       "      dtype='object')"
      ]
     },
     "metadata": {},
     "output_type": "display_data"
    }
   ],
   "source": [
    "# List all columns\n",
    "display(dwelling_permits_df.columns)"
   ]
  },
  {
   "cell_type": "code",
   "execution_count": 106,
   "id": "366598be-18fb-4d14-8a6e-fd9682cd6bda",
   "metadata": {
    "collapsed": true,
    "jupyter": {
     "outputs_hidden": true,
     "source_hidden": true
    }
   },
   "outputs": [],
   "source": [
    "# Define function to analyze null values for particular columns\n",
    "def examine_col_nulls(df,col,output = True):\n",
    "    null_df = dwelling_permits_df.isna()\n",
    "    null_count = null_df[col].sum()\n",
    "    null_perc = 100 * null_count / len(null_df)\n",
    "    col_null_df = df[df[col].isnull()]\n",
    "    if output == True:\n",
    "        print(f'\\nPermitCategory has the following value counts.\\n')\n",
    "        display(dwelling_permits_df['PermitCategory'].value_counts())\n",
    "        print(f'\\nPermitCategory has {null_count} null values.\\n')\n",
    "        print(f'\\nPermitCategory nulls make up has {null_perc} % of the dataset.\\n') \n",
    "        print(f'\\nWe present an example of the subdataset where {col} is null\\n')\n",
    "        display(col_null_df.sample(5))\n",
    "        col_null_df_restricted = col_null_df[['PermitNumberCreatedDate',\n",
    "        'ProjectValue', 'TypeOfWork', 'Address', 'Applicant','PropertyUse', \n",
    "        'SpecificUseCategory', 'BuildingContractor','BuildingContractorAddress',\n",
    "                                            'GeoLocalArea']]\n",
    "        for feature in col_null_df_restricted:\n",
    "            print(f'\\nIn the col_null_df, the feature {feature} has the following value counts.\\n') \n",
    "            display(col_null_df[feature].value_counts())\n",
    "    return null_count, null_perc, col_null_df"
   ]
  },
  {
   "cell_type": "markdown",
   "id": "97fe3eb4-fa2c-4a20-96a4-2570cc5720c0",
   "metadata": {},
   "source": [
    "### Step 4.1: imputing 'unknown' into categorical columns"
   ]
  },
  {
   "cell_type": "code",
   "execution_count": 107,
   "id": "87b57bde-f83d-4caf-9347-035d6273f1d2",
   "metadata": {
    "collapsed": true,
    "jupyter": {
     "outputs_hidden": true,
     "source_hidden": true
    }
   },
   "outputs": [
    {
     "name": "stdout",
     "output_type": "stream",
     "text": [
      "\n",
      "PermitCategory has the following value counts.\n",
      "\n"
     ]
    },
    {
     "data": {
      "text/plain": [
       "PermitCategory\n",
       "Renovation - Residential - Lower Complexity              7995\n",
       "New Build - Low Density Housing                          6680\n",
       "New Build - Standalone Laneway                           2037\n",
       "Renovation - Commercial/ Mixed Use - Lower Complexity     110\n",
       "Name: count, dtype: int64"
      ]
     },
     "metadata": {},
     "output_type": "display_data"
    },
    {
     "name": "stdout",
     "output_type": "stream",
     "text": [
      "\n",
      "PermitCategory has 9002 null values.\n",
      "\n",
      "\n",
      "PermitCategory nulls make up has 34.8590458488228 % of the dataset.\n",
      "\n",
      "\n",
      "We present an example of the subdataset where PermitCategory is null\n",
      "\n"
     ]
    },
    {
     "data": {
      "text/html": [
       "<div>\n",
       "<style scoped>\n",
       "    .dataframe tbody tr th:only-of-type {\n",
       "        vertical-align: middle;\n",
       "    }\n",
       "\n",
       "    .dataframe tbody tr th {\n",
       "        vertical-align: top;\n",
       "    }\n",
       "\n",
       "    .dataframe thead th {\n",
       "        text-align: right;\n",
       "    }\n",
       "</style>\n",
       "<table border=\"1\" class=\"dataframe\">\n",
       "  <thead>\n",
       "    <tr style=\"text-align: right;\">\n",
       "      <th></th>\n",
       "      <th>PermitNumber</th>\n",
       "      <th>PermitNumberCreatedDate</th>\n",
       "      <th>IssueDate</th>\n",
       "      <th>PermitElapsedDays</th>\n",
       "      <th>ProjectValue</th>\n",
       "      <th>TypeOfWork</th>\n",
       "      <th>Address</th>\n",
       "      <th>ProjectDescription</th>\n",
       "      <th>PermitCategory</th>\n",
       "      <th>Applicant</th>\n",
       "      <th>ApplicantAddress</th>\n",
       "      <th>PropertyUse</th>\n",
       "      <th>SpecificUseCategory</th>\n",
       "      <th>BuildingContractor</th>\n",
       "      <th>BuildingContractorAddress</th>\n",
       "      <th>IssueYear</th>\n",
       "      <th>GeoLocalArea</th>\n",
       "      <th>Geom</th>\n",
       "      <th>YearMonth</th>\n",
       "      <th>geo_point_2d</th>\n",
       "    </tr>\n",
       "  </thead>\n",
       "  <tbody>\n",
       "    <tr>\n",
       "      <th>29531</th>\n",
       "      <td>BP-2023-01642</td>\n",
       "      <td>2023-05-12</td>\n",
       "      <td>2024-01-04</td>\n",
       "      <td>237</td>\n",
       "      <td>3900000.0</td>\n",
       "      <td>New Building</td>\n",
       "      <td>1550 E 3RD AVENUE, Vancouver, BC V5N 1G9</td>\n",
       "      <td>Certified Professional Program - New Building ...</td>\n",
       "      <td>NaN</td>\n",
       "      <td>Sayed Pouriya Hosseini DBA: Psquare Engineerin...</td>\n",
       "      <td>602 W Hastings Street\\nUnit 402\\nVancouver, BC...</td>\n",
       "      <td>Dwelling Uses</td>\n",
       "      <td>Multiple Dwelling</td>\n",
       "      <td>WBCM DEVELOPMENT LTD.</td>\n",
       "      <td>1542 Prairie Avenue  \\nPort Coquitlam, BC  V3B...</td>\n",
       "      <td>2024</td>\n",
       "      <td>Grandview-Woodland</td>\n",
       "      <td>{\"coordinates\":[-123.0723602,49.2677791],\"type...</td>\n",
       "      <td>2024-01</td>\n",
       "      <td>49.2677791, -123.0723602</td>\n",
       "    </tr>\n",
       "    <tr>\n",
       "      <th>13841</th>\n",
       "      <td>DB-2025-00435</td>\n",
       "      <td>2025-01-30</td>\n",
       "      <td>2025-04-08</td>\n",
       "      <td>68</td>\n",
       "      <td>40000.0</td>\n",
       "      <td>Demolition / Deconstruction</td>\n",
       "      <td>2256 E PENDER STREET, Vancouver, BC V5L 1X4</td>\n",
       "      <td>Low Density Housing - Demolition / Deconstruct...</td>\n",
       "      <td>NaN</td>\n",
       "      <td>Gurmandeep Bal</td>\n",
       "      <td>2147 E 49th Ave\\nVancouver, BC  V5P1T6</td>\n",
       "      <td>Dwelling Uses</td>\n",
       "      <td>Single Detached House</td>\n",
       "      <td>JB Siteworks Inc.</td>\n",
       "      <td>NaN</td>\n",
       "      <td>2025</td>\n",
       "      <td>Grandview-Woodland</td>\n",
       "      <td>{\"coordinates\":[-123.0584832,49.2799155],\"type...</td>\n",
       "      <td>2025-04</td>\n",
       "      <td>49.2799155, -123.0584832</td>\n",
       "    </tr>\n",
       "    <tr>\n",
       "      <th>13882</th>\n",
       "      <td>BP-2017-04237</td>\n",
       "      <td>2017-08-15</td>\n",
       "      <td>2018-03-09</td>\n",
       "      <td>206</td>\n",
       "      <td>50000.0</td>\n",
       "      <td>Demolition / Deconstruction</td>\n",
       "      <td>7325 BLENHEIM STREET, Vancouver, BC V6N 1S2</td>\n",
       "      <td>Enquiry Centre - Demolition / Deconstruction -...</td>\n",
       "      <td>NaN</td>\n",
       "      <td>Drew Grimson DBA: Cavendish Contracting Ltd</td>\n",
       "      <td>Attn: Drew Grimston\\n5520 Alma St  \\nVancouver...</td>\n",
       "      <td>Dwelling Uses</td>\n",
       "      <td>Single Detached House</td>\n",
       "      <td>J &amp; R Excavation &amp; Demolition Ltd.</td>\n",
       "      <td>7782 Progress Way\\nDelta, BC  V4G 1A4</td>\n",
       "      <td>2018</td>\n",
       "      <td>Dunbar-Southlands</td>\n",
       "      <td>{\"coordinates\":[-123.1799357,49.2194302],\"type...</td>\n",
       "      <td>2018-03</td>\n",
       "      <td>49.2194302, -123.1799357</td>\n",
       "    </tr>\n",
       "    <tr>\n",
       "      <th>17198</th>\n",
       "      <td>DB-2022-03621</td>\n",
       "      <td>2022-07-15</td>\n",
       "      <td>2023-05-25</td>\n",
       "      <td>314</td>\n",
       "      <td>15000.0</td>\n",
       "      <td>Demolition / Deconstruction</td>\n",
       "      <td>3334 WINLAW PLACE, Vancouver, BC V5M 3G4</td>\n",
       "      <td>Low Density Housing - Demolition / Deconstruct...</td>\n",
       "      <td>NaN</td>\n",
       "      <td>Mo Maani</td>\n",
       "      <td>5200-4000 No 3 Rd\\nRichmond, BC  V6X 0J8</td>\n",
       "      <td>Dwelling Uses</td>\n",
       "      <td>Single Detached House</td>\n",
       "      <td>J&amp;R Excavation &amp; Demolition Ltd.</td>\n",
       "      <td>NaN</td>\n",
       "      <td>2023</td>\n",
       "      <td>Renfrew-Collingwood</td>\n",
       "      <td>{\"coordinates\":[-123.0478633,49.2546021],\"type...</td>\n",
       "      <td>2023-05</td>\n",
       "      <td>49.2546021, -123.0478633</td>\n",
       "    </tr>\n",
       "    <tr>\n",
       "      <th>10249</th>\n",
       "      <td>DB-2018-01789</td>\n",
       "      <td>2018-04-04</td>\n",
       "      <td>2018-08-29</td>\n",
       "      <td>147</td>\n",
       "      <td>37500.0</td>\n",
       "      <td>Demolition / Deconstruction</td>\n",
       "      <td>392 W 41ST AVENUE, Vancouver, BC V5Y 2S7</td>\n",
       "      <td>Enquiry Centre - Demolition / Deconstruction -...</td>\n",
       "      <td>NaN</td>\n",
       "      <td>Niall O'Shea DBA: Kindred Construction</td>\n",
       "      <td>#308-2150 W Broadway\\nVancouver, BC  V6K 4L9</td>\n",
       "      <td>Dwelling Uses</td>\n",
       "      <td>Single Detached House</td>\n",
       "      <td>Fleck Contracting Ltd</td>\n",
       "      <td>9013 SHAUGHNESSY ST  \\nVancouver, BC  V6P 6R9</td>\n",
       "      <td>2018</td>\n",
       "      <td>Oakridge</td>\n",
       "      <td>{\"coordinates\":[-123.112523,49.2333483],\"type\"...</td>\n",
       "      <td>2018-08</td>\n",
       "      <td>49.2333483, -123.112523</td>\n",
       "    </tr>\n",
       "  </tbody>\n",
       "</table>\n",
       "</div>"
      ],
      "text/plain": [
       "        PermitNumber PermitNumberCreatedDate   IssueDate  PermitElapsedDays  \\\n",
       "29531  BP-2023-01642              2023-05-12  2024-01-04                237   \n",
       "13841  DB-2025-00435              2025-01-30  2025-04-08                 68   \n",
       "13882  BP-2017-04237              2017-08-15  2018-03-09                206   \n",
       "17198  DB-2022-03621              2022-07-15  2023-05-25                314   \n",
       "10249  DB-2018-01789              2018-04-04  2018-08-29                147   \n",
       "\n",
       "       ProjectValue                   TypeOfWork  \\\n",
       "29531     3900000.0                 New Building   \n",
       "13841       40000.0  Demolition / Deconstruction   \n",
       "13882       50000.0  Demolition / Deconstruction   \n",
       "17198       15000.0  Demolition / Deconstruction   \n",
       "10249       37500.0  Demolition / Deconstruction   \n",
       "\n",
       "                                           Address  \\\n",
       "29531     1550 E 3RD AVENUE, Vancouver, BC V5N 1G9   \n",
       "13841  2256 E PENDER STREET, Vancouver, BC V5L 1X4   \n",
       "13882  7325 BLENHEIM STREET, Vancouver, BC V6N 1S2   \n",
       "17198     3334 WINLAW PLACE, Vancouver, BC V5M 3G4   \n",
       "10249     392 W 41ST AVENUE, Vancouver, BC V5Y 2S7   \n",
       "\n",
       "                                      ProjectDescription PermitCategory  \\\n",
       "29531  Certified Professional Program - New Building ...            NaN   \n",
       "13841  Low Density Housing - Demolition / Deconstruct...            NaN   \n",
       "13882  Enquiry Centre - Demolition / Deconstruction -...            NaN   \n",
       "17198  Low Density Housing - Demolition / Deconstruct...            NaN   \n",
       "10249  Enquiry Centre - Demolition / Deconstruction -...            NaN   \n",
       "\n",
       "                                               Applicant  \\\n",
       "29531  Sayed Pouriya Hosseini DBA: Psquare Engineerin...   \n",
       "13841                                     Gurmandeep Bal   \n",
       "13882        Drew Grimson DBA: Cavendish Contracting Ltd   \n",
       "17198                                           Mo Maani   \n",
       "10249             Niall O'Shea DBA: Kindred Construction   \n",
       "\n",
       "                                        ApplicantAddress    PropertyUse  \\\n",
       "29531  602 W Hastings Street\\nUnit 402\\nVancouver, BC...  Dwelling Uses   \n",
       "13841             2147 E 49th Ave\\nVancouver, BC  V5P1T6  Dwelling Uses   \n",
       "13882  Attn: Drew Grimston\\n5520 Alma St  \\nVancouver...  Dwelling Uses   \n",
       "17198           5200-4000 No 3 Rd\\nRichmond, BC  V6X 0J8  Dwelling Uses   \n",
       "10249       #308-2150 W Broadway\\nVancouver, BC  V6K 4L9  Dwelling Uses   \n",
       "\n",
       "         SpecificUseCategory                  BuildingContractor  \\\n",
       "29531      Multiple Dwelling               WBCM DEVELOPMENT LTD.   \n",
       "13841  Single Detached House                   JB Siteworks Inc.   \n",
       "13882  Single Detached House  J & R Excavation & Demolition Ltd.   \n",
       "17198  Single Detached House    J&R Excavation & Demolition Ltd.   \n",
       "10249  Single Detached House               Fleck Contracting Ltd   \n",
       "\n",
       "                               BuildingContractorAddress  IssueYear  \\\n",
       "29531  1542 Prairie Avenue  \\nPort Coquitlam, BC  V3B...       2024   \n",
       "13841                                                NaN       2025   \n",
       "13882              7782 Progress Way\\nDelta, BC  V4G 1A4       2018   \n",
       "17198                                                NaN       2023   \n",
       "10249      9013 SHAUGHNESSY ST  \\nVancouver, BC  V6P 6R9       2018   \n",
       "\n",
       "              GeoLocalArea                                               Geom  \\\n",
       "29531   Grandview-Woodland  {\"coordinates\":[-123.0723602,49.2677791],\"type...   \n",
       "13841   Grandview-Woodland  {\"coordinates\":[-123.0584832,49.2799155],\"type...   \n",
       "13882    Dunbar-Southlands  {\"coordinates\":[-123.1799357,49.2194302],\"type...   \n",
       "17198  Renfrew-Collingwood  {\"coordinates\":[-123.0478633,49.2546021],\"type...   \n",
       "10249             Oakridge  {\"coordinates\":[-123.112523,49.2333483],\"type\"...   \n",
       "\n",
       "      YearMonth              geo_point_2d  \n",
       "29531   2024-01  49.2677791, -123.0723602  \n",
       "13841   2025-04  49.2799155, -123.0584832  \n",
       "13882   2018-03  49.2194302, -123.1799357  \n",
       "17198   2023-05  49.2546021, -123.0478633  \n",
       "10249   2018-08   49.2333483, -123.112523  "
      ]
     },
     "metadata": {},
     "output_type": "display_data"
    },
    {
     "name": "stdout",
     "output_type": "stream",
     "text": [
      "\n",
      "In the col_null_df, the feature PermitNumberCreatedDate has the following value counts.\n",
      "\n"
     ]
    },
    {
     "data": {
      "text/plain": [
       "PermitNumberCreatedDate\n",
       "2021-05-27    22\n",
       "2022-05-05    22\n",
       "2016-12-22    21\n",
       "2021-04-13    19\n",
       "2024-05-31    16\n",
       "              ..\n",
       "2024-07-04     1\n",
       "2023-04-04     1\n",
       "2024-03-14     1\n",
       "2020-09-22     1\n",
       "2019-01-03     1\n",
       "Name: count, Length: 2182, dtype: int64"
      ]
     },
     "metadata": {},
     "output_type": "display_data"
    },
    {
     "name": "stdout",
     "output_type": "stream",
     "text": [
      "\n",
      "In the col_null_df, the feature ProjectValue has the following value counts.\n",
      "\n"
     ]
    },
    {
     "data": {
      "text/plain": [
       "ProjectValue\n",
       "15000.0      4719\n",
       "40000.0       253\n",
       "20000.0       186\n",
       "30000.0       123\n",
       "50000.0       116\n",
       "             ... \n",
       "420050.0        1\n",
       "122400.0        1\n",
       "1515000.0       1\n",
       "362000.0        1\n",
       "121050.0        1\n",
       "Name: count, Length: 1342, dtype: int64"
      ]
     },
     "metadata": {},
     "output_type": "display_data"
    },
    {
     "name": "stdout",
     "output_type": "stream",
     "text": [
      "\n",
      "In the col_null_df, the feature TypeOfWork has the following value counts.\n",
      "\n"
     ]
    },
    {
     "data": {
      "text/plain": [
       "TypeOfWork\n",
       "Demolition / Deconstruction             5727\n",
       "Addition / Alteration                   2278\n",
       "New Building                             934\n",
       "Salvage and Abatement                     30\n",
       "Outdoor Uses (No Buildings Proposed)      22\n",
       "Temporary Building / Structure            11\n",
       "Name: count, dtype: int64"
      ]
     },
     "metadata": {},
     "output_type": "display_data"
    },
    {
     "name": "stdout",
     "output_type": "stream",
     "text": [
      "\n",
      "In the col_null_df, the feature Address has the following value counts.\n",
      "\n"
     ]
    },
    {
     "data": {
      "text/plain": [
       "Address\n",
       "8460 ASH STREET, Vancouver, BC V6P 3M2           8\n",
       "1501 HARO STREET, Vancouver, BC V6G 1G4          4\n",
       "2901 E HASTINGS STREET, Vancouver, BC V5K 5J1    4\n",
       "3620 W 20TH AVENUE, Vancouver, BC V6S 1E8        3\n",
       "124 DUNLEVY AVENUE, Vancouver, BC V6A 3T6        3\n",
       "                                                ..\n",
       "2083 W 48TH AVENUE, Vancouver, BC V6M 2P4        1\n",
       "2209 E 2ND AVENUE, Vancouver, BC V5N 1G1         1\n",
       "1604 SALSBURY DRIVE, Vancouver, BC V5L 4B8       1\n",
       "3934 LILLOOET STREET, Vancouver, BC V5R 2E8      1\n",
       "6272 BUTLER STREET, Vancouver, BC V5S 3K4        1\n",
       "Name: count, Length: 8597, dtype: int64"
      ]
     },
     "metadata": {},
     "output_type": "display_data"
    },
    {
     "name": "stdout",
     "output_type": "stream",
     "text": [
      "\n",
      "In the col_null_df, the feature Applicant has the following value counts.\n",
      "\n"
     ]
    },
    {
     "data": {
      "text/plain": [
       "Applicant\n",
       "QI LI DBA: LQ Design GROUP Ltd                    212\n",
       "Vincent Wan DBA: D.V. Design Ltd.                 198\n",
       "Carman Kwan DBA: Architectural Collective Inc.    174\n",
       "Michael Lu DBA: DWG Design Work Group Ltd.        101\n",
       "Khang Nguyen DBA: Architrix Design Studio          98\n",
       "                                                 ... \n",
       "Winga LAM                                           1\n",
       "HUEN KEE LIEW                                       1\n",
       "RAJWINDER MANN                                      1\n",
       "Matt Stogryn DBA: iFortune Homes Inc.               1\n",
       "Garinder Deo                                        1\n",
       "Name: count, Length: 2875, dtype: int64"
      ]
     },
     "metadata": {},
     "output_type": "display_data"
    },
    {
     "name": "stdout",
     "output_type": "stream",
     "text": [
      "\n",
      "In the col_null_df, the feature PropertyUse has the following value counts.\n",
      "\n"
     ]
    },
    {
     "data": {
      "text/plain": [
       "PropertyUse\n",
       "Dwelling Uses                                                                        8647\n",
       "Dwelling Uses, Retail Uses                                                             87\n",
       "Dwelling Uses, Parking Uses                                                            53\n",
       "Dwelling Uses, Parking Uses, Retail Uses                                               38\n",
       "Dwelling Uses, Office Uses                                                             21\n",
       "Dwelling Uses, Office Uses, Retail Uses                                                19\n",
       "Dwelling Uses, Retail Uses, Service Uses                                               18\n",
       "Dwelling Uses, Parking Uses, Retail Uses, Service Uses                                 17\n",
       "Dwelling Uses, Service Uses                                                            17\n",
       "Dwelling Uses, Institutional Uses                                                      11\n",
       "Dwelling Uses, Institutional Uses, Parking Uses                                         9\n",
       "Dwelling Uses, Office Uses, Parking Uses, Retail Uses                                   8\n",
       "Cultural/Recreational Uses, Dwelling Uses                                               7\n",
       "Dwelling Uses, Institutional Uses, Parking Uses, Retail Uses                            6\n",
       "Dwelling Uses, Manufacturing Uses                                                       6\n",
       "Dwelling Uses, Office Uses, Parking Uses, Retail Uses, Service Uses                     6\n",
       "Dwelling Uses, Parking Uses, Service Uses                                               4\n",
       "Dwelling Uses, Office Uses, Service Uses                                                4\n",
       "Agricultural Uses, Dwelling Uses                                                        2\n",
       "Agricultural Uses, Dwelling Uses, Parking Uses                                          2\n",
       "Cultural/Recreational Uses, Dwelling Uses, Parking Uses, Retail Uses                    1\n",
       "Dwelling Uses, Office Uses, Parking Uses, Service Uses                                  1\n",
       "Dwelling Uses, Institutional Uses, Office Uses, Retail Uses                             1\n",
       "Dwelling Uses, Live-Work Uses                                                           1\n",
       "Dwelling Uses, Manufacturing Uses, Office Uses, Parking Uses                            1\n",
       "Dwelling Uses, Institutional Uses, Service Uses                                         1\n",
       "Dwelling Uses, Office Uses, Retail Uses, Service Uses                                   1\n",
       "Dwelling Uses, Institutional Uses, Office Uses, Parking Uses, Service Uses              1\n",
       "Cultural/Recreational Uses, Dwelling Uses, Office Uses                                  1\n",
       "Dwelling Uses, Institutional Uses, Parking Uses, Retail Uses, Service Uses              1\n",
       "Cultural/Recreational Uses, Dwelling Uses, Office Uses, Parking Uses, Retail Uses       1\n",
       "Dwelling Uses, Institutional Uses, Office Uses                                          1\n",
       "Dwelling Uses, Institutional Uses, Retail Uses                                          1\n",
       "Cultural/Recreational Uses, Dwelling Uses, Parking Uses                                 1\n",
       "Dwelling Uses, Manufacturing Uses, Office Uses                                          1\n",
       "Dwelling Uses, Institutional Uses, Office Uses, Parking Uses, Retail Uses               1\n",
       "Dwelling Uses, Manufacturing Uses, Office Uses, Retail Uses, Service Uses               1\n",
       "Dwelling Uses, Office Uses, Parking Uses                                                1\n",
       "Dwelling Uses, Manufacturing Uses, Office Uses, Parking Uses, Service Uses              1\n",
       "Dwelling Uses, Live-Work Uses, Parking Uses, Retail Uses, Service Uses                  1\n",
       "Name: count, dtype: int64"
      ]
     },
     "metadata": {},
     "output_type": "display_data"
    },
    {
     "name": "stdout",
     "output_type": "stream",
     "text": [
      "\n",
      "In the col_null_df, the feature SpecificUseCategory has the following value counts.\n",
      "\n"
     ]
    },
    {
     "data": {
      "text/plain": [
       "SpecificUseCategory\n",
       "Single Detached House                                                                                        4922\n",
       "Single Detached House w/Sec Suite                                                                            1459\n",
       "Multiple Dwelling                                                                                            1081\n",
       "Duplex                                                                                                        413\n",
       "Multiple Conversion Dwelling                                                                                  191\n",
       "                                                                                                             ... \n",
       "Printing or Publishing, Dwelling Unit                                                                           1\n",
       "Dwelling Unit w/ Other Use, Restaurant - Class 1                                                                1\n",
       "Miscellaneous Products Mfg-Class A, General Office, Restaurant - Class 1, Multiple Dwelling, Retail Store       1\n",
       "Single Detached House, Barber Shop or Beauty Salon                                                              1\n",
       "Apartment, Social Service Centre                                                                                1\n",
       "Name: count, Length: 215, dtype: int64"
      ]
     },
     "metadata": {},
     "output_type": "display_data"
    },
    {
     "name": "stdout",
     "output_type": "stream",
     "text": [
      "\n",
      "In the col_null_df, the feature BuildingContractor has the following value counts.\n",
      "\n"
     ]
    },
    {
     "data": {
      "text/plain": [
       "BuildingContractor\n",
       "Canadian Excavating Ltd              412\n",
       "Bhullar Excavating and Demolition    260\n",
       "East West Excavating Ltd             236\n",
       "JVT EXCAVATING & DEMOLITION LTD      231\n",
       "Kingsman Excavating Ltd.             177\n",
       "                                    ... \n",
       "A-1 Window Mfg Ltd                     1\n",
       "Thi M T Tran                           1\n",
       "PROFORM CONSTRUCTION GROUP LTD         1\n",
       "Cornat Construction Ltd                1\n",
       "JPC Services Inc                       1\n",
       "Name: count, Length: 1022, dtype: int64"
      ]
     },
     "metadata": {},
     "output_type": "display_data"
    },
    {
     "name": "stdout",
     "output_type": "stream",
     "text": [
      "\n",
      "In the col_null_df, the feature BuildingContractorAddress has the following value counts.\n",
      "\n"
     ]
    },
    {
     "data": {
      "text/plain": [
       "BuildingContractorAddress\n",
       "6898 130 St\\nSurrey, BC  V3W 4J5                            412\n",
       "968 E 53RD AV  \\nVancouver, BC  V5X 1J6                     204\n",
       "Unit 1104, 7360 137 ST\\n15559 59 Ave\\nSurrey, BC  V3S4N8    177\n",
       "12498 55 Ave\\nSurrey, BC  V3X 3V5                           172\n",
       "5649 ASH ST  \\nVancouver, BC  V5Z 3G8                       144\n",
       "                                                           ... \n",
       "2115 W 34TH AV  \\nVancouver, BC  V6M 1G3                      1\n",
       "4830 INVERNESS ST  \\nVancouver, BC  V5V 4X6                   1\n",
       "6498 DUMFRIES ST  \\nVancouver, BC  V5P 3B4                    1\n",
       "4418 JAMES ST  \\nVancouver, BC  V5V 3J1                       1\n",
       "12306 McTavish Rd  \\nPitt Meadows, BC  V3Y 1Z1                1\n",
       "Name: count, Length: 686, dtype: int64"
      ]
     },
     "metadata": {},
     "output_type": "display_data"
    },
    {
     "name": "stdout",
     "output_type": "stream",
     "text": [
      "\n",
      "In the col_null_df, the feature GeoLocalArea has the following value counts.\n",
      "\n"
     ]
    },
    {
     "data": {
      "text/plain": [
       "GeoLocalArea\n",
       "Kensington-Cedar Cottage    966\n",
       "Renfrew-Collingwood         749\n",
       "Hastings-Sunrise            730\n",
       "Riley Park                  634\n",
       "Dunbar-Southlands           614\n",
       "Sunset                      537\n",
       "Kitsilano                   533\n",
       "Grandview-Woodland          448\n",
       "Victoria-Fraserview         418\n",
       "Marpole                     405\n",
       "West Point Grey             331\n",
       "Killarney                   307\n",
       "Kerrisdale                  301\n",
       "Mount Pleasant              297\n",
       "Oakridge                    275\n",
       "Arbutus Ridge               270\n",
       "Shaughnessy                 255\n",
       "South Cambie                240\n",
       "West End                    220\n",
       "Downtown                    165\n",
       "Fairview                    135\n",
       "Strathcona                  106\n",
       "Name: count, dtype: int64"
      ]
     },
     "metadata": {},
     "output_type": "display_data"
    },
    {
     "data": {
      "text/plain": [
       "(9002,\n",
       " 34.8590458488228,\n",
       "         PermitNumber PermitNumberCreatedDate   IssueDate  PermitElapsedDays  \\\n",
       " 2      BP-2022-02723              2022-05-25  2022-11-14                173   \n",
       " 4      DB-2017-02311              2017-05-02  2017-08-23                113   \n",
       " 10     BP-2017-05079              2017-09-27  2018-08-03                310   \n",
       " 12     DB-2019-02085              2019-05-13  2019-06-24                 42   \n",
       " 15     BP-2017-00509              2017-01-30  2017-06-12                133   \n",
       " ...              ...                     ...         ...                ...   \n",
       " 32713  BP-2022-03253              2022-06-22  2022-06-28                  6   \n",
       " 32730  BP-2022-04148              2022-08-25  2023-06-22                301   \n",
       " 32736  BP-2022-05542              2022-12-16  2023-08-22                249   \n",
       " 32740  DB-2019-02157              2019-05-16  2020-06-22                403   \n",
       " 32742  BP-2022-01383              2022-03-16  2022-10-14                212   \n",
       " \n",
       "        ProjectValue                   TypeOfWork  \\\n",
       " 2           15000.0  Demolition / Deconstruction   \n",
       " 4           63306.0  Demolition / Deconstruction   \n",
       " 10          15000.0  Demolition / Deconstruction   \n",
       " 12        4000000.0        Addition / Alteration   \n",
       " 15         160000.0        Addition / Alteration   \n",
       " ...             ...                          ...   \n",
       " 32713     1000000.0        Addition / Alteration   \n",
       " 32730       15000.0  Demolition / Deconstruction   \n",
       " 32736      500000.0        Addition / Alteration   \n",
       " 32740      121050.0        Addition / Alteration   \n",
       " 32742       15000.0  Demolition / Deconstruction   \n",
       " \n",
       "                                                 Address  \\\n",
       " 2             1876 E 49TH AVENUE, Vancouver, BC V5P 1T3   \n",
       " 4              733 W 14TH AVENUE, Vancouver, BC V5Z 1P8   \n",
       " 10           4995 CHESTER STREET, Vancouver, BC V5W 3A7   \n",
       " 12                  2775 COOPERATIVE WAY, Vancouver, BC   \n",
       " 15              939 W 7TH AVENUE, Vancouver, BC V5Z 1C4   \n",
       " ...                                                 ...   \n",
       " 32713     6150 GLENDALOUGH PLACE, Vancouver, BC V6N 1S6   \n",
       " 32730  5807 PRINCE EDWARD STREET, Vancouver, BC V5W 2X8   \n",
       " 32736      245 E HASTINGS STREET, Vancouver, BC V6A 1P2   \n",
       " 32740       5890 CULLODEN STREET, Vancouver, BC V5W 3S2   \n",
       " 32742         6272 BUTLER STREET, Vancouver, BC V5S 3K4   \n",
       " \n",
       "                                       ProjectDescription PermitCategory  \\\n",
       " 2      Low Density Housing - Demolition / Deconstruct...            NaN   \n",
       " 4      Field Review - Demolition / Deconstruction - T...            NaN   \n",
       " 10     Low Density Housing - Demolition / Deconstruct...            NaN   \n",
       " 12     High Density Housing / Commercial - Addition /...            NaN   \n",
       " 15     High Density Housing / Commercial - Addition /...            NaN   \n",
       " ...                                                  ...            ...   \n",
       " 32713  Low Density Housing - Addition / Alteration - ...            NaN   \n",
       " 32730  Low Density Housing - Demolition / Deconstruct...            NaN   \n",
       " 32736  High Density Housing / Commercial - Addition /...            NaN   \n",
       " 32740  Low Density Housing - Addition / Alteration - ...            NaN   \n",
       " 32742  Low Density Housing - Demolition / Deconstruct...            NaN   \n",
       " \n",
       "                                                Applicant  \\\n",
       " 2                                          Ghulam Jelani   \n",
       " 4             Stephen Wish DBA: D. Litchfield & Co. Ltd.   \n",
       " 10                        Crown Pacific Development Ltd.   \n",
       " 12                     Doru Cornescu DBA: Mcintosh Perry   \n",
       " 15                     Doru Cornescu DBA: Mcintosh Perry   \n",
       " ...                                                  ...   \n",
       " 32713           Silveria Roselli DBA: Tavan Developments   \n",
       " 32730  Theorem Developments Ltd DBA: Theorem Developm...   \n",
       " 32736      Roveen Kandola DBA: Guru Nanak's Free Kitchen   \n",
       " 32740                                       Michael Jung   \n",
       " 32742                                       Garinder Deo   \n",
       " \n",
       "                                         ApplicantAddress  \\\n",
       " 2           307 - 6330 Fraser St\\nvancouver, BC  V5W 3A4   \n",
       " 4      3040 Westwood Street\\nPort Coquitlam, BC  V3C 3L7   \n",
       " 10            180 - 15100 Knox Way\\nRichmond, BC  V6V3A8   \n",
       " 12          1003 Brunette Avenue\\nCoquitlam, BC  V3K 6Z5   \n",
       " 15          1003 Brunette Avenue\\nCoquitlam, BC  V3K 6Z5   \n",
       " ...                                                  ...   \n",
       " 32713       150-628 East Kent Ave\\nVancouver, BC  V5X0B2   \n",
       " 32730  Suite 318 938 Howe Street\\nVancouver, BC  V6Z 1N9   \n",
       " 32736        212 Eight Ave\\nNew Westminster, BC  V3L 1Y2   \n",
       " 32740          5890 culloden st\\nVancouver , BC  V5W 3S2   \n",
       " 32742         6255 Butler Street\\nVancouver, BC  V5S 3K5   \n",
       " \n",
       "                              PropertyUse                SpecificUseCategory  \\\n",
       " 2                          Dwelling Uses              Single Detached House   \n",
       " 4                          Dwelling Uses                  Multiple Dwelling   \n",
       " 10                         Dwelling Uses  Single Detached House w/Sec Suite   \n",
       " 12                         Dwelling Uses       Multiple Conversion Dwelling   \n",
       " 15                         Dwelling Uses                  Multiple Dwelling   \n",
       " ...                                  ...                                ...   \n",
       " 32713                      Dwelling Uses              Single Detached House   \n",
       " 32730                      Dwelling Uses              Single Detached House   \n",
       " 32736  Dwelling Uses, Institutional Uses   Apartment, Social Service Centre   \n",
       " 32740                      Dwelling Uses              Single Detached House   \n",
       " 32742                      Dwelling Uses              Single Detached House   \n",
       " \n",
       "                             BuildingContractor  \\\n",
       " 2            Bhullar Excavating and Demolition   \n",
       " 4                      D Litchfield And Co Ltd   \n",
       " 10                      BigCity Excavation Ltd   \n",
       " 12     Columbus Construction & Restoration Ltd   \n",
       " 15                   Silvania Construction Ltd   \n",
       " ...                                        ...   \n",
       " 32713                                      NaN   \n",
       " 32730      Hans Demolition and Excavating Ltd.   \n",
       " 32736                                      NaN   \n",
       " 32740                                      NaN   \n",
       " 32742                   Seymour Excavating Ltd   \n",
       " \n",
       "                              BuildingContractorAddress  IssueYear  \\\n",
       " 2                                                  NaN       2022   \n",
       " 4      3040 Westwood St  \\nPort Coquitlam, BC  V3C 3L7       2017   \n",
       " 10            2295 E 48TH AV  \\nVancouver, BC  V5P 1R9       2018   \n",
       " 12                                                 NaN       2019   \n",
       " 15              3156 Pier Dr  \\nCoquitlam, BC  V3C 5S5       2017   \n",
       " ...                                                ...        ...   \n",
       " 32713                                              NaN       2022   \n",
       " 32730                12498 55 Ave\\nSurrey, BC  V3X 3V5       2023   \n",
       " 32736                                              NaN       2023   \n",
       " 32740                                              NaN       2020   \n",
       " 32742                                              NaN       2022   \n",
       " \n",
       "                    GeoLocalArea  \\\n",
       " 2           Victoria-Fraserview   \n",
       " 4                      Fairview   \n",
       " 10     Kensington-Cedar Cottage   \n",
       " 12          Renfrew-Collingwood   \n",
       " 15                     Fairview   \n",
       " ...                         ...   \n",
       " 32713         Dunbar-Southlands   \n",
       " 32730                    Sunset   \n",
       " 32736                Strathcona   \n",
       " 32740                    Sunset   \n",
       " 32742                 Killarney   \n",
       " \n",
       "                                                     Geom YearMonth  \\\n",
       " 2      {\"coordinates\":[-123.0677731,49.2249324],\"type...   2022-11   \n",
       " 4      {\"coordinates\":[-123.1211653,49.2588709],\"type...   2017-08   \n",
       " 10     {\"coordinates\":[-123.0894871,49.239411],\"type\"...   2018-08   \n",
       " 12     {\"coordinates\":[-123.0477545,49.2573916],\"type...   2019-06   \n",
       " 15     {\"coordinates\":[-123.1254878,49.2653723],\"type...   2017-06   \n",
       " ...                                                  ...       ...   \n",
       " 32713  {\"coordinates\":[-123.1797353,49.2306395],\"type...   2022-06   \n",
       " 32730  {\"coordinates\":[-123.0976557,49.2319655],\"type...   2023-06   \n",
       " 32736  {\"coordinates\":[-123.0984785,49.2816194],\"type...   2023-08   \n",
       " 32740  {\"coordinates\":[-123.0780836,49.2310135],\"type...   2020-06   \n",
       " 32742  {\"coordinates\":[-123.0332274,49.2267889],\"type...   2022-10   \n",
       " \n",
       "                    geo_point_2d  \n",
       " 2      49.2249324, -123.0677731  \n",
       " 4      49.2588709, -123.1211653  \n",
       " 10      49.239411, -123.0894871  \n",
       " 12     49.2573916, -123.0477545  \n",
       " 15     49.2653723, -123.1254878  \n",
       " ...                         ...  \n",
       " 32713  49.2306395, -123.1797353  \n",
       " 32730  49.2319655, -123.0976557  \n",
       " 32736  49.2816194, -123.0984785  \n",
       " 32740  49.2310135, -123.0780836  \n",
       " 32742  49.2267889, -123.0332274  \n",
       " \n",
       " [9002 rows x 20 columns])"
      ]
     },
     "execution_count": 107,
     "metadata": {},
     "output_type": "execute_result"
    }
   ],
   "source": [
    "# Examine PermitCategory nulls\n",
    "examine_col_nulls(dwelling_permits_df,\"PermitCategory\")"
   ]
  },
  {
   "cell_type": "code",
   "execution_count": 108,
   "id": "0b0e9456-b6ad-4b63-b192-88f40cf7d648",
   "metadata": {
    "collapsed": true,
    "jupyter": {
     "outputs_hidden": true,
     "source_hidden": true
    }
   },
   "outputs": [
    {
     "data": {
      "text/plain": [
       "TypeOfWork\n",
       "Addition / Alteration                   10383\n",
       "New Building                             9651\n",
       "Demolition / Deconstruction              5727\n",
       "Salvage and Abatement                      30\n",
       "Outdoor Uses (No Buildings Proposed)       22\n",
       "Temporary Building / Structure             11\n",
       "Name: count, dtype: int64"
      ]
     },
     "execution_count": 108,
     "metadata": {},
     "output_type": "execute_result"
    }
   ],
   "source": [
    "# Value counts for the TypeOfWork column\n",
    "dwelling_permits_df['TypeOfWork'].value_counts()"
   ]
  },
  {
   "cell_type": "markdown",
   "id": "ad9a0483-fee6-4770-8bb1-8070d06ad83a",
   "metadata": {},
   "source": [
    "##### NOTE: the categorical columns will be carefully examined later on to ensure this is an appropriate imputation"
   ]
  },
  {
   "cell_type": "code",
   "execution_count": 109,
   "id": "9fb2756e-3e01-4289-b4e2-88a1a60bcf15",
   "metadata": {
    "collapsed": true,
    "jupyter": {
     "outputs_hidden": true,
     "source_hidden": true
    }
   },
   "outputs": [
    {
     "name": "stderr",
     "output_type": "stream",
     "text": [
      "C:\\Users\\emshe\\AppData\\Local\\Temp\\ipykernel_27956\\1806392076.py:7: SettingWithCopyWarning: \n",
      "A value is trying to be set on a copy of a slice from a DataFrame.\n",
      "Try using .loc[row_indexer,col_indexer] = value instead\n",
      "\n",
      "See the caveats in the documentation: https://pandas.pydata.org/pandas-docs/stable/user_guide/indexing.html#returning-a-view-versus-a-copy\n",
      "  dwelling_permits_df[categorical_cols] = dwelling_permits_df[categorical_cols].fillna('unknown')\n"
     ]
    }
   ],
   "source": [
    "# Impute 'unknown' into selected categorical columns\n",
    "\n",
    "# List of categorical columns you want to impute\n",
    "categorical_cols = ['PermitCategory', 'BuildingContractor']\n",
    "\n",
    "# Fill NaN values in these columns with 'Unknown'\n",
    "dwelling_permits_df[categorical_cols] = dwelling_permits_df[categorical_cols].fillna('unknown')"
   ]
  },
  {
   "cell_type": "markdown",
   "id": "1b97c7b7-0257-4e5a-98b3-511294c7323c",
   "metadata": {},
   "source": [
    "### Step 4.2: removing rows with null geographic info"
   ]
  },
  {
   "cell_type": "markdown",
   "id": "012fc328-8826-41b6-80c9-44afa5ddc27d",
   "metadata": {},
   "source": [
    "##### NOTE: later on, I will carefully investigate to see if we can avoid removing all these rows"
   ]
  },
  {
   "cell_type": "code",
   "execution_count": 115,
   "id": "19140810-cc40-464b-875c-838ee2705d90",
   "metadata": {
    "collapsed": true,
    "jupyter": {
     "outputs_hidden": true,
     "source_hidden": true
    }
   },
   "outputs": [],
   "source": [
    "# Drop rows with nulls in important columns\n",
    "\n",
    "# List of columns to check for nulls\n",
    "# We include essential geographic columns as well as SpecificUseCategory which only has one null value\n",
    "columns_to_check = ['GeoLocalArea', 'Geom', 'geo_point_2d', 'Address','SpecificUseCategory']\n",
    "\n",
    "# Drop rows where any of these columns have nulls\n",
    "dwelling_permits_df = dwelling_permits_df.dropna(subset=columns_to_check)"
   ]
  },
  {
   "cell_type": "markdown",
   "id": "b5c419bd-47fe-44e8-a0d6-605752abf019",
   "metadata": {},
   "source": [
    "## Testing function: test_sequence()"
   ]
  },
  {
   "cell_type": "code",
   "execution_count": 9,
   "id": "d1e31f90-9e34-4c5d-925f-e7dabdc7da14",
   "metadata": {
    "jupyter": {
     "source_hidden": true
    }
   },
   "outputs": [],
   "source": [
    "# Define function to streamline testing\n",
    "def test_sequence():\n",
    "\n",
    "    \"\"\"\n",
    "    Function to test class functionality\n",
    "    \"\"\"\n",
    "    \n",
    "    # Instantiate dwelling permits \n",
    "    dwelling_permits = PermitsProcessor(\"issued_building_permits_filter_dwelling_purposes.csv\")\n",
    "    print('Dwelling permits instantiated.\\n')\n",
    "    \n",
    "    # Clean data \n",
    "    dwelling_permits, dwelling_permits_df = dwelling_permits.clean_data()\n",
    "    print('Data has been cleaned.\\n')\n",
    "    display(dwelling_permits_df.info())\n",
    "    print('')\n",
    "    dwelling_permits.save_processed_data(\"issued_building_permits_filter_dwelling_purposes_cleaned.csv\")\n",
    "    return dwelling_permits, dwelling_permits_df"
   ]
  },
  {
   "cell_type": "code",
   "execution_count": 127,
   "id": "78732a69-68e2-4910-85eb-2c3147aa0a99",
   "metadata": {
    "collapsed": true,
    "jupyter": {
     "outputs_hidden": true,
     "source_hidden": true
    }
   },
   "outputs": [
    {
     "name": "stdout",
     "output_type": "stream",
     "text": [
      "Dwelling permits instantiated.\n",
      "\n",
      "Data has been cleaned.\n",
      "\n",
      "<class 'pandas.core.frame.DataFrame'>\n",
      "Index: 25508 entries, 0 to 32743\n",
      "Data columns (total 16 columns):\n",
      " #   Column                   Non-Null Count  Dtype         \n",
      "---  ------                   --------------  -----         \n",
      " 0   PermitNumber             25508 non-null  object        \n",
      " 1   PermitNumberCreatedDate  25508 non-null  datetime64[ns]\n",
      " 2   IssueDate                25508 non-null  datetime64[ns]\n",
      " 3   PermitElapsedDays        25508 non-null  int64         \n",
      " 4   ProjectValue             25508 non-null  float64       \n",
      " 5   TypeOfWork               25508 non-null  object        \n",
      " 6   Address                  25508 non-null  object        \n",
      " 7   ProjectDescription       25508 non-null  object        \n",
      " 8   PermitCategory           25508 non-null  object        \n",
      " 9   Applicant                25508 non-null  object        \n",
      " 10  PropertyUse              25508 non-null  object        \n",
      " 11  SpecificUseCategory      25508 non-null  object        \n",
      " 12  BuildingContractor       25508 non-null  object        \n",
      " 13  GeoLocalArea             25508 non-null  object        \n",
      " 14  Geom                     25508 non-null  object        \n",
      " 15  geo_point_2d             25508 non-null  object        \n",
      "dtypes: datetime64[ns](2), float64(1), int64(1), object(12)\n",
      "memory usage: 3.3+ MB\n"
     ]
    },
    {
     "data": {
      "text/plain": [
       "None"
      ]
     },
     "metadata": {},
     "output_type": "display_data"
    },
    {
     "name": "stdout",
     "output_type": "stream",
     "text": [
      "Processed data saved to issued_building_permits_filter_dwelling_purposes_cleaned.csv.\n"
     ]
    }
   ],
   "source": [
    "# Run test sequence: initation, cleaning, etc.\n",
    "\n",
    "# Running this code block sets dwelling_permits_df as a clean data set\n",
    "\n",
    "dwelling_permits, dwelling_permits_df = test_sequence()"
   ]
  },
  {
   "cell_type": "markdown",
   "id": "ea207972-a71b-4664-a753-df0e9763de27",
   "metadata": {},
   "source": [
    "## Miscellaneous"
   ]
  },
  {
   "cell_type": "code",
   "execution_count": 113,
   "id": "fe51cba6-d584-4b6b-a812-1f9035532240",
   "metadata": {
    "collapsed": true,
    "jupyter": {
     "outputs_hidden": true,
     "source_hidden": true
    }
   },
   "outputs": [
    {
     "name": "stdout",
     "output_type": "stream",
     "text": [
      "<class 'pandas.core.frame.DataFrame'>\n",
      "Index: 25824 entries, 0 to 32743\n",
      "Data columns (total 16 columns):\n",
      " #   Column                   Non-Null Count  Dtype         \n",
      "---  ------                   --------------  -----         \n",
      " 0   PermitNumber             25824 non-null  object        \n",
      " 1   PermitNumberCreatedDate  25824 non-null  datetime64[ns]\n",
      " 2   IssueDate                25824 non-null  datetime64[ns]\n",
      " 3   PermitElapsedDays        25824 non-null  int64         \n",
      " 4   ProjectValue             25824 non-null  float64       \n",
      " 5   TypeOfWork               25824 non-null  object        \n",
      " 6   Address                  25686 non-null  object        \n",
      " 7   ProjectDescription       25824 non-null  object        \n",
      " 8   PermitCategory           25824 non-null  object        \n",
      " 9   Applicant                25824 non-null  object        \n",
      " 10  PropertyUse              25824 non-null  object        \n",
      " 11  SpecificUseCategory      25823 non-null  object        \n",
      " 12  BuildingContractor       25824 non-null  object        \n",
      " 13  GeoLocalArea             25509 non-null  object        \n",
      " 14  Geom                     25509 non-null  object        \n",
      " 15  geo_point_2d             25509 non-null  object        \n",
      "dtypes: datetime64[ns](2), float64(1), int64(1), object(12)\n",
      "memory usage: 3.3+ MB\n"
     ]
    },
    {
     "data": {
      "text/plain": [
       "None"
      ]
     },
     "metadata": {},
     "output_type": "display_data"
    }
   ],
   "source": [
    "# Display dwelling permits info\n",
    "display(dwelling_permits_df.info())"
   ]
  }
 ],
 "metadata": {
  "kernelspec": {
   "display_name": "Python (capstone_env)",
   "language": "python",
   "name": "capstone_env"
  },
  "language_info": {
   "codemirror_mode": {
    "name": "ipython",
    "version": 3
   },
   "file_extension": ".py",
   "mimetype": "text/x-python",
   "name": "python",
   "nbconvert_exporter": "python",
   "pygments_lexer": "ipython3",
   "version": "3.11.5"
  }
 },
 "nbformat": 4,
 "nbformat_minor": 5
}
