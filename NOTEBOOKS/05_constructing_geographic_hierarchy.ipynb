{
 "cells": [
  {
   "cell_type": "markdown",
   "id": "2dec4291-bb14-4885-9030-8cec82453141",
   "metadata": {},
   "source": [
    "## Preliminaries"
   ]
  },
  {
   "cell_type": "code",
   "execution_count": 1,
   "id": "4122a363-b2af-495a-b22f-e14281f47fa1",
   "metadata": {},
   "outputs": [],
   "source": [
    "# Import necessary libraries\n",
    "import geopandas as gpd\n",
    "import pandas as pd\n",
    "import os"
   ]
  },
  {
   "cell_type": "code",
   "execution_count": 2,
   "id": "552e6332-4457-42fb-a183-675e183104f4",
   "metadata": {},
   "outputs": [],
   "source": [
    "os.chdir(\"C:/Users/emshe/Desktop/BRAINSTATION/CAPSTONE/GIT_REPO\")"
   ]
  },
  {
   "cell_type": "markdown",
   "id": "eaa6ecfc-0485-4613-b2fa-8785ddf594e2",
   "metadata": {},
   "source": [
    "## Helper functions"
   ]
  },
  {
   "cell_type": "code",
   "execution_count": 3,
   "id": "43a14dd3-eaed-4104-ad61-d3ee6bc06465",
   "metadata": {},
   "outputs": [],
   "source": [
    "# Define function to examine dataframes\n",
    "\n",
    "def examine_df(name,df):\n",
    "    \"\"\"\n",
    "    Check basic info about a dataframe df\n",
    "    \"\"\"\n",
    "    \n",
    "    print(f\"\\n\\nNumber of records in the {name} is: {len(df)}\\n\")\n",
    "    print(f\"The columns in the {name} are: {df.columns}\\n\")\n",
    "    print(f\"\\n Other info about {name}:\")\n",
    "    display(df.info())\n",
    "    print(f\"\\n\\nSample of records in the {name}:\")\n",
    "    display(df.head(5))"
   ]
  },
  {
   "cell_type": "markdown",
   "id": "bbe21998-feca-4932-a33b-e01638f354a2",
   "metadata": {},
   "source": [
    "## Load and examine geographic files"
   ]
  },
  {
   "cell_type": "code",
   "execution_count": 4,
   "id": "1f501c37-b8c8-4216-a17e-6222eb9aa21e",
   "metadata": {},
   "outputs": [],
   "source": [
    "# Load the shapefiles\n",
    "zones_gdf = gpd.read_file(\"DATA/GEOGRAPHIC/ZONE_2023/Zone_2023/Zone_2023.shp\")\n",
    "nbhds_gdf = gpd.read_file(\"DATA/GEOGRAPHIC/NBHD_2023/Nbhd_2023/Nbhd_2023.shp\")\n",
    "tracts_gdf = gpd.read_file(\"DATA/GEOGRAPHIC/TRACT_2021/tract_2021.shp\")"
   ]
  },
  {
   "cell_type": "code",
   "execution_count": 5,
   "id": "b6269d93-1f68-4217-8dd8-af7ba3617cba",
   "metadata": {},
   "outputs": [],
   "source": [
    "# Import economic data csvs\n",
    "rent_by_tract = pd.read_csv(\"C:/Users/emshe/Desktop/BRAINSTATION/CAPSTONE/GIT_REPO/DATA/ECONOMIC/PROCESSED_DATAFRAMES/avg_rent_by_tract.csv\", dtype={'Tract': str})\n",
    "rent_by_nbhd = pd.read_csv(\"C:/Users/emshe/Desktop/BRAINSTATION/CAPSTONE/GIT_REPO/DATA/ECONOMIC/PROCESSED_DATAFRAMES/avg_rent_by_neigh.csv\")\n"
   ]
  },
  {
   "cell_type": "code",
   "execution_count": 11,
   "id": "3a683629-f5b9-458b-8406-4cc24d21d626",
   "metadata": {
    "scrolled": true
   },
   "outputs": [
    {
     "name": "stdout",
     "output_type": "stream",
     "text": [
      "\n",
      "\n",
      "Number of records in the Zones Dataframe is: 521\n",
      "\n",
      "The columns in the Zones Dataframe are: Index(['zone', 'zone_geometry'], dtype='object')\n",
      "\n",
      "\n",
      " Other info about Zones Dataframe:\n",
      "<class 'geopandas.geodataframe.GeoDataFrame'>\n",
      "RangeIndex: 521 entries, 0 to 520\n",
      "Data columns (total 2 columns):\n",
      " #   Column         Non-Null Count  Dtype   \n",
      "---  ------         --------------  -----   \n",
      " 0   zone           521 non-null    object  \n",
      " 1   zone_geometry  521 non-null    geometry\n",
      "dtypes: geometry(1), object(1)\n",
      "memory usage: 8.3+ KB\n"
     ]
    },
    {
     "data": {
      "text/plain": [
       "None"
      ]
     },
     "metadata": {},
     "output_type": "display_data"
    },
    {
     "name": "stdout",
     "output_type": "stream",
     "text": [
      "\n",
      "\n",
      "Sample of records in the Zones Dataframe:\n"
     ]
    },
    {
     "data": {
      "text/html": [
       "<div>\n",
       "<style scoped>\n",
       "    .dataframe tbody tr th:only-of-type {\n",
       "        vertical-align: middle;\n",
       "    }\n",
       "\n",
       "    .dataframe tbody tr th {\n",
       "        vertical-align: top;\n",
       "    }\n",
       "\n",
       "    .dataframe thead th {\n",
       "        text-align: right;\n",
       "    }\n",
       "</style>\n",
       "<table border=\"1\" class=\"dataframe\">\n",
       "  <thead>\n",
       "    <tr style=\"text-align: right;\">\n",
       "      <th></th>\n",
       "      <th>zone</th>\n",
       "      <th>zone_geometry</th>\n",
       "    </tr>\n",
       "  </thead>\n",
       "  <tbody>\n",
       "    <tr>\n",
       "      <th>0</th>\n",
       "      <td>Abbotsford</td>\n",
       "      <td>POLYGON ((-13618744.996 6293386.567, -13618650...</td>\n",
       "    </tr>\n",
       "    <tr>\n",
       "      <th>1</th>\n",
       "      <td>Mission</td>\n",
       "      <td>POLYGON ((-13621492.351 6336339.105, -13621109...</td>\n",
       "    </tr>\n",
       "    <tr>\n",
       "      <th>2</th>\n",
       "      <td>Barrie</td>\n",
       "      <td>POLYGON ((-8881653.78 5564338.457, -8881238.81...</td>\n",
       "    </tr>\n",
       "    <tr>\n",
       "      <th>3</th>\n",
       "      <td>City of Belleville</td>\n",
       "      <td>POLYGON ((-8586806.986 5526375.747, -8585636.5...</td>\n",
       "    </tr>\n",
       "    <tr>\n",
       "      <th>4</th>\n",
       "      <td>City of Quinte West</td>\n",
       "      <td>POLYGON ((-8633033.476 5539563.948, -8632904.4...</td>\n",
       "    </tr>\n",
       "  </tbody>\n",
       "</table>\n",
       "</div>"
      ],
      "text/plain": [
       "                  zone                                      zone_geometry\n",
       "0           Abbotsford  POLYGON ((-13618744.996 6293386.567, -13618650...\n",
       "1              Mission  POLYGON ((-13621492.351 6336339.105, -13621109...\n",
       "2               Barrie  POLYGON ((-8881653.78 5564338.457, -8881238.81...\n",
       "3   City of Belleville  POLYGON ((-8586806.986 5526375.747, -8585636.5...\n",
       "4  City of Quinte West  POLYGON ((-8633033.476 5539563.948, -8632904.4..."
      ]
     },
     "metadata": {},
     "output_type": "display_data"
    },
    {
     "name": "stdout",
     "output_type": "stream",
     "text": [
      "\n",
      "\n",
      "Number of records in the Neighborhood dataframe is: 986\n",
      "\n",
      "The columns in the Neighborhood dataframe are: Index(['nbhd', 'nbhd_geometry'], dtype='object')\n",
      "\n",
      "\n",
      " Other info about Neighborhood dataframe:\n",
      "<class 'geopandas.geodataframe.GeoDataFrame'>\n",
      "RangeIndex: 986 entries, 0 to 985\n",
      "Data columns (total 2 columns):\n",
      " #   Column         Non-Null Count  Dtype   \n",
      "---  ------         --------------  -----   \n",
      " 0   nbhd           986 non-null    object  \n",
      " 1   nbhd_geometry  986 non-null    geometry\n",
      "dtypes: geometry(1), object(1)\n",
      "memory usage: 15.5+ KB\n"
     ]
    },
    {
     "data": {
      "text/plain": [
       "None"
      ]
     },
     "metadata": {},
     "output_type": "display_data"
    },
    {
     "name": "stdout",
     "output_type": "stream",
     "text": [
      "\n",
      "\n",
      "Sample of records in the Neighborhood dataframe:\n"
     ]
    },
    {
     "data": {
      "text/html": [
       "<div>\n",
       "<style scoped>\n",
       "    .dataframe tbody tr th:only-of-type {\n",
       "        vertical-align: middle;\n",
       "    }\n",
       "\n",
       "    .dataframe tbody tr th {\n",
       "        vertical-align: top;\n",
       "    }\n",
       "\n",
       "    .dataframe thead th {\n",
       "        text-align: right;\n",
       "    }\n",
       "</style>\n",
       "<table border=\"1\" class=\"dataframe\">\n",
       "  <thead>\n",
       "    <tr style=\"text-align: right;\">\n",
       "      <th></th>\n",
       "      <th>nbhd</th>\n",
       "      <th>nbhd_geometry</th>\n",
       "    </tr>\n",
       "  </thead>\n",
       "  <tbody>\n",
       "    <tr>\n",
       "      <th>0</th>\n",
       "      <td>Mill Lake</td>\n",
       "      <td>POLYGON ((-13614863.669 6283280.399, -13614864...</td>\n",
       "    </tr>\n",
       "    <tr>\n",
       "      <th>1</th>\n",
       "      <td>Abbotsford/McMillan</td>\n",
       "      <td>POLYGON ((-13613246.325 6283847.766, -13613059...</td>\n",
       "    </tr>\n",
       "    <tr>\n",
       "      <th>2</th>\n",
       "      <td>Townline/Clearbrook</td>\n",
       "      <td>POLYGON ((-13613010.778 6288767.654, -13612878...</td>\n",
       "    </tr>\n",
       "    <tr>\n",
       "      <th>3</th>\n",
       "      <td>Mt. Lehman/Aberdeen/Poplar</td>\n",
       "      <td>POLYGON ((-13621010.048 6293378.663, -13621041...</td>\n",
       "    </tr>\n",
       "    <tr>\n",
       "      <th>4</th>\n",
       "      <td>Whatcom/Sumas</td>\n",
       "      <td>POLYGON ((-13604657.482 6297077.561, -13604631...</td>\n",
       "    </tr>\n",
       "  </tbody>\n",
       "</table>\n",
       "</div>"
      ],
      "text/plain": [
       "                         nbhd  \\\n",
       "0                   Mill Lake   \n",
       "1         Abbotsford/McMillan   \n",
       "2         Townline/Clearbrook   \n",
       "3  Mt. Lehman/Aberdeen/Poplar   \n",
       "4               Whatcom/Sumas   \n",
       "\n",
       "                                       nbhd_geometry  \n",
       "0  POLYGON ((-13614863.669 6283280.399, -13614864...  \n",
       "1  POLYGON ((-13613246.325 6283847.766, -13613059...  \n",
       "2  POLYGON ((-13613010.778 6288767.654, -13612878...  \n",
       "3  POLYGON ((-13621010.048 6293378.663, -13621041...  \n",
       "4  POLYGON ((-13604657.482 6297077.561, -13604631...  "
      ]
     },
     "metadata": {},
     "output_type": "display_data"
    },
    {
     "name": "stdout",
     "output_type": "stream",
     "text": [
      "\n",
      "\n",
      "Number of records in the Census tract dataframe is: 6247\n",
      "\n",
      "The columns in the Census tract dataframe are: Index(['tract', 'tract_geometry'], dtype='object')\n",
      "\n",
      "\n",
      " Other info about Census tract dataframe:\n",
      "<class 'geopandas.geodataframe.GeoDataFrame'>\n",
      "RangeIndex: 6247 entries, 0 to 6246\n",
      "Data columns (total 2 columns):\n",
      " #   Column          Non-Null Count  Dtype   \n",
      "---  ------          --------------  -----   \n",
      " 0   tract           6247 non-null   object  \n",
      " 1   tract_geometry  6247 non-null   geometry\n",
      "dtypes: geometry(1), object(1)\n",
      "memory usage: 97.7+ KB\n"
     ]
    },
    {
     "data": {
      "text/plain": [
       "None"
      ]
     },
     "metadata": {},
     "output_type": "display_data"
    },
    {
     "name": "stdout",
     "output_type": "stream",
     "text": [
      "\n",
      "\n",
      "Sample of records in the Census tract dataframe:\n"
     ]
    },
    {
     "data": {
      "text/html": [
       "<div>\n",
       "<style scoped>\n",
       "    .dataframe tbody tr th:only-of-type {\n",
       "        vertical-align: middle;\n",
       "    }\n",
       "\n",
       "    .dataframe tbody tr th {\n",
       "        vertical-align: top;\n",
       "    }\n",
       "\n",
       "    .dataframe thead th {\n",
       "        text-align: right;\n",
       "    }\n",
       "</style>\n",
       "<table border=\"1\" class=\"dataframe\">\n",
       "  <thead>\n",
       "    <tr style=\"text-align: right;\">\n",
       "      <th></th>\n",
       "      <th>tract</th>\n",
       "      <th>tract_geometry</th>\n",
       "    </tr>\n",
       "  </thead>\n",
       "  <tbody>\n",
       "    <tr>\n",
       "      <th>0</th>\n",
       "      <td>5370001.08</td>\n",
       "      <td>POLYGON ((7196507.366 869787.991, 7196501.617 ...</td>\n",
       "    </tr>\n",
       "    <tr>\n",
       "      <th>1</th>\n",
       "      <td>0010002.00</td>\n",
       "      <td>POLYGON ((8980216.643 2151065.36, 8980377.609 ...</td>\n",
       "    </tr>\n",
       "    <tr>\n",
       "      <th>2</th>\n",
       "      <td>5370001.09</td>\n",
       "      <td>POLYGON ((7196437.003 869160.246, 7196434.403 ...</td>\n",
       "    </tr>\n",
       "    <tr>\n",
       "      <th>3</th>\n",
       "      <td>5370120.02</td>\n",
       "      <td>POLYGON ((7189475.703 865662.849, 7189448.943 ...</td>\n",
       "    </tr>\n",
       "    <tr>\n",
       "      <th>4</th>\n",
       "      <td>0010006.00</td>\n",
       "      <td>POLYGON ((8980091.143 2152478.609, 8980100.254...</td>\n",
       "    </tr>\n",
       "  </tbody>\n",
       "</table>\n",
       "</div>"
      ],
      "text/plain": [
       "        tract                                     tract_geometry\n",
       "0  5370001.08  POLYGON ((7196507.366 869787.991, 7196501.617 ...\n",
       "1  0010002.00  POLYGON ((8980216.643 2151065.36, 8980377.609 ...\n",
       "2  5370001.09  POLYGON ((7196437.003 869160.246, 7196434.403 ...\n",
       "3  5370120.02  POLYGON ((7189475.703 865662.849, 7189448.943 ...\n",
       "4  0010006.00  POLYGON ((8980091.143 2152478.609, 8980100.254..."
      ]
     },
     "metadata": {},
     "output_type": "display_data"
    }
   ],
   "source": [
    "# Examine shapefiles\n",
    "\n",
    "gdfs = {\"Zones Dataframe\":zones_gdf,\"Neighborhood dataframe\":nbhds_gdf, \"Census tract dataframe\": tracts_gdf}\n",
    "for name,df in gdfs.items():\n",
    "    examine_df(name,df)"
   ]
  },
  {
   "cell_type": "markdown",
   "id": "2ef9230e-2391-404f-8f7e-f123e0e6768c",
   "metadata": {},
   "source": [
    "## Clean and Preprocess GDFs"
   ]
  },
  {
   "cell_type": "code",
   "execution_count": 10,
   "id": "cb1b6da0-94f8-460b-a155-571e861bc197",
   "metadata": {},
   "outputs": [],
   "source": [
    "# Drop unnecessary columns from gdfs and rename remaining columns\n",
    "\n",
    "# Drop columns from zone gdf\n",
    "zone_columns = ['ZONENAME_E', 'geometry']\n",
    "zones_gdf = zones_gdf[zone_columns]\n",
    "\n",
    "# Rename columns\n",
    "zones_gdf.rename(columns = {'ZONENAME_E': 'zone', 'geometry':'zone_geometry'},inplace = True)\n",
    "\n",
    "# Drop columns from neighborhood gdf\n",
    "nbhd_columns = ['NBHDNAME_E', 'geometry']\n",
    "nbhds_gdf = nbhds_gdf[nbhd_columns]\n",
    "\n",
    "# Rename columns\n",
    "nbhds_gdf.rename(columns = {'NBHDNAME_E': 'nbhd', 'geometry':'nbhd_geometry'},inplace = True)\n",
    "\n",
    "# Drop columns from neighborhood gdf\n",
    "tract_columns = ['CTUID', 'geometry']\n",
    "tracts_gdf = tracts_gdf[tract_columns]\n",
    "\n",
    "# Rename columns\n",
    "tracts_gdf.rename(columns = {'CTUID': 'tract', 'geometry':'tract_geometry'},inplace = True)\n"
   ]
  },
  {
   "cell_type": "code",
   "execution_count": null,
   "id": "db2626ac-677d-4301-a493-4f82f74ceaee",
   "metadata": {},
   "outputs": [],
   "source": []
  },
  {
   "cell_type": "markdown",
   "id": "21c38ace-e8d2-4a86-bee9-c6beb4b1d0f1",
   "metadata": {},
   "source": [
    "## Restrict neighborhoods and census tracts to match CMHC economic data"
   ]
  },
  {
   "cell_type": "code",
   "execution_count": 50,
   "id": "bdb0ff1f-d966-484c-bd7d-20160c820910",
   "metadata": {},
   "outputs": [],
   "source": [
    "# Define the corrections in a dictionary\n",
    "neighborhood_renames = {\n",
    "    'Hastings/Grandview/Woodlands': 'Hastings/Sunrise/Grandview/Woodlands',\n",
    "    'Dundrave/W Vancouver Remainder': 'Dundrave/West Vancouver Remainder'\n",
    "}\n",
    "\n",
    "# Apply the replacements\n",
    "van_nbhds_df['NBHDNAME_E'] = van_nbhds_df['NBHDNAME_E'].replace(neighborhood_renames)\n"
   ]
  },
  {
   "cell_type": "code",
   "execution_count": 76,
   "id": "1e8a8a24-cc8d-407f-9f07-4c963a52c66a",
   "metadata": {
    "collapsed": true,
    "jupyter": {
     "outputs_hidden": true
    }
   },
   "outputs": [
    {
     "name": "stdout",
     "output_type": "stream",
     "text": [
      "\n",
      "\n",
      "Number of records in the CMHC Neighborhood DF is: 68\n",
      "\n",
      "The columns in the CMHC Neighborhood DF are: Index(['METNBHD_UI', 'METCODE', 'NBHDCODE', 'NBHDNAME_E', 'ZONECODE',\n",
      "       'nbhd_geometry'],\n",
      "      dtype='object')\n",
      "\n",
      "\n",
      " Other info about CMHC Neighborhood DF:\n",
      "<class 'geopandas.geodataframe.GeoDataFrame'>\n",
      "Index: 68 entries, 753 to 822\n",
      "Data columns (total 6 columns):\n",
      " #   Column         Non-Null Count  Dtype   \n",
      "---  ------         --------------  -----   \n",
      " 0   METNBHD_UI     68 non-null     object  \n",
      " 1   METCODE        68 non-null     object  \n",
      " 2   NBHDCODE       68 non-null     object  \n",
      " 3   NBHDNAME_E     68 non-null     object  \n",
      " 4   ZONECODE       68 non-null     object  \n",
      " 5   nbhd_geometry  68 non-null     geometry\n",
      "dtypes: geometry(1), object(5)\n",
      "memory usage: 3.7+ KB\n"
     ]
    },
    {
     "data": {
      "text/plain": [
       "None"
      ]
     },
     "metadata": {},
     "output_type": "display_data"
    },
    {
     "name": "stdout",
     "output_type": "stream",
     "text": [
      "\n",
      "\n",
      "Sample of records in the CMHC Neighborhood DF:\n"
     ]
    },
    {
     "data": {
      "text/html": [
       "<div>\n",
       "<style scoped>\n",
       "    .dataframe tbody tr th:only-of-type {\n",
       "        vertical-align: middle;\n",
       "    }\n",
       "\n",
       "    .dataframe tbody tr th {\n",
       "        vertical-align: top;\n",
       "    }\n",
       "\n",
       "    .dataframe thead th {\n",
       "        text-align: right;\n",
       "    }\n",
       "</style>\n",
       "<table border=\"1\" class=\"dataframe\">\n",
       "  <thead>\n",
       "    <tr style=\"text-align: right;\">\n",
       "      <th></th>\n",
       "      <th>METNBHD_UI</th>\n",
       "      <th>METCODE</th>\n",
       "      <th>NBHDCODE</th>\n",
       "      <th>NBHDNAME_E</th>\n",
       "      <th>ZONECODE</th>\n",
       "      <th>nbhd_geometry</th>\n",
       "    </tr>\n",
       "  </thead>\n",
       "  <tbody>\n",
       "    <tr>\n",
       "      <th>753</th>\n",
       "      <td>2410010</td>\n",
       "      <td>2410</td>\n",
       "      <td>010</td>\n",
       "      <td>West End/Stanley Park North</td>\n",
       "      <td>01</td>\n",
       "      <td>POLYGON ((-13707903.991 6324277.893, -13707728...</td>\n",
       "    </tr>\n",
       "    <tr>\n",
       "      <th>754</th>\n",
       "      <td>2410020</td>\n",
       "      <td>2410</td>\n",
       "      <td>020</td>\n",
       "      <td>West End/Stanley Park South</td>\n",
       "      <td>01</td>\n",
       "      <td>POLYGON ((-13709954.808 6328768.906, -13708979...</td>\n",
       "    </tr>\n",
       "    <tr>\n",
       "      <th>755</th>\n",
       "      <td>2410030</td>\n",
       "      <td>2410</td>\n",
       "      <td>030</td>\n",
       "      <td>English Bay</td>\n",
       "      <td>02</td>\n",
       "      <td>POLYGON ((-13708084.955 6323746.439, -13707920...</td>\n",
       "    </tr>\n",
       "    <tr>\n",
       "      <th>756</th>\n",
       "      <td>2410040</td>\n",
       "      <td>2410</td>\n",
       "      <td>040</td>\n",
       "      <td>Downtown Central</td>\n",
       "      <td>03</td>\n",
       "      <td>POLYGON ((-13706769.27 6325491.913, -13706673....</td>\n",
       "    </tr>\n",
       "    <tr>\n",
       "      <th>757</th>\n",
       "      <td>2410050</td>\n",
       "      <td>2410</td>\n",
       "      <td>050</td>\n",
       "      <td>North False Creek</td>\n",
       "      <td>03</td>\n",
       "      <td>POLYGON ((-13705341.854 6321743.569, -13705338...</td>\n",
       "    </tr>\n",
       "  </tbody>\n",
       "</table>\n",
       "</div>"
      ],
      "text/plain": [
       "    METNBHD_UI METCODE NBHDCODE                   NBHDNAME_E ZONECODE  \\\n",
       "753    2410010    2410      010  West End/Stanley Park North       01   \n",
       "754    2410020    2410      020  West End/Stanley Park South       01   \n",
       "755    2410030    2410      030                  English Bay       02   \n",
       "756    2410040    2410      040             Downtown Central       03   \n",
       "757    2410050    2410      050            North False Creek       03   \n",
       "\n",
       "                                         nbhd_geometry  \n",
       "753  POLYGON ((-13707903.991 6324277.893, -13707728...  \n",
       "754  POLYGON ((-13709954.808 6328768.906, -13708979...  \n",
       "755  POLYGON ((-13708084.955 6323746.439, -13707920...  \n",
       "756  POLYGON ((-13706769.27 6325491.913, -13706673....  \n",
       "757  POLYGON ((-13705341.854 6321743.569, -13705338...  "
      ]
     },
     "metadata": {},
     "output_type": "display_data"
    }
   ],
   "source": [
    "# Restrict to neighborhoods appearing in CMHC economic data\n",
    "CMHC_van_nbhds_df = van_nbhds_df[van_nbhds_df['NBHDNAME_E'].isin(avg_rent_by_nbhd['Neigh'])]\n",
    "examine_df('CMHC Neighborhood DF',CMHC_van_nbhds_df)"
   ]
  },
  {
   "cell_type": "markdown",
   "id": "90aff6a6-044e-45df-917b-6718b8233786",
   "metadata": {},
   "source": [
    "## Use geometry columns to merge shapefile datasets"
   ]
  },
  {
   "cell_type": "code",
   "execution_count": 27,
   "id": "e53788f5-512f-4e88-a037-1469bb653a85",
   "metadata": {
    "collapsed": true,
    "jupyter": {
     "outputs_hidden": true,
     "source_hidden": true
    }
   },
   "outputs": [],
   "source": [
    "# Perform spatial join: each neighborhood gets its parent zone's info\n",
    "\n",
    "# Ensure CRS matches\n",
    "van_nbhds_df = van_nbhds_df.to_crs(van_zones_df.crs)\n",
    "\n",
    "\n",
    "van_nbhds_with_zone = gpd.sjoin(\n",
    "    van_nbhds_df,\n",
    "    van_zones_df[['ZONECODE', 'ZONENAME_E', 'zone_geometry']],\n",
    "    how='left',\n",
    "    predicate='within'\n",
    ")"
   ]
  }
 ],
 "metadata": {
  "kernelspec": {
   "display_name": "Python (capstone_env)",
   "language": "python",
   "name": "capstone_env"
  },
  "language_info": {
   "codemirror_mode": {
    "name": "ipython",
    "version": 3
   },
   "file_extension": ".py",
   "mimetype": "text/x-python",
   "name": "python",
   "nbconvert_exporter": "python",
   "pygments_lexer": "ipython3",
   "version": "3.11.5"
  }
 },
 "nbformat": 4,
 "nbformat_minor": 5
}
